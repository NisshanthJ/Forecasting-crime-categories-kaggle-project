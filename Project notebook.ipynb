{
 "cells": [
  {
   "cell_type": "code",
   "execution_count": 1,
   "id": "59d2abd1",
   "metadata": {
    "_cell_guid": "b1076dfc-b9ad-4769-8c92-a6c4dae69d19",
    "_uuid": "8f2839f25d086af736a60e9eeb907d3b93b6e0e5",
    "execution": {
     "iopub.execute_input": "2024-08-08T08:19:55.607057Z",
     "iopub.status.busy": "2024-08-08T08:19:55.606582Z",
     "iopub.status.idle": "2024-08-08T08:19:58.960157Z",
     "shell.execute_reply": "2024-08-08T08:19:58.958205Z"
    },
    "papermill": {
     "duration": 3.391282,
     "end_time": "2024-08-08T08:19:58.962915",
     "exception": false,
     "start_time": "2024-08-08T08:19:55.571633",
     "status": "completed"
    },
    "tags": []
   },
   "outputs": [
    {
     "name": "stdout",
     "output_type": "stream",
     "text": [
      "/kaggle/input/crime-cast-forecasting-crime-categories/sample.csv\n",
      "/kaggle/input/crime-cast-forecasting-crime-categories/train.csv\n",
      "/kaggle/input/crime-cast-forecasting-crime-categories/test.csv\n"
     ]
    }
   ],
   "source": [
    "# This Python 3 environment comes with many helpful analytics libraries installed\n",
    "# It is defined by the kaggle/python Docker image: https://github.com/kaggle/docker-python\n",
    "# For example, here's several helpful packages to load\n",
    "\n",
    "import numpy as np # linear algebra\n",
    "import pandas as pd # data processing, CSV file I/O (e.g. pd.read_csv)\n",
    "import matplotlib.pyplot as plt\n",
    "import seaborn as sns\n",
    "import joblib\n",
    "from sklearn.pipeline import Pipeline\n",
    "from sklearn.impute import SimpleImputer\n",
    "from sklearn.preprocessing import OneHotEncoder,LabelEncoder,StandardScaler,MultiLabelBinarizer\n",
    "from sklearn.compose import ColumnTransformer\n",
    "from sklearn.model_selection import train_test_split,GridSearchCV,RandomizedSearchCV\n",
    "from sklearn.feature_selection import SelectFromModel,SelectKBest,f_classif\n",
    "from sklearn.ensemble import RandomForestClassifier\n",
    "from sklearn.tree import DecisionTreeClassifier\n",
    "from sklearn.metrics import accuracy_score,confusion_matrix,classification_report\n",
    "from xgboost import XGBClassifier\n",
    "from sklearn.linear_model import LogisticRegression\n",
    "from sklearn.neighbors import KNeighborsClassifier\n",
    "from sklearn.svm import SVC\n",
    "\n",
    "\n",
    "# Input data files are available in the read-only \"../input/\" directory\n",
    "# For example, running this (by clicking run or pressing Shift+Enter) will list all files under the input directory\n",
    "\n",
    "import os\n",
    "for dirname, _, filenames in os.walk('/kaggle/input'):\n",
    "    for filename in filenames:\n",
    "        print(os.path.join(dirname, filename))\n",
    "\n",
    "# You can write up to 20GB to the current directory (/kaggle/working/) that gets preserved as output when you create a version using \"Save & Run All\" \n",
    "# You can also write temporary files to /kaggle/temp/, but they won't be saved outside of the current session"
   ]
  },
  {
   "cell_type": "markdown",
   "id": "c4b0af0b",
   "metadata": {
    "papermill": {
     "duration": 0.034016,
     "end_time": "2024-08-08T08:19:59.031682",
     "exception": false,
     "start_time": "2024-08-08T08:19:58.997666",
     "status": "completed"
    },
    "tags": []
   },
   "source": [
    "# Loading the train and test dataset"
   ]
  },
  {
   "cell_type": "code",
   "execution_count": 2,
   "id": "69619791",
   "metadata": {
    "execution": {
     "iopub.execute_input": "2024-08-08T08:19:59.105171Z",
     "iopub.status.busy": "2024-08-08T08:19:59.104440Z",
     "iopub.status.idle": "2024-08-08T08:19:59.406082Z",
     "shell.execute_reply": "2024-08-08T08:19:59.404748Z"
    },
    "papermill": {
     "duration": 0.343504,
     "end_time": "2024-08-08T08:19:59.410404",
     "exception": false,
     "start_time": "2024-08-08T08:19:59.066900",
     "status": "completed"
    },
    "tags": []
   },
   "outputs": [],
   "source": [
    "train_data = pd.read_csv('/kaggle/input/crime-cast-forecasting-crime-categories/train.csv')\n",
    "test_data = pd.read_csv('/kaggle/input/crime-cast-forecasting-crime-categories/test.csv')"
   ]
  },
  {
   "cell_type": "code",
   "execution_count": 3,
   "id": "82212607",
   "metadata": {
    "execution": {
     "iopub.execute_input": "2024-08-08T08:19:59.484844Z",
     "iopub.status.busy": "2024-08-08T08:19:59.484447Z",
     "iopub.status.idle": "2024-08-08T08:19:59.534578Z",
     "shell.execute_reply": "2024-08-08T08:19:59.533318Z"
    },
    "papermill": {
     "duration": 0.090897,
     "end_time": "2024-08-08T08:19:59.537342",
     "exception": false,
     "start_time": "2024-08-08T08:19:59.446445",
     "status": "completed"
    },
    "tags": []
   },
   "outputs": [
    {
     "data": {
      "text/html": [
       "<div>\n",
       "<style scoped>\n",
       "    .dataframe tbody tr th:only-of-type {\n",
       "        vertical-align: middle;\n",
       "    }\n",
       "\n",
       "    .dataframe tbody tr th {\n",
       "        vertical-align: top;\n",
       "    }\n",
       "\n",
       "    .dataframe thead th {\n",
       "        text-align: right;\n",
       "    }\n",
       "</style>\n",
       "<table border=\"1\" class=\"dataframe\">\n",
       "  <thead>\n",
       "    <tr style=\"text-align: right;\">\n",
       "      <th></th>\n",
       "      <th>Location</th>\n",
       "      <th>Cross_Street</th>\n",
       "      <th>Latitude</th>\n",
       "      <th>Longitude</th>\n",
       "      <th>Date_Reported</th>\n",
       "      <th>Date_Occurred</th>\n",
       "      <th>Time_Occurred</th>\n",
       "      <th>Area_ID</th>\n",
       "      <th>Area_Name</th>\n",
       "      <th>Reporting_District_no</th>\n",
       "      <th>...</th>\n",
       "      <th>Victim_Age</th>\n",
       "      <th>Victim_Sex</th>\n",
       "      <th>Victim_Descent</th>\n",
       "      <th>Premise_Code</th>\n",
       "      <th>Premise_Description</th>\n",
       "      <th>Weapon_Used_Code</th>\n",
       "      <th>Weapon_Description</th>\n",
       "      <th>Status</th>\n",
       "      <th>Status_Description</th>\n",
       "      <th>Crime_Category</th>\n",
       "    </tr>\n",
       "  </thead>\n",
       "  <tbody>\n",
       "    <tr>\n",
       "      <th>0</th>\n",
       "      <td>4500    CARPENTER                    AV</td>\n",
       "      <td>NaN</td>\n",
       "      <td>34.1522</td>\n",
       "      <td>-118.3910</td>\n",
       "      <td>03/09/2020 12:00:00 AM</td>\n",
       "      <td>03/06/2020 12:00:00 AM</td>\n",
       "      <td>1800.0</td>\n",
       "      <td>15.0</td>\n",
       "      <td>N Hollywood</td>\n",
       "      <td>1563.0</td>\n",
       "      <td>...</td>\n",
       "      <td>75.0</td>\n",
       "      <td>M</td>\n",
       "      <td>W</td>\n",
       "      <td>101.0</td>\n",
       "      <td>STREET</td>\n",
       "      <td>NaN</td>\n",
       "      <td>NaN</td>\n",
       "      <td>IC</td>\n",
       "      <td>Invest Cont</td>\n",
       "      <td>Property Crimes</td>\n",
       "    </tr>\n",
       "    <tr>\n",
       "      <th>1</th>\n",
       "      <td>45TH                         ST</td>\n",
       "      <td>ALAMEDA                      ST</td>\n",
       "      <td>34.0028</td>\n",
       "      <td>-118.2391</td>\n",
       "      <td>02/27/2020 12:00:00 AM</td>\n",
       "      <td>02/27/2020 12:00:00 AM</td>\n",
       "      <td>1345.0</td>\n",
       "      <td>13.0</td>\n",
       "      <td>Newton</td>\n",
       "      <td>1367.0</td>\n",
       "      <td>...</td>\n",
       "      <td>41.0</td>\n",
       "      <td>M</td>\n",
       "      <td>H</td>\n",
       "      <td>216.0</td>\n",
       "      <td>SWAP MEET</td>\n",
       "      <td>400.0</td>\n",
       "      <td>STRONG-ARM (HANDS, FIST, FEET OR BODILY FORCE)</td>\n",
       "      <td>IC</td>\n",
       "      <td>Invest Cont</td>\n",
       "      <td>Property Crimes</td>\n",
       "    </tr>\n",
       "    <tr>\n",
       "      <th>2</th>\n",
       "      <td>600 E  MARTIN LUTHER KING JR        BL</td>\n",
       "      <td>NaN</td>\n",
       "      <td>34.0111</td>\n",
       "      <td>-118.2653</td>\n",
       "      <td>08/21/2020 12:00:00 AM</td>\n",
       "      <td>08/21/2020 12:00:00 AM</td>\n",
       "      <td>605.0</td>\n",
       "      <td>13.0</td>\n",
       "      <td>Newton</td>\n",
       "      <td>1343.0</td>\n",
       "      <td>...</td>\n",
       "      <td>67.0</td>\n",
       "      <td>M</td>\n",
       "      <td>B</td>\n",
       "      <td>501.0</td>\n",
       "      <td>SINGLE FAMILY DWELLING</td>\n",
       "      <td>NaN</td>\n",
       "      <td>NaN</td>\n",
       "      <td>IC</td>\n",
       "      <td>Invest Cont</td>\n",
       "      <td>Property Crimes</td>\n",
       "    </tr>\n",
       "    <tr>\n",
       "      <th>3</th>\n",
       "      <td>14900    ORO GRANDE                   ST</td>\n",
       "      <td>NaN</td>\n",
       "      <td>34.2953</td>\n",
       "      <td>-118.4590</td>\n",
       "      <td>11/08/2020 12:00:00 AM</td>\n",
       "      <td>11/06/2020 12:00:00 AM</td>\n",
       "      <td>1800.0</td>\n",
       "      <td>19.0</td>\n",
       "      <td>Mission</td>\n",
       "      <td>1924.0</td>\n",
       "      <td>...</td>\n",
       "      <td>61.0</td>\n",
       "      <td>M</td>\n",
       "      <td>H</td>\n",
       "      <td>101.0</td>\n",
       "      <td>STREET</td>\n",
       "      <td>NaN</td>\n",
       "      <td>NaN</td>\n",
       "      <td>IC</td>\n",
       "      <td>Invest Cont</td>\n",
       "      <td>Property Crimes</td>\n",
       "    </tr>\n",
       "    <tr>\n",
       "      <th>4</th>\n",
       "      <td>7100 S  VERMONT                      AV</td>\n",
       "      <td>NaN</td>\n",
       "      <td>33.9787</td>\n",
       "      <td>-118.2918</td>\n",
       "      <td>02/25/2020 12:00:00 AM</td>\n",
       "      <td>02/25/2020 12:00:00 AM</td>\n",
       "      <td>1130.0</td>\n",
       "      <td>12.0</td>\n",
       "      <td>77th Street</td>\n",
       "      <td>1245.0</td>\n",
       "      <td>...</td>\n",
       "      <td>0.0</td>\n",
       "      <td>X</td>\n",
       "      <td>X</td>\n",
       "      <td>401.0</td>\n",
       "      <td>MINI-MART</td>\n",
       "      <td>400.0</td>\n",
       "      <td>STRONG-ARM (HANDS, FIST, FEET OR BODILY FORCE)</td>\n",
       "      <td>IC</td>\n",
       "      <td>Invest Cont</td>\n",
       "      <td>Property Crimes</td>\n",
       "    </tr>\n",
       "  </tbody>\n",
       "</table>\n",
       "<p>5 rows × 22 columns</p>\n",
       "</div>"
      ],
      "text/plain": [
       "                                   Location                     Cross_Street  \\\n",
       "0   4500    CARPENTER                    AV                              NaN   \n",
       "1           45TH                         ST  ALAMEDA                      ST   \n",
       "2    600 E  MARTIN LUTHER KING JR        BL                              NaN   \n",
       "3  14900    ORO GRANDE                   ST                              NaN   \n",
       "4   7100 S  VERMONT                      AV                              NaN   \n",
       "\n",
       "   Latitude  Longitude           Date_Reported           Date_Occurred  \\\n",
       "0   34.1522  -118.3910  03/09/2020 12:00:00 AM  03/06/2020 12:00:00 AM   \n",
       "1   34.0028  -118.2391  02/27/2020 12:00:00 AM  02/27/2020 12:00:00 AM   \n",
       "2   34.0111  -118.2653  08/21/2020 12:00:00 AM  08/21/2020 12:00:00 AM   \n",
       "3   34.2953  -118.4590  11/08/2020 12:00:00 AM  11/06/2020 12:00:00 AM   \n",
       "4   33.9787  -118.2918  02/25/2020 12:00:00 AM  02/25/2020 12:00:00 AM   \n",
       "\n",
       "   Time_Occurred  Area_ID    Area_Name  Reporting_District_no  ...  \\\n",
       "0         1800.0     15.0  N Hollywood                 1563.0  ...   \n",
       "1         1345.0     13.0       Newton                 1367.0  ...   \n",
       "2          605.0     13.0       Newton                 1343.0  ...   \n",
       "3         1800.0     19.0      Mission                 1924.0  ...   \n",
       "4         1130.0     12.0  77th Street                 1245.0  ...   \n",
       "\n",
       "   Victim_Age Victim_Sex  Victim_Descent Premise_Code     Premise_Description  \\\n",
       "0        75.0          M               W        101.0                  STREET   \n",
       "1        41.0          M               H        216.0               SWAP MEET   \n",
       "2        67.0          M               B        501.0  SINGLE FAMILY DWELLING   \n",
       "3        61.0          M               H        101.0                  STREET   \n",
       "4         0.0          X               X        401.0               MINI-MART   \n",
       "\n",
       "   Weapon_Used_Code                              Weapon_Description  Status  \\\n",
       "0               NaN                                             NaN      IC   \n",
       "1             400.0  STRONG-ARM (HANDS, FIST, FEET OR BODILY FORCE)      IC   \n",
       "2               NaN                                             NaN      IC   \n",
       "3               NaN                                             NaN      IC   \n",
       "4             400.0  STRONG-ARM (HANDS, FIST, FEET OR BODILY FORCE)      IC   \n",
       "\n",
       "  Status_Description   Crime_Category  \n",
       "0        Invest Cont  Property Crimes  \n",
       "1        Invest Cont  Property Crimes  \n",
       "2        Invest Cont  Property Crimes  \n",
       "3        Invest Cont  Property Crimes  \n",
       "4        Invest Cont  Property Crimes  \n",
       "\n",
       "[5 rows x 22 columns]"
      ]
     },
     "execution_count": 3,
     "metadata": {},
     "output_type": "execute_result"
    }
   ],
   "source": [
    "train_data.head()"
   ]
  },
  {
   "cell_type": "markdown",
   "id": "b19a307c",
   "metadata": {
    "papermill": {
     "duration": 0.033341,
     "end_time": "2024-08-08T08:19:59.604612",
     "exception": false,
     "start_time": "2024-08-08T08:19:59.571271",
     "status": "completed"
    },
    "tags": []
   },
   "source": [
    "COLUMN DESCRIPTION \n",
    "1. Location: Location of the incident. \n",
    "2. Cross_Street: Cross street near the incident. \n",
    "3. Latitude: Latitude  \n",
    "4. Longitude: Longitude \n",
    "5. Date_Reported: Date the crime was reported. \n",
    "6. Date_Occurred: Date the crime occurred. \n",
    "7. Time_Occurred: Time the crime occurred. \n",
    "8. Area_ID: ID of area the crime occurred. \n",
    "9. Area_Name: Name of the area where the crime has occurred. \n",
    "10. Reporting_District_no: Crime Reporting district number.\n",
    "11. Part 1-2: Part classification of the crime (1 or 2). \n",
    "12. Modus_Operandi: Mode of operation used in the crime. \n",
    "13. Victim_Age: Victim's Age\n",
    "14. Victim_Sex: Victim's Sex \n",
    "15. Victim_Descent: Descent of the victim.  \n",
    "16. Premise_Code:Code of the premise where the crime has occurred.\n",
    "17. Premise_Description: Description of the premise.\n",
    "18. Weapon_Used_Code: Code of the weapon used.\n",
    "19. Weapon_Description: Description of the weapon used. \n",
    "20. Status: Status of the investigation. \n",
    "21. Status_Description: Description of the status.  \n",
    "22. Crime_Category: Category of the crime (Target variable).  \n",
    "\n"
   ]
  },
  {
   "cell_type": "code",
   "execution_count": 4,
   "id": "f52a40d2",
   "metadata": {
    "execution": {
     "iopub.execute_input": "2024-08-08T08:19:59.673073Z",
     "iopub.status.busy": "2024-08-08T08:19:59.672647Z",
     "iopub.status.idle": "2024-08-08T08:19:59.701798Z",
     "shell.execute_reply": "2024-08-08T08:19:59.700723Z"
    },
    "papermill": {
     "duration": 0.066434,
     "end_time": "2024-08-08T08:19:59.704303",
     "exception": false,
     "start_time": "2024-08-08T08:19:59.637869",
     "status": "completed"
    },
    "tags": []
   },
   "outputs": [
    {
     "data": {
      "text/html": [
       "<div>\n",
       "<style scoped>\n",
       "    .dataframe tbody tr th:only-of-type {\n",
       "        vertical-align: middle;\n",
       "    }\n",
       "\n",
       "    .dataframe tbody tr th {\n",
       "        vertical-align: top;\n",
       "    }\n",
       "\n",
       "    .dataframe thead th {\n",
       "        text-align: right;\n",
       "    }\n",
       "</style>\n",
       "<table border=\"1\" class=\"dataframe\">\n",
       "  <thead>\n",
       "    <tr style=\"text-align: right;\">\n",
       "      <th></th>\n",
       "      <th>Location</th>\n",
       "      <th>Cross_Street</th>\n",
       "      <th>Latitude</th>\n",
       "      <th>Longitude</th>\n",
       "      <th>Date_Reported</th>\n",
       "      <th>Date_Occurred</th>\n",
       "      <th>Time_Occurred</th>\n",
       "      <th>Area_ID</th>\n",
       "      <th>Area_Name</th>\n",
       "      <th>Reporting_District_no</th>\n",
       "      <th>...</th>\n",
       "      <th>Victim_Age</th>\n",
       "      <th>Victim_Sex</th>\n",
       "      <th>Victim_Descent</th>\n",
       "      <th>Premise_Code</th>\n",
       "      <th>Premise_Description</th>\n",
       "      <th>Weapon_Used_Code</th>\n",
       "      <th>Weapon_Description</th>\n",
       "      <th>Status</th>\n",
       "      <th>Status_Description</th>\n",
       "      <th>Crime_Category</th>\n",
       "    </tr>\n",
       "  </thead>\n",
       "  <tbody>\n",
       "    <tr>\n",
       "      <th>19995</th>\n",
       "      <td>5100 W  ADAMS                        BL</td>\n",
       "      <td>NaN</td>\n",
       "      <td>34.0334</td>\n",
       "      <td>-118.3523</td>\n",
       "      <td>05/24/2020 12:00:00 AM</td>\n",
       "      <td>05/24/2020 12:00:00 AM</td>\n",
       "      <td>700.0</td>\n",
       "      <td>3.0</td>\n",
       "      <td>Southwest</td>\n",
       "      <td>303.0</td>\n",
       "      <td>...</td>\n",
       "      <td>51.0</td>\n",
       "      <td>M</td>\n",
       "      <td>H</td>\n",
       "      <td>501.0</td>\n",
       "      <td>SINGLE FAMILY DWELLING</td>\n",
       "      <td>400.0</td>\n",
       "      <td>STRONG-ARM (HANDS, FIST, FEET OR BODILY FORCE)</td>\n",
       "      <td>IC</td>\n",
       "      <td>Invest Cont</td>\n",
       "      <td>Violent Crimes</td>\n",
       "    </tr>\n",
       "    <tr>\n",
       "      <th>19996</th>\n",
       "      <td>16900    ROSCOE                       BL</td>\n",
       "      <td>NaN</td>\n",
       "      <td>34.2212</td>\n",
       "      <td>-118.5011</td>\n",
       "      <td>12/25/2020 12:00:00 AM</td>\n",
       "      <td>12/25/2020 12:00:00 AM</td>\n",
       "      <td>259.0</td>\n",
       "      <td>10.0</td>\n",
       "      <td>West Valley</td>\n",
       "      <td>1008.0</td>\n",
       "      <td>...</td>\n",
       "      <td>0.0</td>\n",
       "      <td>M</td>\n",
       "      <td>W</td>\n",
       "      <td>301.0</td>\n",
       "      <td>GAS STATION</td>\n",
       "      <td>NaN</td>\n",
       "      <td>NaN</td>\n",
       "      <td>IC</td>\n",
       "      <td>Invest Cont</td>\n",
       "      <td>Property Crimes</td>\n",
       "    </tr>\n",
       "    <tr>\n",
       "      <th>19997</th>\n",
       "      <td>1000 S  SHENANDOAH                   ST</td>\n",
       "      <td>NaN</td>\n",
       "      <td>34.0571</td>\n",
       "      <td>-118.3815</td>\n",
       "      <td>09/25/2020 12:00:00 AM</td>\n",
       "      <td>09/25/2020 12:00:00 AM</td>\n",
       "      <td>1400.0</td>\n",
       "      <td>8.0</td>\n",
       "      <td>West LA</td>\n",
       "      <td>849.0</td>\n",
       "      <td>...</td>\n",
       "      <td>42.0</td>\n",
       "      <td>M</td>\n",
       "      <td>H</td>\n",
       "      <td>102.0</td>\n",
       "      <td>SIDEWALK</td>\n",
       "      <td>NaN</td>\n",
       "      <td>NaN</td>\n",
       "      <td>IC</td>\n",
       "      <td>Invest Cont</td>\n",
       "      <td>Property Crimes</td>\n",
       "    </tr>\n",
       "    <tr>\n",
       "      <th>19998</th>\n",
       "      <td>300 W  SEPULVEDA                    ST</td>\n",
       "      <td>NaN</td>\n",
       "      <td>33.7451</td>\n",
       "      <td>-118.2835</td>\n",
       "      <td>06/10/2020 12:00:00 AM</td>\n",
       "      <td>06/10/2020 12:00:00 AM</td>\n",
       "      <td>600.0</td>\n",
       "      <td>5.0</td>\n",
       "      <td>Harbor</td>\n",
       "      <td>558.0</td>\n",
       "      <td>...</td>\n",
       "      <td>76.0</td>\n",
       "      <td>F</td>\n",
       "      <td>H</td>\n",
       "      <td>501.0</td>\n",
       "      <td>SINGLE FAMILY DWELLING</td>\n",
       "      <td>NaN</td>\n",
       "      <td>NaN</td>\n",
       "      <td>IC</td>\n",
       "      <td>Invest Cont</td>\n",
       "      <td>Crimes against Public Order</td>\n",
       "    </tr>\n",
       "    <tr>\n",
       "      <th>19999</th>\n",
       "      <td>DALTON                       AV</td>\n",
       "      <td>VERNON                       AV</td>\n",
       "      <td>34.0037</td>\n",
       "      <td>-118.3034</td>\n",
       "      <td>02/18/2020 12:00:00 AM</td>\n",
       "      <td>02/17/2020 12:00:00 AM</td>\n",
       "      <td>1800.0</td>\n",
       "      <td>3.0</td>\n",
       "      <td>Southwest</td>\n",
       "      <td>397.0</td>\n",
       "      <td>...</td>\n",
       "      <td>0.0</td>\n",
       "      <td>NaN</td>\n",
       "      <td>NaN</td>\n",
       "      <td>101.0</td>\n",
       "      <td>STREET</td>\n",
       "      <td>NaN</td>\n",
       "      <td>NaN</td>\n",
       "      <td>IC</td>\n",
       "      <td>Invest Cont</td>\n",
       "      <td>Property Crimes</td>\n",
       "    </tr>\n",
       "  </tbody>\n",
       "</table>\n",
       "<p>5 rows × 22 columns</p>\n",
       "</div>"
      ],
      "text/plain": [
       "                                       Location  \\\n",
       "19995   5100 W  ADAMS                        BL   \n",
       "19996  16900    ROSCOE                       BL   \n",
       "19997   1000 S  SHENANDOAH                   ST   \n",
       "19998    300 W  SEPULVEDA                    ST   \n",
       "19999           DALTON                       AV   \n",
       "\n",
       "                          Cross_Street  Latitude  Longitude  \\\n",
       "19995                              NaN   34.0334  -118.3523   \n",
       "19996                              NaN   34.2212  -118.5011   \n",
       "19997                              NaN   34.0571  -118.3815   \n",
       "19998                              NaN   33.7451  -118.2835   \n",
       "19999  VERNON                       AV   34.0037  -118.3034   \n",
       "\n",
       "                Date_Reported           Date_Occurred  Time_Occurred  Area_ID  \\\n",
       "19995  05/24/2020 12:00:00 AM  05/24/2020 12:00:00 AM          700.0      3.0   \n",
       "19996  12/25/2020 12:00:00 AM  12/25/2020 12:00:00 AM          259.0     10.0   \n",
       "19997  09/25/2020 12:00:00 AM  09/25/2020 12:00:00 AM         1400.0      8.0   \n",
       "19998  06/10/2020 12:00:00 AM  06/10/2020 12:00:00 AM          600.0      5.0   \n",
       "19999  02/18/2020 12:00:00 AM  02/17/2020 12:00:00 AM         1800.0      3.0   \n",
       "\n",
       "         Area_Name  Reporting_District_no  ...  Victim_Age Victim_Sex  \\\n",
       "19995    Southwest                  303.0  ...        51.0          M   \n",
       "19996  West Valley                 1008.0  ...         0.0          M   \n",
       "19997      West LA                  849.0  ...        42.0          M   \n",
       "19998       Harbor                  558.0  ...        76.0          F   \n",
       "19999    Southwest                  397.0  ...         0.0        NaN   \n",
       "\n",
       "       Victim_Descent Premise_Code     Premise_Description  Weapon_Used_Code  \\\n",
       "19995               H        501.0  SINGLE FAMILY DWELLING             400.0   \n",
       "19996               W        301.0             GAS STATION               NaN   \n",
       "19997               H        102.0                SIDEWALK               NaN   \n",
       "19998               H        501.0  SINGLE FAMILY DWELLING               NaN   \n",
       "19999             NaN        101.0                  STREET               NaN   \n",
       "\n",
       "                                   Weapon_Description  Status  \\\n",
       "19995  STRONG-ARM (HANDS, FIST, FEET OR BODILY FORCE)      IC   \n",
       "19996                                             NaN      IC   \n",
       "19997                                             NaN      IC   \n",
       "19998                                             NaN      IC   \n",
       "19999                                             NaN      IC   \n",
       "\n",
       "      Status_Description               Crime_Category  \n",
       "19995        Invest Cont               Violent Crimes  \n",
       "19996        Invest Cont              Property Crimes  \n",
       "19997        Invest Cont              Property Crimes  \n",
       "19998        Invest Cont  Crimes against Public Order  \n",
       "19999        Invest Cont              Property Crimes  \n",
       "\n",
       "[5 rows x 22 columns]"
      ]
     },
     "execution_count": 4,
     "metadata": {},
     "output_type": "execute_result"
    }
   ],
   "source": [
    "train_data.tail()"
   ]
  },
  {
   "cell_type": "code",
   "execution_count": 5,
   "id": "ff22a78f",
   "metadata": {
    "execution": {
     "iopub.execute_input": "2024-08-08T08:19:59.773057Z",
     "iopub.status.busy": "2024-08-08T08:19:59.772603Z",
     "iopub.status.idle": "2024-08-08T08:19:59.779826Z",
     "shell.execute_reply": "2024-08-08T08:19:59.778677Z"
    },
    "papermill": {
     "duration": 0.04462,
     "end_time": "2024-08-08T08:19:59.782214",
     "exception": false,
     "start_time": "2024-08-08T08:19:59.737594",
     "status": "completed"
    },
    "tags": []
   },
   "outputs": [
    {
     "data": {
      "text/plain": [
       "(20000, 22)"
      ]
     },
     "execution_count": 5,
     "metadata": {},
     "output_type": "execute_result"
    }
   ],
   "source": [
    "train_data.shape"
   ]
  },
  {
   "cell_type": "code",
   "execution_count": 6,
   "id": "5006d448",
   "metadata": {
    "execution": {
     "iopub.execute_input": "2024-08-08T08:19:59.851830Z",
     "iopub.status.busy": "2024-08-08T08:19:59.850633Z",
     "iopub.status.idle": "2024-08-08T08:19:59.900741Z",
     "shell.execute_reply": "2024-08-08T08:19:59.899461Z"
    },
    "papermill": {
     "duration": 0.087659,
     "end_time": "2024-08-08T08:19:59.903594",
     "exception": false,
     "start_time": "2024-08-08T08:19:59.815935",
     "status": "completed"
    },
    "tags": []
   },
   "outputs": [
    {
     "name": "stdout",
     "output_type": "stream",
     "text": [
      "<class 'pandas.core.frame.DataFrame'>\n",
      "RangeIndex: 20000 entries, 0 to 19999\n",
      "Data columns (total 22 columns):\n",
      " #   Column                 Non-Null Count  Dtype  \n",
      "---  ------                 --------------  -----  \n",
      " 0   Location               20000 non-null  object \n",
      " 1   Cross_Street           3448 non-null   object \n",
      " 2   Latitude               20000 non-null  float64\n",
      " 3   Longitude              20000 non-null  float64\n",
      " 4   Date_Reported          20000 non-null  object \n",
      " 5   Date_Occurred          20000 non-null  object \n",
      " 6   Time_Occurred          20000 non-null  float64\n",
      " 7   Area_ID                20000 non-null  float64\n",
      " 8   Area_Name              20000 non-null  object \n",
      " 9   Reporting_District_no  20000 non-null  float64\n",
      " 10  Part 1-2               20000 non-null  float64\n",
      " 11  Modus_Operandi         17259 non-null  object \n",
      " 12  Victim_Age             20000 non-null  float64\n",
      " 13  Victim_Sex             17376 non-null  object \n",
      " 14  Victim_Descent         17376 non-null  object \n",
      " 15  Premise_Code           20000 non-null  float64\n",
      " 16  Premise_Description    19995 non-null  object \n",
      " 17  Weapon_Used_Code       7335 non-null   float64\n",
      " 18  Weapon_Description     7335 non-null   object \n",
      " 19  Status                 20000 non-null  object \n",
      " 20  Status_Description     20000 non-null  object \n",
      " 21  Crime_Category         20000 non-null  object \n",
      "dtypes: float64(9), object(13)\n",
      "memory usage: 3.4+ MB\n"
     ]
    }
   ],
   "source": [
    "train_data.info()"
   ]
  },
  {
   "cell_type": "code",
   "execution_count": 7,
   "id": "4343a46e",
   "metadata": {
    "execution": {
     "iopub.execute_input": "2024-08-08T08:19:59.972659Z",
     "iopub.status.busy": "2024-08-08T08:19:59.972256Z",
     "iopub.status.idle": "2024-08-08T08:20:00.012479Z",
     "shell.execute_reply": "2024-08-08T08:20:00.011318Z"
    },
    "papermill": {
     "duration": 0.078025,
     "end_time": "2024-08-08T08:20:00.015525",
     "exception": false,
     "start_time": "2024-08-08T08:19:59.937500",
     "status": "completed"
    },
    "tags": []
   },
   "outputs": [
    {
     "data": {
      "text/plain": [
       "Location                 12399\n",
       "Cross_Street              1495\n",
       "Latitude                  3622\n",
       "Longitude                 3578\n",
       "Date_Reported              811\n",
       "Date_Occurred              366\n",
       "Time_Occurred              996\n",
       "Area_ID                     21\n",
       "Area_Name                   21\n",
       "Reporting_District_no     1120\n",
       "Part 1-2                     2\n",
       "Modus_Operandi           10489\n",
       "Victim_Age                 100\n",
       "Victim_Sex                   4\n",
       "Victim_Descent              17\n",
       "Premise_Code               217\n",
       "Premise_Description        216\n",
       "Weapon_Used_Code            57\n",
       "Weapon_Description          57\n",
       "Status                       5\n",
       "Status_Description           5\n",
       "Crime_Category               6\n",
       "dtype: int64"
      ]
     },
     "execution_count": 7,
     "metadata": {},
     "output_type": "execute_result"
    }
   ],
   "source": [
    "train_data.nunique()"
   ]
  },
  {
   "cell_type": "markdown",
   "id": "ff46ab8a",
   "metadata": {
    "papermill": {
     "duration": 0.098687,
     "end_time": "2024-08-08T08:20:00.149283",
     "exception": false,
     "start_time": "2024-08-08T08:20:00.050596",
     "status": "completed"
    },
    "tags": []
   },
   "source": [
    "**INSIGHTS**\n",
    "\n",
    "* **Area_ID and Area_Name are referring to the same element**\n",
    "\n",
    "* **Weapon_Used_Code and Weapon_Description are referring to the same element**\n",
    "\n",
    "* **Status and Status_Description are referring to the same element**"
   ]
  },
  {
   "cell_type": "markdown",
   "id": "955b496b",
   "metadata": {
    "papermill": {
     "duration": 0.033285,
     "end_time": "2024-08-08T08:20:00.217776",
     "exception": false,
     "start_time": "2024-08-08T08:20:00.184491",
     "status": "completed"
    },
    "tags": []
   },
   "source": [
    "# EDA"
   ]
  },
  {
   "cell_type": "code",
   "execution_count": 8,
   "id": "7d3c4146",
   "metadata": {
    "execution": {
     "iopub.execute_input": "2024-08-08T08:20:00.288680Z",
     "iopub.status.busy": "2024-08-08T08:20:00.288251Z",
     "iopub.status.idle": "2024-08-08T08:20:00.450194Z",
     "shell.execute_reply": "2024-08-08T08:20:00.448845Z"
    },
    "papermill": {
     "duration": 0.200811,
     "end_time": "2024-08-08T08:20:00.453031",
     "exception": false,
     "start_time": "2024-08-08T08:20:00.252220",
     "status": "completed"
    },
    "tags": []
   },
   "outputs": [
    {
     "data": {
      "text/html": [
       "<div>\n",
       "<style scoped>\n",
       "    .dataframe tbody tr th:only-of-type {\n",
       "        vertical-align: middle;\n",
       "    }\n",
       "\n",
       "    .dataframe tbody tr th {\n",
       "        vertical-align: top;\n",
       "    }\n",
       "\n",
       "    .dataframe thead th {\n",
       "        text-align: right;\n",
       "    }\n",
       "</style>\n",
       "<table border=\"1\" class=\"dataframe\">\n",
       "  <thead>\n",
       "    <tr style=\"text-align: right;\">\n",
       "      <th></th>\n",
       "      <th>Location</th>\n",
       "      <th>Cross_Street</th>\n",
       "      <th>Latitude</th>\n",
       "      <th>Longitude</th>\n",
       "      <th>Date_Reported</th>\n",
       "      <th>Date_Occurred</th>\n",
       "      <th>Time_Occurred</th>\n",
       "      <th>Area_ID</th>\n",
       "      <th>Area_Name</th>\n",
       "      <th>Reporting_District_no</th>\n",
       "      <th>...</th>\n",
       "      <th>Victim_Age</th>\n",
       "      <th>Victim_Sex</th>\n",
       "      <th>Victim_Descent</th>\n",
       "      <th>Premise_Code</th>\n",
       "      <th>Premise_Description</th>\n",
       "      <th>Weapon_Used_Code</th>\n",
       "      <th>Weapon_Description</th>\n",
       "      <th>Status</th>\n",
       "      <th>Status_Description</th>\n",
       "      <th>Crime_Category</th>\n",
       "    </tr>\n",
       "  </thead>\n",
       "  <tbody>\n",
       "    <tr>\n",
       "      <th>count</th>\n",
       "      <td>20000</td>\n",
       "      <td>3448</td>\n",
       "      <td>20000.000000</td>\n",
       "      <td>20000.000000</td>\n",
       "      <td>20000</td>\n",
       "      <td>20000</td>\n",
       "      <td>20000.000000</td>\n",
       "      <td>20000.000000</td>\n",
       "      <td>20000</td>\n",
       "      <td>20000.000000</td>\n",
       "      <td>...</td>\n",
       "      <td>20000.000000</td>\n",
       "      <td>17376</td>\n",
       "      <td>17376</td>\n",
       "      <td>20000.000000</td>\n",
       "      <td>19995</td>\n",
       "      <td>7335.000000</td>\n",
       "      <td>7335</td>\n",
       "      <td>20000</td>\n",
       "      <td>20000</td>\n",
       "      <td>20000</td>\n",
       "    </tr>\n",
       "    <tr>\n",
       "      <th>unique</th>\n",
       "      <td>12399</td>\n",
       "      <td>1495</td>\n",
       "      <td>NaN</td>\n",
       "      <td>NaN</td>\n",
       "      <td>811</td>\n",
       "      <td>366</td>\n",
       "      <td>NaN</td>\n",
       "      <td>NaN</td>\n",
       "      <td>21</td>\n",
       "      <td>NaN</td>\n",
       "      <td>...</td>\n",
       "      <td>NaN</td>\n",
       "      <td>4</td>\n",
       "      <td>17</td>\n",
       "      <td>NaN</td>\n",
       "      <td>216</td>\n",
       "      <td>NaN</td>\n",
       "      <td>57</td>\n",
       "      <td>5</td>\n",
       "      <td>5</td>\n",
       "      <td>6</td>\n",
       "    </tr>\n",
       "    <tr>\n",
       "      <th>top</th>\n",
       "      <td>6TH</td>\n",
       "      <td>BROADWAY</td>\n",
       "      <td>NaN</td>\n",
       "      <td>NaN</td>\n",
       "      <td>07/13/2020 12:00:00 AM</td>\n",
       "      <td>01/01/2020 12:00:00 AM</td>\n",
       "      <td>NaN</td>\n",
       "      <td>NaN</td>\n",
       "      <td>77th Street</td>\n",
       "      <td>NaN</td>\n",
       "      <td>...</td>\n",
       "      <td>NaN</td>\n",
       "      <td>M</td>\n",
       "      <td>H</td>\n",
       "      <td>NaN</td>\n",
       "      <td>STREET</td>\n",
       "      <td>NaN</td>\n",
       "      <td>STRONG-ARM (HANDS, FIST, FEET OR BODILY FORCE)</td>\n",
       "      <td>IC</td>\n",
       "      <td>Invest Cont</td>\n",
       "      <td>Property Crimes</td>\n",
       "    </tr>\n",
       "    <tr>\n",
       "      <th>freq</th>\n",
       "      <td>33</td>\n",
       "      <td>56</td>\n",
       "      <td>NaN</td>\n",
       "      <td>NaN</td>\n",
       "      <td>87</td>\n",
       "      <td>137</td>\n",
       "      <td>NaN</td>\n",
       "      <td>NaN</td>\n",
       "      <td>1345</td>\n",
       "      <td>NaN</td>\n",
       "      <td>...</td>\n",
       "      <td>NaN</td>\n",
       "      <td>8538</td>\n",
       "      <td>6143</td>\n",
       "      <td>NaN</td>\n",
       "      <td>5033</td>\n",
       "      <td>NaN</td>\n",
       "      <td>3990</td>\n",
       "      <td>15236</td>\n",
       "      <td>15236</td>\n",
       "      <td>11666</td>\n",
       "    </tr>\n",
       "    <tr>\n",
       "      <th>mean</th>\n",
       "      <td>NaN</td>\n",
       "      <td>NaN</td>\n",
       "      <td>33.940704</td>\n",
       "      <td>-117.893072</td>\n",
       "      <td>NaN</td>\n",
       "      <td>NaN</td>\n",
       "      <td>1352.380350</td>\n",
       "      <td>10.834250</td>\n",
       "      <td>NaN</td>\n",
       "      <td>1129.599200</td>\n",
       "      <td>...</td>\n",
       "      <td>30.135000</td>\n",
       "      <td>NaN</td>\n",
       "      <td>NaN</td>\n",
       "      <td>297.176950</td>\n",
       "      <td>NaN</td>\n",
       "      <td>366.405044</td>\n",
       "      <td>NaN</td>\n",
       "      <td>NaN</td>\n",
       "      <td>NaN</td>\n",
       "      <td>NaN</td>\n",
       "    </tr>\n",
       "    <tr>\n",
       "      <th>std</th>\n",
       "      <td>NaN</td>\n",
       "      <td>NaN</td>\n",
       "      <td>2.126810</td>\n",
       "      <td>7.377726</td>\n",
       "      <td>NaN</td>\n",
       "      <td>NaN</td>\n",
       "      <td>646.100291</td>\n",
       "      <td>6.033166</td>\n",
       "      <td>NaN</td>\n",
       "      <td>603.330519</td>\n",
       "      <td>...</td>\n",
       "      <td>21.863645</td>\n",
       "      <td>NaN</td>\n",
       "      <td>NaN</td>\n",
       "      <td>212.007298</td>\n",
       "      <td>NaN</td>\n",
       "      <td>120.485687</td>\n",
       "      <td>NaN</td>\n",
       "      <td>NaN</td>\n",
       "      <td>NaN</td>\n",
       "      <td>NaN</td>\n",
       "    </tr>\n",
       "    <tr>\n",
       "      <th>min</th>\n",
       "      <td>NaN</td>\n",
       "      <td>NaN</td>\n",
       "      <td>0.000000</td>\n",
       "      <td>-118.663400</td>\n",
       "      <td>NaN</td>\n",
       "      <td>NaN</td>\n",
       "      <td>1.000000</td>\n",
       "      <td>1.000000</td>\n",
       "      <td>NaN</td>\n",
       "      <td>101.000000</td>\n",
       "      <td>...</td>\n",
       "      <td>-2.000000</td>\n",
       "      <td>NaN</td>\n",
       "      <td>NaN</td>\n",
       "      <td>101.000000</td>\n",
       "      <td>NaN</td>\n",
       "      <td>101.000000</td>\n",
       "      <td>NaN</td>\n",
       "      <td>NaN</td>\n",
       "      <td>NaN</td>\n",
       "      <td>NaN</td>\n",
       "    </tr>\n",
       "    <tr>\n",
       "      <th>25%</th>\n",
       "      <td>NaN</td>\n",
       "      <td>NaN</td>\n",
       "      <td>34.009200</td>\n",
       "      <td>-118.429700</td>\n",
       "      <td>NaN</td>\n",
       "      <td>NaN</td>\n",
       "      <td>930.000000</td>\n",
       "      <td>6.000000</td>\n",
       "      <td>NaN</td>\n",
       "      <td>632.000000</td>\n",
       "      <td>...</td>\n",
       "      <td>12.000000</td>\n",
       "      <td>NaN</td>\n",
       "      <td>NaN</td>\n",
       "      <td>101.000000</td>\n",
       "      <td>NaN</td>\n",
       "      <td>312.000000</td>\n",
       "      <td>NaN</td>\n",
       "      <td>NaN</td>\n",
       "      <td>NaN</td>\n",
       "      <td>NaN</td>\n",
       "    </tr>\n",
       "    <tr>\n",
       "      <th>50%</th>\n",
       "      <td>NaN</td>\n",
       "      <td>NaN</td>\n",
       "      <td>34.058700</td>\n",
       "      <td>-118.323000</td>\n",
       "      <td>NaN</td>\n",
       "      <td>NaN</td>\n",
       "      <td>1430.000000</td>\n",
       "      <td>11.000000</td>\n",
       "      <td>NaN</td>\n",
       "      <td>1162.000000</td>\n",
       "      <td>...</td>\n",
       "      <td>31.000000</td>\n",
       "      <td>NaN</td>\n",
       "      <td>NaN</td>\n",
       "      <td>203.000000</td>\n",
       "      <td>NaN</td>\n",
       "      <td>400.000000</td>\n",
       "      <td>NaN</td>\n",
       "      <td>NaN</td>\n",
       "      <td>NaN</td>\n",
       "      <td>NaN</td>\n",
       "    </tr>\n",
       "    <tr>\n",
       "      <th>75%</th>\n",
       "      <td>NaN</td>\n",
       "      <td>NaN</td>\n",
       "      <td>34.165025</td>\n",
       "      <td>-118.274400</td>\n",
       "      <td>NaN</td>\n",
       "      <td>NaN</td>\n",
       "      <td>1900.000000</td>\n",
       "      <td>16.000000</td>\n",
       "      <td>NaN</td>\n",
       "      <td>1622.000000</td>\n",
       "      <td>...</td>\n",
       "      <td>46.000000</td>\n",
       "      <td>NaN</td>\n",
       "      <td>NaN</td>\n",
       "      <td>501.000000</td>\n",
       "      <td>NaN</td>\n",
       "      <td>400.000000</td>\n",
       "      <td>NaN</td>\n",
       "      <td>NaN</td>\n",
       "      <td>NaN</td>\n",
       "      <td>NaN</td>\n",
       "    </tr>\n",
       "    <tr>\n",
       "      <th>max</th>\n",
       "      <td>NaN</td>\n",
       "      <td>NaN</td>\n",
       "      <td>34.328100</td>\n",
       "      <td>0.000000</td>\n",
       "      <td>NaN</td>\n",
       "      <td>NaN</td>\n",
       "      <td>2359.000000</td>\n",
       "      <td>21.000000</td>\n",
       "      <td>NaN</td>\n",
       "      <td>2197.000000</td>\n",
       "      <td>...</td>\n",
       "      <td>99.000000</td>\n",
       "      <td>NaN</td>\n",
       "      <td>NaN</td>\n",
       "      <td>969.000000</td>\n",
       "      <td>NaN</td>\n",
       "      <td>515.000000</td>\n",
       "      <td>NaN</td>\n",
       "      <td>NaN</td>\n",
       "      <td>NaN</td>\n",
       "      <td>NaN</td>\n",
       "    </tr>\n",
       "  </tbody>\n",
       "</table>\n",
       "<p>11 rows × 22 columns</p>\n",
       "</div>"
      ],
      "text/plain": [
       "       Location Cross_Street      Latitude     Longitude  \\\n",
       "count     20000         3448  20000.000000  20000.000000   \n",
       "unique    12399         1495           NaN           NaN   \n",
       "top         6TH     BROADWAY           NaN           NaN   \n",
       "freq         33           56           NaN           NaN   \n",
       "mean        NaN          NaN     33.940704   -117.893072   \n",
       "std         NaN          NaN      2.126810      7.377726   \n",
       "min         NaN          NaN      0.000000   -118.663400   \n",
       "25%         NaN          NaN     34.009200   -118.429700   \n",
       "50%         NaN          NaN     34.058700   -118.323000   \n",
       "75%         NaN          NaN     34.165025   -118.274400   \n",
       "max         NaN          NaN     34.328100      0.000000   \n",
       "\n",
       "                 Date_Reported           Date_Occurred  Time_Occurred  \\\n",
       "count                    20000                   20000   20000.000000   \n",
       "unique                     811                     366            NaN   \n",
       "top     07/13/2020 12:00:00 AM  01/01/2020 12:00:00 AM            NaN   \n",
       "freq                        87                     137            NaN   \n",
       "mean                       NaN                     NaN    1352.380350   \n",
       "std                        NaN                     NaN     646.100291   \n",
       "min                        NaN                     NaN       1.000000   \n",
       "25%                        NaN                     NaN     930.000000   \n",
       "50%                        NaN                     NaN    1430.000000   \n",
       "75%                        NaN                     NaN    1900.000000   \n",
       "max                        NaN                     NaN    2359.000000   \n",
       "\n",
       "             Area_ID    Area_Name  Reporting_District_no  ...    Victim_Age  \\\n",
       "count   20000.000000        20000           20000.000000  ...  20000.000000   \n",
       "unique           NaN           21                    NaN  ...           NaN   \n",
       "top              NaN  77th Street                    NaN  ...           NaN   \n",
       "freq             NaN         1345                    NaN  ...           NaN   \n",
       "mean       10.834250          NaN            1129.599200  ...     30.135000   \n",
       "std         6.033166          NaN             603.330519  ...     21.863645   \n",
       "min         1.000000          NaN             101.000000  ...     -2.000000   \n",
       "25%         6.000000          NaN             632.000000  ...     12.000000   \n",
       "50%        11.000000          NaN            1162.000000  ...     31.000000   \n",
       "75%        16.000000          NaN            1622.000000  ...     46.000000   \n",
       "max        21.000000          NaN            2197.000000  ...     99.000000   \n",
       "\n",
       "       Victim_Sex  Victim_Descent  Premise_Code Premise_Description  \\\n",
       "count       17376           17376  20000.000000               19995   \n",
       "unique          4              17           NaN                 216   \n",
       "top             M               H           NaN              STREET   \n",
       "freq         8538            6143           NaN                5033   \n",
       "mean          NaN             NaN    297.176950                 NaN   \n",
       "std           NaN             NaN    212.007298                 NaN   \n",
       "min           NaN             NaN    101.000000                 NaN   \n",
       "25%           NaN             NaN    101.000000                 NaN   \n",
       "50%           NaN             NaN    203.000000                 NaN   \n",
       "75%           NaN             NaN    501.000000                 NaN   \n",
       "max           NaN             NaN    969.000000                 NaN   \n",
       "\n",
       "        Weapon_Used_Code                              Weapon_Description  \\\n",
       "count        7335.000000                                            7335   \n",
       "unique               NaN                                              57   \n",
       "top                  NaN  STRONG-ARM (HANDS, FIST, FEET OR BODILY FORCE)   \n",
       "freq                 NaN                                            3990   \n",
       "mean          366.405044                                             NaN   \n",
       "std           120.485687                                             NaN   \n",
       "min           101.000000                                             NaN   \n",
       "25%           312.000000                                             NaN   \n",
       "50%           400.000000                                             NaN   \n",
       "75%           400.000000                                             NaN   \n",
       "max           515.000000                                             NaN   \n",
       "\n",
       "        Status Status_Description   Crime_Category  \n",
       "count    20000              20000            20000  \n",
       "unique       5                  5                6  \n",
       "top         IC        Invest Cont  Property Crimes  \n",
       "freq     15236              15236            11666  \n",
       "mean       NaN                NaN              NaN  \n",
       "std        NaN                NaN              NaN  \n",
       "min        NaN                NaN              NaN  \n",
       "25%        NaN                NaN              NaN  \n",
       "50%        NaN                NaN              NaN  \n",
       "75%        NaN                NaN              NaN  \n",
       "max        NaN                NaN              NaN  \n",
       "\n",
       "[11 rows x 22 columns]"
      ]
     },
     "execution_count": 8,
     "metadata": {},
     "output_type": "execute_result"
    }
   ],
   "source": [
    "train_data.describe(include=\"all\")\n"
   ]
  },
  {
   "cell_type": "markdown",
   "id": "237f306c",
   "metadata": {
    "papermill": {
     "duration": 0.036997,
     "end_time": "2024-08-08T08:20:00.531714",
     "exception": false,
     "start_time": "2024-08-08T08:20:00.494717",
     "status": "completed"
    },
    "tags": []
   },
   "source": [
    "**The target variable Crime_Category has higher number of \"Property Crimes\"**"
   ]
  },
  {
   "cell_type": "code",
   "execution_count": 9,
   "id": "d2e53478",
   "metadata": {
    "execution": {
     "iopub.execute_input": "2024-08-08T08:20:00.603294Z",
     "iopub.status.busy": "2024-08-08T08:20:00.602910Z",
     "iopub.status.idle": "2024-08-08T08:20:00.615317Z",
     "shell.execute_reply": "2024-08-08T08:20:00.613889Z"
    },
    "papermill": {
     "duration": 0.050603,
     "end_time": "2024-08-08T08:20:00.617718",
     "exception": false,
     "start_time": "2024-08-08T08:20:00.567115",
     "status": "completed"
    },
    "tags": []
   },
   "outputs": [
    {
     "data": {
      "text/plain": [
       "Crime_Category\n",
       "Property Crimes                  11666\n",
       "Violent Crimes                    4767\n",
       "Crimes against Public Order       1808\n",
       "Fraud and White-Collar Crimes     1355\n",
       "Crimes against Persons             225\n",
       "Other Crimes                       179\n",
       "Name: count, dtype: int64"
      ]
     },
     "execution_count": 9,
     "metadata": {},
     "output_type": "execute_result"
    }
   ],
   "source": [
    "train_data[\"Crime_Category\"].value_counts()"
   ]
  },
  {
   "cell_type": "markdown",
   "id": "a2b6a309",
   "metadata": {
    "papermill": {
     "duration": 0.036646,
     "end_time": "2024-08-08T08:20:00.689223",
     "exception": false,
     "start_time": "2024-08-08T08:20:00.652577",
     "status": "completed"
    },
    "tags": []
   },
   "source": [
    "**The target column is highly skewed towards Property Crimes**"
   ]
  },
  {
   "cell_type": "code",
   "execution_count": 10,
   "id": "be10b8e9",
   "metadata": {
    "execution": {
     "iopub.execute_input": "2024-08-08T08:20:00.761639Z",
     "iopub.status.busy": "2024-08-08T08:20:00.761267Z",
     "iopub.status.idle": "2024-08-08T08:20:00.773549Z",
     "shell.execute_reply": "2024-08-08T08:20:00.772256Z"
    },
    "papermill": {
     "duration": 0.050973,
     "end_time": "2024-08-08T08:20:00.776105",
     "exception": false,
     "start_time": "2024-08-08T08:20:00.725132",
     "status": "completed"
    },
    "tags": []
   },
   "outputs": [
    {
     "data": {
      "text/plain": [
       "Status_Description\n",
       "Invest Cont     15236\n",
       "Adult Other      2597\n",
       "Adult Arrest     2054\n",
       "Juv Arrest         70\n",
       "Juv Other          43\n",
       "Name: count, dtype: int64"
      ]
     },
     "execution_count": 10,
     "metadata": {},
     "output_type": "execute_result"
    }
   ],
   "source": [
    "train_data[\"Status_Description\"].value_counts()"
   ]
  },
  {
   "cell_type": "markdown",
   "id": "4c9c3c5f",
   "metadata": {
    "papermill": {
     "duration": 0.035609,
     "end_time": "2024-08-08T08:20:00.847542",
     "exception": false,
     "start_time": "2024-08-08T08:20:00.811933",
     "status": "completed"
    },
    "tags": []
   },
   "source": [
    "**Categorical Variables**"
   ]
  },
  {
   "cell_type": "code",
   "execution_count": 11,
   "id": "b10d329e",
   "metadata": {
    "execution": {
     "iopub.execute_input": "2024-08-08T08:20:00.925684Z",
     "iopub.status.busy": "2024-08-08T08:20:00.925281Z",
     "iopub.status.idle": "2024-08-08T08:20:01.042458Z",
     "shell.execute_reply": "2024-08-08T08:20:01.041112Z"
    },
    "papermill": {
     "duration": 0.160492,
     "end_time": "2024-08-08T08:20:01.045444",
     "exception": false,
     "start_time": "2024-08-08T08:20:00.884952",
     "status": "completed"
    },
    "tags": []
   },
   "outputs": [
    {
     "data": {
      "text/html": [
       "<div>\n",
       "<style scoped>\n",
       "    .dataframe tbody tr th:only-of-type {\n",
       "        vertical-align: middle;\n",
       "    }\n",
       "\n",
       "    .dataframe tbody tr th {\n",
       "        vertical-align: top;\n",
       "    }\n",
       "\n",
       "    .dataframe thead th {\n",
       "        text-align: right;\n",
       "    }\n",
       "</style>\n",
       "<table border=\"1\" class=\"dataframe\">\n",
       "  <thead>\n",
       "    <tr style=\"text-align: right;\">\n",
       "      <th></th>\n",
       "      <th>Location</th>\n",
       "      <th>Cross_Street</th>\n",
       "      <th>Date_Reported</th>\n",
       "      <th>Date_Occurred</th>\n",
       "      <th>Area_Name</th>\n",
       "      <th>Modus_Operandi</th>\n",
       "      <th>Victim_Sex</th>\n",
       "      <th>Victim_Descent</th>\n",
       "      <th>Premise_Description</th>\n",
       "      <th>Weapon_Description</th>\n",
       "      <th>Status</th>\n",
       "      <th>Status_Description</th>\n",
       "      <th>Crime_Category</th>\n",
       "    </tr>\n",
       "  </thead>\n",
       "  <tbody>\n",
       "    <tr>\n",
       "      <th>count</th>\n",
       "      <td>20000</td>\n",
       "      <td>3448</td>\n",
       "      <td>20000</td>\n",
       "      <td>20000</td>\n",
       "      <td>20000</td>\n",
       "      <td>17259</td>\n",
       "      <td>17376</td>\n",
       "      <td>17376</td>\n",
       "      <td>19995</td>\n",
       "      <td>7335</td>\n",
       "      <td>20000</td>\n",
       "      <td>20000</td>\n",
       "      <td>20000</td>\n",
       "    </tr>\n",
       "    <tr>\n",
       "      <th>unique</th>\n",
       "      <td>12399</td>\n",
       "      <td>1495</td>\n",
       "      <td>811</td>\n",
       "      <td>366</td>\n",
       "      <td>21</td>\n",
       "      <td>10489</td>\n",
       "      <td>4</td>\n",
       "      <td>17</td>\n",
       "      <td>216</td>\n",
       "      <td>57</td>\n",
       "      <td>5</td>\n",
       "      <td>5</td>\n",
       "      <td>6</td>\n",
       "    </tr>\n",
       "    <tr>\n",
       "      <th>top</th>\n",
       "      <td>6TH</td>\n",
       "      <td>BROADWAY</td>\n",
       "      <td>07/13/2020 12:00:00 AM</td>\n",
       "      <td>01/01/2020 12:00:00 AM</td>\n",
       "      <td>77th Street</td>\n",
       "      <td>0344</td>\n",
       "      <td>M</td>\n",
       "      <td>H</td>\n",
       "      <td>STREET</td>\n",
       "      <td>STRONG-ARM (HANDS, FIST, FEET OR BODILY FORCE)</td>\n",
       "      <td>IC</td>\n",
       "      <td>Invest Cont</td>\n",
       "      <td>Property Crimes</td>\n",
       "    </tr>\n",
       "    <tr>\n",
       "      <th>freq</th>\n",
       "      <td>33</td>\n",
       "      <td>56</td>\n",
       "      <td>87</td>\n",
       "      <td>137</td>\n",
       "      <td>1345</td>\n",
       "      <td>826</td>\n",
       "      <td>8538</td>\n",
       "      <td>6143</td>\n",
       "      <td>5033</td>\n",
       "      <td>3990</td>\n",
       "      <td>15236</td>\n",
       "      <td>15236</td>\n",
       "      <td>11666</td>\n",
       "    </tr>\n",
       "  </tbody>\n",
       "</table>\n",
       "</div>"
      ],
      "text/plain": [
       "       Location Cross_Street           Date_Reported           Date_Occurred  \\\n",
       "count     20000         3448                   20000                   20000   \n",
       "unique    12399         1495                     811                     366   \n",
       "top         6TH     BROADWAY  07/13/2020 12:00:00 AM  01/01/2020 12:00:00 AM   \n",
       "freq         33           56                      87                     137   \n",
       "\n",
       "          Area_Name Modus_Operandi Victim_Sex Victim_Descent  \\\n",
       "count         20000          17259      17376          17376   \n",
       "unique           21          10489          4             17   \n",
       "top     77th Street           0344          M              H   \n",
       "freq           1345            826       8538           6143   \n",
       "\n",
       "       Premise_Description                              Weapon_Description  \\\n",
       "count                19995                                            7335   \n",
       "unique                 216                                              57   \n",
       "top                 STREET  STRONG-ARM (HANDS, FIST, FEET OR BODILY FORCE)   \n",
       "freq                  5033                                            3990   \n",
       "\n",
       "       Status Status_Description   Crime_Category  \n",
       "count   20000              20000            20000  \n",
       "unique      5                  5                6  \n",
       "top        IC        Invest Cont  Property Crimes  \n",
       "freq    15236              15236            11666  "
      ]
     },
     "execution_count": 11,
     "metadata": {},
     "output_type": "execute_result"
    }
   ],
   "source": [
    "train_data.describe(include=[\"object\"])"
   ]
  },
  {
   "cell_type": "code",
   "execution_count": 12,
   "id": "836b7f80",
   "metadata": {
    "execution": {
     "iopub.execute_input": "2024-08-08T08:20:01.118448Z",
     "iopub.status.busy": "2024-08-08T08:20:01.118036Z",
     "iopub.status.idle": "2024-08-08T08:20:01.154469Z",
     "shell.execute_reply": "2024-08-08T08:20:01.152676Z"
    },
    "papermill": {
     "duration": 0.076945,
     "end_time": "2024-08-08T08:20:01.158450",
     "exception": false,
     "start_time": "2024-08-08T08:20:01.081505",
     "status": "completed"
    },
    "tags": []
   },
   "outputs": [
    {
     "data": {
      "text/plain": [
       "Location                     0\n",
       "Cross_Street             16552\n",
       "Latitude                     0\n",
       "Longitude                    0\n",
       "Date_Reported                0\n",
       "Date_Occurred                0\n",
       "Time_Occurred                0\n",
       "Area_ID                      0\n",
       "Area_Name                    0\n",
       "Reporting_District_no        0\n",
       "Part 1-2                     0\n",
       "Modus_Operandi            2741\n",
       "Victim_Age                   0\n",
       "Victim_Sex                2624\n",
       "Victim_Descent            2624\n",
       "Premise_Code                 0\n",
       "Premise_Description          5\n",
       "Weapon_Used_Code         12665\n",
       "Weapon_Description       12665\n",
       "Status                       0\n",
       "Status_Description           0\n",
       "Crime_Category               0\n",
       "dtype: int64"
      ]
     },
     "execution_count": 12,
     "metadata": {},
     "output_type": "execute_result"
    }
   ],
   "source": [
    "train_data.isnull().sum()"
   ]
  },
  {
   "cell_type": "code",
   "execution_count": 13,
   "id": "7622142a",
   "metadata": {
    "execution": {
     "iopub.execute_input": "2024-08-08T08:20:01.231679Z",
     "iopub.status.busy": "2024-08-08T08:20:01.231253Z",
     "iopub.status.idle": "2024-08-08T08:20:01.248379Z",
     "shell.execute_reply": "2024-08-08T08:20:01.246902Z"
    },
    "papermill": {
     "duration": 0.0566,
     "end_time": "2024-08-08T08:20:01.251188",
     "exception": false,
     "start_time": "2024-08-08T08:20:01.194588",
     "status": "completed"
    },
    "tags": []
   },
   "outputs": [
    {
     "data": {
      "text/plain": [
       "Location                    0\n",
       "Cross_Street             4190\n",
       "Latitude                    0\n",
       "Longitude                   0\n",
       "Date_Reported               0\n",
       "Date_Occurred               0\n",
       "Time_Occurred               0\n",
       "Area_ID                     0\n",
       "Area_Name                   0\n",
       "Reporting_District_no       0\n",
       "Part 1-2                    0\n",
       "Modus_Operandi            684\n",
       "Victim_Age                  0\n",
       "Victim_Sex                643\n",
       "Victim_Descent            643\n",
       "Premise_Code                0\n",
       "Premise_Description         1\n",
       "Weapon_Used_Code         3153\n",
       "Weapon_Description       3153\n",
       "Status                      0\n",
       "Status_Description          0\n",
       "dtype: int64"
      ]
     },
     "execution_count": 13,
     "metadata": {},
     "output_type": "execute_result"
    }
   ],
   "source": [
    "test_data.isna().sum()"
   ]
  },
  {
   "cell_type": "code",
   "execution_count": 14,
   "id": "28ff389f",
   "metadata": {
    "execution": {
     "iopub.execute_input": "2024-08-08T08:20:01.326929Z",
     "iopub.status.busy": "2024-08-08T08:20:01.326484Z",
     "iopub.status.idle": "2024-08-08T08:20:01.356831Z",
     "shell.execute_reply": "2024-08-08T08:20:01.355611Z"
    },
    "papermill": {
     "duration": 0.070964,
     "end_time": "2024-08-08T08:20:01.359714",
     "exception": false,
     "start_time": "2024-08-08T08:20:01.288750",
     "status": "completed"
    },
    "tags": []
   },
   "outputs": [
    {
     "data": {
      "text/html": [
       "<div>\n",
       "<style scoped>\n",
       "    .dataframe tbody tr th:only-of-type {\n",
       "        vertical-align: middle;\n",
       "    }\n",
       "\n",
       "    .dataframe tbody tr th {\n",
       "        vertical-align: top;\n",
       "    }\n",
       "\n",
       "    .dataframe thead th {\n",
       "        text-align: right;\n",
       "    }\n",
       "</style>\n",
       "<table border=\"1\" class=\"dataframe\">\n",
       "  <thead>\n",
       "    <tr style=\"text-align: right;\">\n",
       "      <th></th>\n",
       "      <th>Latitude</th>\n",
       "      <th>Longitude</th>\n",
       "      <th>Time_Occurred</th>\n",
       "      <th>Area_ID</th>\n",
       "      <th>Reporting_District_no</th>\n",
       "      <th>Part 1-2</th>\n",
       "      <th>Victim_Age</th>\n",
       "      <th>Premise_Code</th>\n",
       "      <th>Weapon_Used_Code</th>\n",
       "    </tr>\n",
       "  </thead>\n",
       "  <tbody>\n",
       "    <tr>\n",
       "      <th>0</th>\n",
       "      <td>34.1522</td>\n",
       "      <td>-118.3910</td>\n",
       "      <td>1800.0</td>\n",
       "      <td>15.0</td>\n",
       "      <td>1563.0</td>\n",
       "      <td>1.0</td>\n",
       "      <td>75.0</td>\n",
       "      <td>101.0</td>\n",
       "      <td>NaN</td>\n",
       "    </tr>\n",
       "    <tr>\n",
       "      <th>1</th>\n",
       "      <td>34.0028</td>\n",
       "      <td>-118.2391</td>\n",
       "      <td>1345.0</td>\n",
       "      <td>13.0</td>\n",
       "      <td>1367.0</td>\n",
       "      <td>1.0</td>\n",
       "      <td>41.0</td>\n",
       "      <td>216.0</td>\n",
       "      <td>400.0</td>\n",
       "    </tr>\n",
       "    <tr>\n",
       "      <th>2</th>\n",
       "      <td>34.0111</td>\n",
       "      <td>-118.2653</td>\n",
       "      <td>605.0</td>\n",
       "      <td>13.0</td>\n",
       "      <td>1343.0</td>\n",
       "      <td>2.0</td>\n",
       "      <td>67.0</td>\n",
       "      <td>501.0</td>\n",
       "      <td>NaN</td>\n",
       "    </tr>\n",
       "    <tr>\n",
       "      <th>3</th>\n",
       "      <td>34.2953</td>\n",
       "      <td>-118.4590</td>\n",
       "      <td>1800.0</td>\n",
       "      <td>19.0</td>\n",
       "      <td>1924.0</td>\n",
       "      <td>1.0</td>\n",
       "      <td>61.0</td>\n",
       "      <td>101.0</td>\n",
       "      <td>NaN</td>\n",
       "    </tr>\n",
       "    <tr>\n",
       "      <th>4</th>\n",
       "      <td>33.9787</td>\n",
       "      <td>-118.2918</td>\n",
       "      <td>1130.0</td>\n",
       "      <td>12.0</td>\n",
       "      <td>1245.0</td>\n",
       "      <td>1.0</td>\n",
       "      <td>0.0</td>\n",
       "      <td>401.0</td>\n",
       "      <td>400.0</td>\n",
       "    </tr>\n",
       "    <tr>\n",
       "      <th>...</th>\n",
       "      <td>...</td>\n",
       "      <td>...</td>\n",
       "      <td>...</td>\n",
       "      <td>...</td>\n",
       "      <td>...</td>\n",
       "      <td>...</td>\n",
       "      <td>...</td>\n",
       "      <td>...</td>\n",
       "      <td>...</td>\n",
       "    </tr>\n",
       "    <tr>\n",
       "      <th>19995</th>\n",
       "      <td>34.0334</td>\n",
       "      <td>-118.3523</td>\n",
       "      <td>700.0</td>\n",
       "      <td>3.0</td>\n",
       "      <td>303.0</td>\n",
       "      <td>2.0</td>\n",
       "      <td>51.0</td>\n",
       "      <td>501.0</td>\n",
       "      <td>400.0</td>\n",
       "    </tr>\n",
       "    <tr>\n",
       "      <th>19996</th>\n",
       "      <td>34.2212</td>\n",
       "      <td>-118.5011</td>\n",
       "      <td>259.0</td>\n",
       "      <td>10.0</td>\n",
       "      <td>1008.0</td>\n",
       "      <td>1.0</td>\n",
       "      <td>0.0</td>\n",
       "      <td>301.0</td>\n",
       "      <td>NaN</td>\n",
       "    </tr>\n",
       "    <tr>\n",
       "      <th>19997</th>\n",
       "      <td>34.0571</td>\n",
       "      <td>-118.3815</td>\n",
       "      <td>1400.0</td>\n",
       "      <td>8.0</td>\n",
       "      <td>849.0</td>\n",
       "      <td>1.0</td>\n",
       "      <td>42.0</td>\n",
       "      <td>102.0</td>\n",
       "      <td>NaN</td>\n",
       "    </tr>\n",
       "    <tr>\n",
       "      <th>19998</th>\n",
       "      <td>33.7451</td>\n",
       "      <td>-118.2835</td>\n",
       "      <td>600.0</td>\n",
       "      <td>5.0</td>\n",
       "      <td>558.0</td>\n",
       "      <td>2.0</td>\n",
       "      <td>76.0</td>\n",
       "      <td>501.0</td>\n",
       "      <td>NaN</td>\n",
       "    </tr>\n",
       "    <tr>\n",
       "      <th>19999</th>\n",
       "      <td>34.0037</td>\n",
       "      <td>-118.3034</td>\n",
       "      <td>1800.0</td>\n",
       "      <td>3.0</td>\n",
       "      <td>397.0</td>\n",
       "      <td>1.0</td>\n",
       "      <td>0.0</td>\n",
       "      <td>101.0</td>\n",
       "      <td>NaN</td>\n",
       "    </tr>\n",
       "  </tbody>\n",
       "</table>\n",
       "<p>20000 rows × 9 columns</p>\n",
       "</div>"
      ],
      "text/plain": [
       "       Latitude  Longitude  Time_Occurred  Area_ID  Reporting_District_no  \\\n",
       "0       34.1522  -118.3910         1800.0     15.0                 1563.0   \n",
       "1       34.0028  -118.2391         1345.0     13.0                 1367.0   \n",
       "2       34.0111  -118.2653          605.0     13.0                 1343.0   \n",
       "3       34.2953  -118.4590         1800.0     19.0                 1924.0   \n",
       "4       33.9787  -118.2918         1130.0     12.0                 1245.0   \n",
       "...         ...        ...            ...      ...                    ...   \n",
       "19995   34.0334  -118.3523          700.0      3.0                  303.0   \n",
       "19996   34.2212  -118.5011          259.0     10.0                 1008.0   \n",
       "19997   34.0571  -118.3815         1400.0      8.0                  849.0   \n",
       "19998   33.7451  -118.2835          600.0      5.0                  558.0   \n",
       "19999   34.0037  -118.3034         1800.0      3.0                  397.0   \n",
       "\n",
       "       Part 1-2  Victim_Age  Premise_Code  Weapon_Used_Code  \n",
       "0           1.0        75.0         101.0               NaN  \n",
       "1           1.0        41.0         216.0             400.0  \n",
       "2           2.0        67.0         501.0               NaN  \n",
       "3           1.0        61.0         101.0               NaN  \n",
       "4           1.0         0.0         401.0             400.0  \n",
       "...         ...         ...           ...               ...  \n",
       "19995       2.0        51.0         501.0             400.0  \n",
       "19996       1.0         0.0         301.0               NaN  \n",
       "19997       1.0        42.0         102.0               NaN  \n",
       "19998       2.0        76.0         501.0               NaN  \n",
       "19999       1.0         0.0         101.0               NaN  \n",
       "\n",
       "[20000 rows x 9 columns]"
      ]
     },
     "execution_count": 14,
     "metadata": {},
     "output_type": "execute_result"
    }
   ],
   "source": [
    "numerical_features=train_data.select_dtypes(include=[\"float64\"])\n",
    "numerical_features"
   ]
  },
  {
   "cell_type": "code",
   "execution_count": 15,
   "id": "3b1e93d7",
   "metadata": {
    "execution": {
     "iopub.execute_input": "2024-08-08T08:20:01.433935Z",
     "iopub.status.busy": "2024-08-08T08:20:01.433470Z",
     "iopub.status.idle": "2024-08-08T08:20:01.814371Z",
     "shell.execute_reply": "2024-08-08T08:20:01.813135Z"
    },
    "papermill": {
     "duration": 0.42096,
     "end_time": "2024-08-08T08:20:01.816989",
     "exception": false,
     "start_time": "2024-08-08T08:20:01.396029",
     "status": "completed"
    },
    "tags": []
   },
   "outputs": [
    {
     "data": {
      "image/png": "[encoded data removed]",
      "text/plain": [
       "<Figure size 1000x600 with 1 Axes>"
      ]
     },
     "metadata": {},
     "output_type": "display_data"
    }
   ],
   "source": [
    "import pandas as pd\n",
    "import matplotlib.pyplot as plt\n",
    "\n",
    "my_data = train_data['Victim_Age'].dropna()\n",
    "\n",
    "\n",
    "plt.figure(figsize=(10, 6))\n",
    "plt.hist(my_data, bins=30, edgecolor='black', color='orange')\n",
    "\n",
    "plt.title('Distribution of Victim Ages')\n",
    "plt.xlabel('Victim Age')\n",
    "plt.ylabel('Count')\n",
    "\n",
    "plt.show()\n"
   ]
  },
  {
   "cell_type": "markdown",
   "id": "ba8b4b91",
   "metadata": {
    "papermill": {
     "duration": 0.037107,
     "end_time": "2024-08-08T08:20:01.890636",
     "exception": false,
     "start_time": "2024-08-08T08:20:01.853529",
     "status": "completed"
    },
    "tags": []
   },
   "source": [
    "**OBSERVATIONS**\n",
    "\n",
    "* **Victim_Ages are concentrated mainly between 20 years to 40 years**"
   ]
  },
  {
   "cell_type": "code",
   "execution_count": 16,
   "id": "5d2a404c",
   "metadata": {
    "execution": {
     "iopub.execute_input": "2024-08-08T08:20:01.965503Z",
     "iopub.status.busy": "2024-08-08T08:20:01.964558Z",
     "iopub.status.idle": "2024-08-08T08:20:02.332251Z",
     "shell.execute_reply": "2024-08-08T08:20:02.330868Z"
    },
    "papermill": {
     "duration": 0.408008,
     "end_time": "2024-08-08T08:20:02.334781",
     "exception": false,
     "start_time": "2024-08-08T08:20:01.926773",
     "status": "completed"
    },
    "tags": []
   },
   "outputs": [
    {
     "data": {
      "image/png": "[encoded data removed]",
      "text/plain": [
       "<Figure size 1200x600 with 1 Axes>"
      ]
     },
     "metadata": {},
     "output_type": "display_data"
    }
   ],
   "source": [
    "plt.figure(figsize = (12,6))\n",
    "sns.boxplot(numerical_features)\n",
    "plt.show()"
   ]
  },
  {
   "cell_type": "markdown",
   "id": "e5c8809e",
   "metadata": {
    "papermill": {
     "duration": 0.036586,
     "end_time": "2024-08-08T08:20:02.409335",
     "exception": false,
     "start_time": "2024-08-08T08:20:02.372749",
     "status": "completed"
    },
    "tags": []
   },
   "source": [
    "**Observation**\n",
    "\n",
    "* **The Time_Occurred and Area_ID is sufficiently balanced distributed as the median line is centrally located with almost no outliers**\n",
    "* **The Victim_Age box seems to be collapsed indicating a very narrow InterQuartile Range**"
   ]
  },
  {
   "cell_type": "code",
   "execution_count": 17,
   "id": "6e59281a",
   "metadata": {
    "execution": {
     "iopub.execute_input": "2024-08-08T08:20:02.487096Z",
     "iopub.status.busy": "2024-08-08T08:20:02.486675Z",
     "iopub.status.idle": "2024-08-08T08:20:03.110272Z",
     "shell.execute_reply": "2024-08-08T08:20:03.108912Z"
    },
    "papermill": {
     "duration": 0.665548,
     "end_time": "2024-08-08T08:20:03.112905",
     "exception": false,
     "start_time": "2024-08-08T08:20:02.447357",
     "status": "completed"
    },
    "tags": []
   },
   "outputs": [
    {
     "data": {
      "image/png": "[encoded data removed]",
      "text/plain": [
       "<Figure size 800x600 with 2 Axes>"
      ]
     },
     "metadata": {},
     "output_type": "display_data"
    }
   ],
   "source": [
    "plt.figure(figsize = (8,6))\n",
    "sns.heatmap(numerical_features.corr(), annot =  True, cmap = 'coolwarm')\n",
    "plt.show()"
   ]
  },
  {
   "cell_type": "markdown",
   "id": "643c6693",
   "metadata": {
    "papermill": {
     "duration": 0.04099,
     "end_time": "2024-08-08T08:20:03.192852",
     "exception": false,
     "start_time": "2024-08-08T08:20:03.151862",
     "status": "completed"
    },
    "tags": []
   },
   "source": [
    "**INSIGHTS**\n",
    "\n",
    "**1. Latitude and Longitude are negatively correlated**\n",
    " \n",
    "**2. Part 1-2 and Weapon_Used_Code are positively correlated**\n",
    " \n",
    "**3. Part 1-2 and Premise_Code are positively correlated**\n",
    "\n",
    "**4. Part 1-2 and Victim_Age are positively correlated**\n",
    "\n",
    "**5. Area_ID and Reporting_District_Number are positively correlated**\n"
   ]
  },
  {
   "cell_type": "code",
   "execution_count": 18,
   "id": "7c24a726",
   "metadata": {
    "execution": {
     "iopub.execute_input": "2024-08-08T08:20:03.273996Z",
     "iopub.status.busy": "2024-08-08T08:20:03.273543Z",
     "iopub.status.idle": "2024-08-08T08:20:03.278584Z",
     "shell.execute_reply": "2024-08-08T08:20:03.277356Z"
    },
    "papermill": {
     "duration": 0.049217,
     "end_time": "2024-08-08T08:20:03.281055",
     "exception": false,
     "start_time": "2024-08-08T08:20:03.231838",
     "status": "completed"
    },
    "tags": []
   },
   "outputs": [],
   "source": [
    "# sns.pairplot(numerical_features, diag_kind = 'kde')\n",
    "# plt.show()"
   ]
  },
  {
   "cell_type": "code",
   "execution_count": 19,
   "id": "67f6db9b",
   "metadata": {
    "execution": {
     "iopub.execute_input": "2024-08-08T08:20:03.361974Z",
     "iopub.status.busy": "2024-08-08T08:20:03.360738Z",
     "iopub.status.idle": "2024-08-08T08:20:03.838672Z",
     "shell.execute_reply": "2024-08-08T08:20:03.837452Z"
    },
    "papermill": {
     "duration": 0.521068,
     "end_time": "2024-08-08T08:20:03.841595",
     "exception": false,
     "start_time": "2024-08-08T08:20:03.320527",
     "status": "completed"
    },
    "tags": []
   },
   "outputs": [
    {
     "data": {
      "image/png": "[encoded data removed]",
      "text/plain": [
       "<Figure size 1000x700 with 1 Axes>"
      ]
     },
     "metadata": {},
     "output_type": "display_data"
    }
   ],
   "source": [
    "import pandas as pd\n",
    "import matplotlib.pyplot as plt\n",
    "\n",
    "# Assuming train_data is your DataFrame\n",
    "crosstab = pd.crosstab(train_data[\"Victim_Sex\"], train_data[\"Crime_Category\"])\n",
    "\n",
    "crosstab = crosstab[crosstab.sum().sort_values(ascending=True).index]\n",
    "# Plotting the crosstab\n",
    "crosstab.plot(kind=\"bar\", stacked=True, figsize=(10, 7))\n",
    "\n",
    "plt.title(\"Crime Category by Victim Sex\")\n",
    "plt.xlabel(\"Victim Sex\")\n",
    "plt.ylabel(\"Frequency\")\n",
    "plt.legend(title=\"Crime Category\", bbox_to_anchor=(1.05, 1), loc='upper left')\n",
    "plt.xticks(rotation=0)\n",
    "plt.show()\n"
   ]
  },
  {
   "cell_type": "markdown",
   "id": "1efea5dc",
   "metadata": {
    "papermill": {
     "duration": 0.039514,
     "end_time": "2024-08-08T08:20:03.920268",
     "exception": false,
     "start_time": "2024-08-08T08:20:03.880754",
     "status": "completed"
    },
    "tags": []
   },
   "source": [
    "**OBSERVATIONS**\n",
    "\n",
    "**Property Crime is highly distributed in F,M and X columns**\n",
    "**The Second highest is Violent Crimes**\n",
    "**The value \"H\" has no significant number of crimes.It can replaced with the most frequent entry later.**"
   ]
  },
  {
   "cell_type": "markdown",
   "id": "b5b4fc43",
   "metadata": {
    "papermill": {
     "duration": 0.038759,
     "end_time": "2024-08-08T08:20:03.998163",
     "exception": false,
     "start_time": "2024-08-08T08:20:03.959404",
     "status": "completed"
    },
    "tags": []
   },
   "source": [
    "# DATA PREPROCESSING"
   ]
  },
  {
   "cell_type": "code",
   "execution_count": 20,
   "id": "e6b767d5",
   "metadata": {
    "execution": {
     "iopub.execute_input": "2024-08-08T08:20:04.080685Z",
     "iopub.status.busy": "2024-08-08T08:20:04.079686Z",
     "iopub.status.idle": "2024-08-08T08:20:04.205839Z",
     "shell.execute_reply": "2024-08-08T08:20:04.204728Z"
    },
    "papermill": {
     "duration": 0.17029,
     "end_time": "2024-08-08T08:20:04.208565",
     "exception": false,
     "start_time": "2024-08-08T08:20:04.038275",
     "status": "completed"
    },
    "tags": []
   },
   "outputs": [],
   "source": [
    "#TRAINING DATA\n",
    "\n",
    "timedata=pd.DataFrame(train_data)\n",
    "\n",
    "standard= '%m/%d/%Y %I:%M:%S %p'\n",
    "\n",
    "date_reported=pd.DataFrame()\n",
    "date_occurred=pd.DataFrame()\n",
    "time=pd.DataFrame()\n",
    "\n",
    "\n",
    "date_reported[\"date_r\"]=pd.to_datetime(timedata[\"Date_Reported\"],format=standard)\n",
    "\n",
    "date_reported[\"year_r\"]=date_reported[\"date_r\"].dt.year     #Extracting the year\n",
    "date_reported[\"month_r\"]=date_reported[\"date_r\"].dt.month   #Extracting the month\n",
    "date_reported[\"day_r\"]=date_reported[\"date_r\"].dt.day       #Extracting the day\n",
    "date_reported[\"day_name_r\"]=date_reported[\"date_r\"].dt.day_name()  #Extracting the day_name\n",
    "\n",
    "# date_reported[\"hour_r\"]=date_reported[\"date_r\"].dt.hour\n",
    "\n",
    "date_occurred[\"date_o\"]=pd.to_datetime(timedata[\"Date_Occurred\"],format=standard)\n",
    "\n",
    "date_occurred[\"year_o\"]=date_occurred[\"date_o\"].dt.year     #Extracting the year\n",
    "date_occurred[\"month_o\"]=date_occurred[\"date_o\"].dt.month   #Extracting the month\n",
    "date_occurred[\"day_o\"]=date_occurred[\"date_o\"].dt.day       #Extracting the day\n",
    "date_occurred[\"day_name_o\"]=date_occurred[\"date_o\"].dt.day_name()    #Extracting the day_name\n",
    "\n",
    "# date_occurred[\"hour_o\"]=date_occurred[\"date_o\"].dt.hour\n",
    "\n",
    "\n",
    "time[\"time_occurred\"]=timedata[\"Time_Occurred\"].apply(lambda x: int(x//100))\n",
    "\n",
    "\n",
    "#TEST DATA\n",
    "\n",
    "timedata_test=pd.DataFrame(test_data)\n",
    "\n",
    "standard= '%m/%d/%Y %I:%M:%S %p'\n",
    "\n",
    "date_reported_test=pd.DataFrame()\n",
    "date_occurred_test=pd.DataFrame()\n",
    "time_test=pd.DataFrame()\n",
    "\n",
    "\n",
    "date_reported_test[\"date_r\"]=pd.to_datetime(timedata_test[\"Date_Reported\"],format=standard)\n",
    "\n",
    "date_reported_test[\"year_r\"]=date_reported_test[\"date_r\"].dt.year     #Extracting the year\n",
    "date_reported_test[\"month_r\"]=date_reported_test[\"date_r\"].dt.month   #Extracting the month\n",
    "date_reported_test[\"day_r\"]=date_reported_test[\"date_r\"].dt.day       #Extracting the day\n",
    "date_reported_test[\"day_name_r\"]=date_reported_test[\"date_r\"].dt.day_name()  #Extracting the day_name\n",
    "# date_reported[\"hour_r\"]=date_reported[\"date_r\"].dt.hour \n",
    " \n",
    "date_occurred_test[\"date_o\"]=pd.to_datetime(timedata_test[\"Date_Occurred\"],format=standard)\n",
    "\n",
    "date_occurred_test[\"year_o\"]=date_occurred_test[\"date_o\"].dt.year      #Extracting the year\n",
    "date_occurred_test[\"month_o\"]=date_occurred_test[\"date_o\"].dt.month    #Extracting the month\n",
    "date_occurred_test[\"day_o\"]=date_occurred_test[\"date_o\"].dt.day        #Extracting the day\n",
    "date_occurred_test[\"day_name_o\"]=date_occurred_test[\"date_o\"].dt.day_name()   #Extracting the day_name\n",
    "\n",
    "# date_occurred[\"hour_o\"]=date_occurred[\"date_o\"].dt.hour\n",
    "\n",
    "\n",
    "time_test[\"time_occurred\"]=timedata_test[\"Time_Occurred\"].apply(lambda x: int(x//100))  #Extracting the hour"
   ]
  },
  {
   "cell_type": "code",
   "execution_count": 21,
   "id": "3506dde5",
   "metadata": {
    "execution": {
     "iopub.execute_input": "2024-08-08T08:20:04.289382Z",
     "iopub.status.busy": "2024-08-08T08:20:04.288961Z",
     "iopub.status.idle": "2024-08-08T08:20:04.299197Z",
     "shell.execute_reply": "2024-08-08T08:20:04.298021Z"
    },
    "papermill": {
     "duration": 0.054185,
     "end_time": "2024-08-08T08:20:04.302064",
     "exception": false,
     "start_time": "2024-08-08T08:20:04.247879",
     "status": "completed"
    },
    "tags": []
   },
   "outputs": [],
   "source": [
    "date_df=pd.concat([date_reported,date_occurred,time],axis=1)\n",
    "date_df_test=pd.concat([date_reported_test,date_occurred_test,time_test],axis=1)"
   ]
  },
  {
   "cell_type": "code",
   "execution_count": 22,
   "id": "8d29945a",
   "metadata": {
    "execution": {
     "iopub.execute_input": "2024-08-08T08:20:04.383571Z",
     "iopub.status.busy": "2024-08-08T08:20:04.383151Z",
     "iopub.status.idle": "2024-08-08T08:20:04.388383Z",
     "shell.execute_reply": "2024-08-08T08:20:04.387199Z"
    },
    "papermill": {
     "duration": 0.048874,
     "end_time": "2024-08-08T08:20:04.390968",
     "exception": false,
     "start_time": "2024-08-08T08:20:04.342094",
     "status": "completed"
    },
    "tags": []
   },
   "outputs": [],
   "source": [
    "# date_df"
   ]
  },
  {
   "cell_type": "code",
   "execution_count": 23,
   "id": "3b06b816",
   "metadata": {
    "execution": {
     "iopub.execute_input": "2024-08-08T08:20:04.473716Z",
     "iopub.status.busy": "2024-08-08T08:20:04.473270Z",
     "iopub.status.idle": "2024-08-08T08:20:04.490029Z",
     "shell.execute_reply": "2024-08-08T08:20:04.488872Z"
    },
    "papermill": {
     "duration": 0.061887,
     "end_time": "2024-08-08T08:20:04.493070",
     "exception": false,
     "start_time": "2024-08-08T08:20:04.431183",
     "status": "completed"
    },
    "tags": []
   },
   "outputs": [],
   "source": [
    "train_data=pd.concat([train_data,date_df],axis=1)\n",
    "test_data=pd.concat([test_data,date_df_test],axis=1)"
   ]
  },
  {
   "cell_type": "code",
   "execution_count": 24,
   "id": "64954b80",
   "metadata": {
    "execution": {
     "iopub.execute_input": "2024-08-08T08:20:04.573979Z",
     "iopub.status.busy": "2024-08-08T08:20:04.573514Z",
     "iopub.status.idle": "2024-08-08T08:20:04.578847Z",
     "shell.execute_reply": "2024-08-08T08:20:04.577645Z"
    },
    "papermill": {
     "duration": 0.048344,
     "end_time": "2024-08-08T08:20:04.581428",
     "exception": false,
     "start_time": "2024-08-08T08:20:04.533084",
     "status": "completed"
    },
    "tags": []
   },
   "outputs": [],
   "source": [
    "# train_data"
   ]
  },
  {
   "cell_type": "code",
   "execution_count": 25,
   "id": "2a1e362b",
   "metadata": {
    "execution": {
     "iopub.execute_input": "2024-08-08T08:20:04.663500Z",
     "iopub.status.busy": "2024-08-08T08:20:04.663098Z",
     "iopub.status.idle": "2024-08-08T08:20:04.667938Z",
     "shell.execute_reply": "2024-08-08T08:20:04.666767Z"
    },
    "papermill": {
     "duration": 0.048476,
     "end_time": "2024-08-08T08:20:04.670488",
     "exception": false,
     "start_time": "2024-08-08T08:20:04.622012",
     "status": "completed"
    },
    "tags": []
   },
   "outputs": [],
   "source": [
    "# train_data=train_data.drop(columns=[\"Date_Reported\",\"Date_Occurred\",\"Time_Occurred\",\"Latitude\",\"Longitude\"])\n",
    "# test_data=test_data.drop(columns=[\"Date_Reported\",\"Date_Occurred\",\"Time_Occurred\",\"Latitude\",\"Longitude\"])"
   ]
  },
  {
   "cell_type": "code",
   "execution_count": 26,
   "id": "e406e5fb",
   "metadata": {
    "execution": {
     "iopub.execute_input": "2024-08-08T08:20:04.752502Z",
     "iopub.status.busy": "2024-08-08T08:20:04.752127Z",
     "iopub.status.idle": "2024-08-08T08:20:05.376919Z",
     "shell.execute_reply": "2024-08-08T08:20:05.375775Z"
    },
    "papermill": {
     "duration": 0.669495,
     "end_time": "2024-08-08T08:20:05.379708",
     "exception": false,
     "start_time": "2024-08-08T08:20:04.710213",
     "status": "completed"
    },
    "tags": []
   },
   "outputs": [
    {
     "data": {
      "image/png": "[encoded data removed]",
      "text/plain": [
       "<Figure size 1200x600 with 2 Axes>"
      ]
     },
     "metadata": {},
     "output_type": "display_data"
    }
   ],
   "source": [
    "count_of_days=train_data[\"day_name_o\"].value_counts()\n",
    "count_of_crime_categories=train_data[\"Crime_Category\"].value_counts()\n",
    "\n",
    "plt.figure(figsize=(12, 6))\n",
    "plt.subplot(1, 2, 1)\n",
    "\n",
    "\n",
    "plt.bar(count_of_days.index, count_of_days.values, color='brown')\n",
    "plt.title('Crime Count day wise')\n",
    "plt.xlabel('Days')\n",
    "plt.ylabel('Count')\n",
    "plt.xticks(rotation=45)\n",
    "\n",
    "# Plot counts of 'Crime_Category'\n",
    "plt.subplot(1, 2, 2)\n",
    "\n",
    "plt.bar(count_of_crime_categories.index, count_of_crime_categories.values, color='green')\n",
    "plt.title('Crime Count Category Wise')\n",
    "plt.xlabel('Crime Category')\n",
    "plt.ylabel('Count')\n",
    "plt.xticks(rotation=90)\n",
    "\n",
    "plt.tight_layout()\n",
    "plt.show()\n",
    "\n",
    "\n"
   ]
  },
  {
   "cell_type": "markdown",
   "id": "11a723f1",
   "metadata": {
    "papermill": {
     "duration": 0.040815,
     "end_time": "2024-08-08T08:20:05.460930",
     "exception": false,
     "start_time": "2024-08-08T08:20:05.420115",
     "status": "completed"
    },
    "tags": []
   },
   "source": [
    "**INSIGHTS**\n",
    "\n",
    "* **The number of crimes are almost same on all weeks of the day with no useful pattern being observed in this.**\n",
    "\n",
    "* **The highest number of crime recorded is Property Crime that greatly varies in margin with the next Crime_Category named violent crimes.**\n"
   ]
  },
  {
   "cell_type": "code",
   "execution_count": 27,
   "id": "b56e8db4",
   "metadata": {
    "execution": {
     "iopub.execute_input": "2024-08-08T08:20:05.544076Z",
     "iopub.status.busy": "2024-08-08T08:20:05.543640Z",
     "iopub.status.idle": "2024-08-08T08:20:05.587553Z",
     "shell.execute_reply": "2024-08-08T08:20:05.586187Z"
    },
    "papermill": {
     "duration": 0.088393,
     "end_time": "2024-08-08T08:20:05.590321",
     "exception": false,
     "start_time": "2024-08-08T08:20:05.501928",
     "status": "completed"
    },
    "tags": []
   },
   "outputs": [
    {
     "data": {
      "text/plain": [
       "Location                  0.000\n",
       "Cross_Street             82.760\n",
       "Latitude                  0.000\n",
       "Longitude                 0.000\n",
       "Date_Reported             0.000\n",
       "Date_Occurred             0.000\n",
       "Time_Occurred             0.000\n",
       "Area_ID                   0.000\n",
       "Area_Name                 0.000\n",
       "Reporting_District_no     0.000\n",
       "Part 1-2                  0.000\n",
       "Modus_Operandi           13.705\n",
       "Victim_Age                0.000\n",
       "Victim_Sex               13.120\n",
       "Victim_Descent           13.120\n",
       "Premise_Code              0.000\n",
       "Premise_Description       0.025\n",
       "Weapon_Used_Code         63.325\n",
       "Weapon_Description       63.325\n",
       "Status                    0.000\n",
       "Status_Description        0.000\n",
       "Crime_Category            0.000\n",
       "date_r                    0.000\n",
       "year_r                    0.000\n",
       "month_r                   0.000\n",
       "day_r                     0.000\n",
       "day_name_r                0.000\n",
       "date_o                    0.000\n",
       "year_o                    0.000\n",
       "month_o                   0.000\n",
       "day_o                     0.000\n",
       "day_name_o                0.000\n",
       "time_occurred             0.000\n",
       "dtype: float64"
      ]
     },
     "execution_count": 27,
     "metadata": {},
     "output_type": "execute_result"
    }
   ],
   "source": [
    "(train_data.isna().sum()/(train_data.shape[0]))*100"
   ]
  },
  {
   "cell_type": "markdown",
   "id": "881f01d6",
   "metadata": {
    "papermill": {
     "duration": 0.041012,
     "end_time": "2024-08-08T08:20:05.672398",
     "exception": false,
     "start_time": "2024-08-08T08:20:05.631386",
     "status": "completed"
    },
    "tags": []
   },
   "source": [
    "**The Cross_Street column is dropped as it has 82.76% of missing/inappropriate values.**"
   ]
  },
  {
   "cell_type": "code",
   "execution_count": 28,
   "id": "a0f773ff",
   "metadata": {
    "execution": {
     "iopub.execute_input": "2024-08-08T08:20:05.756373Z",
     "iopub.status.busy": "2024-08-08T08:20:05.755726Z",
     "iopub.status.idle": "2024-08-08T08:20:05.768783Z",
     "shell.execute_reply": "2024-08-08T08:20:05.767694Z"
    },
    "papermill": {
     "duration": 0.0581,
     "end_time": "2024-08-08T08:20:05.771511",
     "exception": false,
     "start_time": "2024-08-08T08:20:05.713411",
     "status": "completed"
    },
    "tags": []
   },
   "outputs": [],
   "source": [
    "train_data=train_data.drop(columns=[\"Location\",\"Cross_Street\",\"Area_Name\",\"Premise_Description\",\"Weapon_Description\",\"Status_Description\",\"Date_Reported\",\"Date_Occurred\",\"Time_Occurred\",\"Latitude\",\"Longitude\"])\n",
    "test_data=test_data.drop(columns=[\"Location\",\"Cross_Street\",\"Area_Name\",\"Premise_Description\",\"Weapon_Description\",\"Status_Description\",\"Date_Reported\",\"Date_Occurred\",\"Time_Occurred\",\"Latitude\",\"Longitude\"])"
   ]
  },
  {
   "cell_type": "markdown",
   "id": "31c38c7e",
   "metadata": {
    "papermill": {
     "duration": 0.040567,
     "end_time": "2024-08-08T08:20:05.853010",
     "exception": false,
     "start_time": "2024-08-08T08:20:05.812443",
     "status": "completed"
    },
    "tags": []
   },
   "source": [
    "**Dropping redundant columns**\n",
    "\n",
    "1. Area name and Area_ID describes the same information.\n",
    "2. Weapon_Description and Weapon_Used_Code describes the same information.\n",
    "3. Status and Status_Description describes the same information\n",
    "4. Premise and Premise_Description describes the same information\n",
    "5. The details of \"Date_Reported\",\"Date_Occurred\",\"Time_Occurred\" has been extracted and are stored as seperate column\n"
   ]
  },
  {
   "cell_type": "markdown",
   "id": "db8b42a8",
   "metadata": {
    "papermill": {
     "duration": 0.041438,
     "end_time": "2024-08-08T08:20:05.935741",
     "exception": false,
     "start_time": "2024-08-08T08:20:05.894303",
     "status": "completed"
    },
    "tags": []
   },
   "source": [
    "# SPLITTING THE DATASET "
   ]
  },
  {
   "cell_type": "code",
   "execution_count": 29,
   "id": "a14e71ee",
   "metadata": {
    "execution": {
     "iopub.execute_input": "2024-08-08T08:20:06.018841Z",
     "iopub.status.busy": "2024-08-08T08:20:06.018445Z",
     "iopub.status.idle": "2024-08-08T08:20:06.027259Z",
     "shell.execute_reply": "2024-08-08T08:20:06.025812Z"
    },
    "papermill": {
     "duration": 0.053504,
     "end_time": "2024-08-08T08:20:06.029985",
     "exception": false,
     "start_time": "2024-08-08T08:20:05.976481",
     "status": "completed"
    },
    "tags": []
   },
   "outputs": [],
   "source": [
    "X=train_data.drop(columns=\"Crime_Category\")\n",
    "Y=train_data[\"Crime_Category\"]"
   ]
  },
  {
   "cell_type": "code",
   "execution_count": 30,
   "id": "62f5efee",
   "metadata": {
    "execution": {
     "iopub.execute_input": "2024-08-08T08:20:06.113019Z",
     "iopub.status.busy": "2024-08-08T08:20:06.112608Z",
     "iopub.status.idle": "2024-08-08T08:20:06.117779Z",
     "shell.execute_reply": "2024-08-08T08:20:06.116611Z"
    },
    "papermill": {
     "duration": 0.049838,
     "end_time": "2024-08-08T08:20:06.120391",
     "exception": false,
     "start_time": "2024-08-08T08:20:06.070553",
     "status": "completed"
    },
    "tags": []
   },
   "outputs": [],
   "source": [
    "X_test=test_data"
   ]
  },
  {
   "cell_type": "code",
   "execution_count": 31,
   "id": "0da7052c",
   "metadata": {
    "execution": {
     "iopub.execute_input": "2024-08-08T08:20:06.205231Z",
     "iopub.status.busy": "2024-08-08T08:20:06.204837Z",
     "iopub.status.idle": "2024-08-08T08:20:06.214322Z",
     "shell.execute_reply": "2024-08-08T08:20:06.212990Z"
    },
    "papermill": {
     "duration": 0.055732,
     "end_time": "2024-08-08T08:20:06.217000",
     "exception": false,
     "start_time": "2024-08-08T08:20:06.161268",
     "status": "completed"
    },
    "tags": []
   },
   "outputs": [
    {
     "data": {
      "text/plain": [
       "0                    Property Crimes\n",
       "1                    Property Crimes\n",
       "2                    Property Crimes\n",
       "3                    Property Crimes\n",
       "4                    Property Crimes\n",
       "                    ...             \n",
       "19995                 Violent Crimes\n",
       "19996                Property Crimes\n",
       "19997                Property Crimes\n",
       "19998    Crimes against Public Order\n",
       "19999                Property Crimes\n",
       "Name: Crime_Category, Length: 20000, dtype: object"
      ]
     },
     "execution_count": 31,
     "metadata": {},
     "output_type": "execute_result"
    }
   ],
   "source": [
    "Y"
   ]
  },
  {
   "cell_type": "code",
   "execution_count": 32,
   "id": "a8a9c152",
   "metadata": {
    "execution": {
     "iopub.execute_input": "2024-08-08T08:20:06.300842Z",
     "iopub.status.busy": "2024-08-08T08:20:06.300397Z",
     "iopub.status.idle": "2024-08-08T08:20:06.312830Z",
     "shell.execute_reply": "2024-08-08T08:20:06.311703Z"
    },
    "papermill": {
     "duration": 0.05761,
     "end_time": "2024-08-08T08:20:06.315471",
     "exception": false,
     "start_time": "2024-08-08T08:20:06.257861",
     "status": "completed"
    },
    "tags": []
   },
   "outputs": [
    {
     "data": {
      "text/plain": [
       "Index(['Modus_Operandi', 'Victim_Sex', 'Victim_Descent', 'Status',\n",
       "       'day_name_r', 'day_name_o'],\n",
       "      dtype='object')"
      ]
     },
     "execution_count": 32,
     "metadata": {},
     "output_type": "execute_result"
    }
   ],
   "source": [
    "X.select_dtypes(include=[\"object\"]).columns"
   ]
  },
  {
   "cell_type": "code",
   "execution_count": 33,
   "id": "6fe6cc6b",
   "metadata": {
    "execution": {
     "iopub.execute_input": "2024-08-08T08:20:06.402119Z",
     "iopub.status.busy": "2024-08-08T08:20:06.401654Z",
     "iopub.status.idle": "2024-08-08T08:20:06.415731Z",
     "shell.execute_reply": "2024-08-08T08:20:06.414272Z"
    },
    "papermill": {
     "duration": 0.06207,
     "end_time": "2024-08-08T08:20:06.418564",
     "exception": false,
     "start_time": "2024-08-08T08:20:06.356494",
     "status": "completed"
    },
    "tags": []
   },
   "outputs": [
    {
     "data": {
      "text/plain": [
       "Victim_Descent\n",
       "H    6143\n",
       "W    4245\n",
       "B    2881\n",
       "X    1849\n",
       "O    1603\n",
       "A     427\n",
       "K      83\n",
       "C      51\n",
       "F      48\n",
       "J      16\n",
       "I      11\n",
       "V       8\n",
       "P       4\n",
       "Z       3\n",
       "U       2\n",
       "D       1\n",
       "G       1\n",
       "Name: count, dtype: int64"
      ]
     },
     "execution_count": 33,
     "metadata": {},
     "output_type": "execute_result"
    }
   ],
   "source": [
    "X[\"Victim_Descent\"].value_counts()"
   ]
  },
  {
   "cell_type": "code",
   "execution_count": 34,
   "id": "a664e30a",
   "metadata": {
    "execution": {
     "iopub.execute_input": "2024-08-08T08:20:06.506447Z",
     "iopub.status.busy": "2024-08-08T08:20:06.506017Z",
     "iopub.status.idle": "2024-08-08T08:20:06.516444Z",
     "shell.execute_reply": "2024-08-08T08:20:06.515194Z"
    },
    "papermill": {
     "duration": 0.057181,
     "end_time": "2024-08-08T08:20:06.519137",
     "exception": false,
     "start_time": "2024-08-08T08:20:06.461956",
     "status": "completed"
    },
    "tags": []
   },
   "outputs": [
    {
     "data": {
      "text/plain": [
       "Victim_Descent\n",
       "H    1536\n",
       "W    1088\n",
       "B     711\n",
       "X     440\n",
       "O     405\n",
       "A     132\n",
       "K      19\n",
       "F      10\n",
       "C       4\n",
       "V       4\n",
       "J       3\n",
       "Z       1\n",
       "I       1\n",
       "G       1\n",
       "P       1\n",
       "S       1\n",
       "Name: count, dtype: int64"
      ]
     },
     "execution_count": 34,
     "metadata": {},
     "output_type": "execute_result"
    }
   ],
   "source": [
    "X_test[\"Victim_Descent\"].value_counts()"
   ]
  },
  {
   "cell_type": "code",
   "execution_count": 35,
   "id": "a4e8d24d",
   "metadata": {
    "execution": {
     "iopub.execute_input": "2024-08-08T08:20:06.606978Z",
     "iopub.status.busy": "2024-08-08T08:20:06.605760Z",
     "iopub.status.idle": "2024-08-08T08:20:06.789801Z",
     "shell.execute_reply": "2024-08-08T08:20:06.788717Z"
    },
    "papermill": {
     "duration": 0.231957,
     "end_time": "2024-08-08T08:20:06.792594",
     "exception": false,
     "start_time": "2024-08-08T08:20:06.560637",
     "status": "completed"
    },
    "tags": []
   },
   "outputs": [],
   "source": [
    "X[\"Victim_Sex\"]=X[\"Victim_Sex\"].replace(\"H\",\"X\")\n",
    "X_test[\"Victim_Sex\"]=X_test[\"Victim_Sex\"].replace(\"H\",\"X\")\n",
    "\n",
    "\n",
    "X[\"Victim_Age\"]=X[\"Victim_Age\"].replace(0.0,np.nan)\n",
    "X_test[\"Victim_Age\"]=X_test[\"Victim_Age\"].replace(0.0,np.nan)\n",
    "\n",
    "threshold=52\n",
    "\n",
    "count1=X[\"Victim_Descent\"].value_counts()\n",
    "\n",
    "def descent_replace(value):\n",
    "    if pd.isna(value):\n",
    "        return value\n",
    "    if count1.get(value,0)<=threshold:\n",
    "        return \"Other Descents\"\n",
    "    return value\n",
    "X[\"Victim_Descent\"]=X[\"Victim_Descent\"].apply(descent_replace)\n",
    "\n",
    "\n",
    "\n",
    "threshold_test=19\n",
    "\n",
    "count2=X_test[\"Victim_Descent\"].value_counts()\n",
    "\n",
    "def descent_replace_test(value):\n",
    "    if pd.isna(value):\n",
    "        return value\n",
    "    if count1.get(value,0)<=threshold:\n",
    "        return \"Other Descents\"\n",
    "    return value\n",
    "X_test[\"Victim_Descent\"]=X_test[\"Victim_Descent\"].apply(descent_replace_test)\n"
   ]
  },
  {
   "cell_type": "code",
   "execution_count": 36,
   "id": "b9cc0b2b",
   "metadata": {
    "execution": {
     "iopub.execute_input": "2024-08-08T08:20:06.878493Z",
     "iopub.status.busy": "2024-08-08T08:20:06.878081Z",
     "iopub.status.idle": "2024-08-08T08:20:06.886530Z",
     "shell.execute_reply": "2024-08-08T08:20:06.885379Z"
    },
    "papermill": {
     "duration": 0.054895,
     "end_time": "2024-08-08T08:20:06.889103",
     "exception": false,
     "start_time": "2024-08-08T08:20:06.834208",
     "status": "completed"
    },
    "tags": []
   },
   "outputs": [
    {
     "data": {
      "text/plain": [
       "4828"
      ]
     },
     "execution_count": 36,
     "metadata": {},
     "output_type": "execute_result"
    }
   ],
   "source": [
    "X[\"Victim_Age\"].isna().sum()"
   ]
  },
  {
   "cell_type": "markdown",
   "id": "77e20b38",
   "metadata": {
    "papermill": {
     "duration": 0.041587,
     "end_time": "2024-08-08T08:20:06.972334",
     "exception": false,
     "start_time": "2024-08-08T08:20:06.930747",
     "status": "completed"
    },
    "tags": []
   },
   "source": [
    "**Replacing H with X of Victim_Age to ensure consistency**\n",
    "**Combining the Victim_Descents with smaller counts under a common column**"
   ]
  },
  {
   "cell_type": "code",
   "execution_count": 37,
   "id": "3138f200",
   "metadata": {
    "execution": {
     "iopub.execute_input": "2024-08-08T08:20:07.059160Z",
     "iopub.status.busy": "2024-08-08T08:20:07.058072Z",
     "iopub.status.idle": "2024-08-08T08:20:07.078234Z",
     "shell.execute_reply": "2024-08-08T08:20:07.077002Z"
    },
    "papermill": {
     "duration": 0.066113,
     "end_time": "2024-08-08T08:20:07.081115",
     "exception": false,
     "start_time": "2024-08-08T08:20:07.015002",
     "status": "completed"
    },
    "tags": []
   },
   "outputs": [],
   "source": [
    "X_train,X_val,Y_train,Y_val=train_test_split(X,Y,test_size=0.2,random_state=42)"
   ]
  },
  {
   "cell_type": "code",
   "execution_count": 38,
   "id": "9f471100",
   "metadata": {
    "execution": {
     "iopub.execute_input": "2024-08-08T08:20:07.168150Z",
     "iopub.status.busy": "2024-08-08T08:20:07.167692Z",
     "iopub.status.idle": "2024-08-08T08:20:07.174655Z",
     "shell.execute_reply": "2024-08-08T08:20:07.173363Z"
    },
    "papermill": {
     "duration": 0.054144,
     "end_time": "2024-08-08T08:20:07.177552",
     "exception": false,
     "start_time": "2024-08-08T08:20:07.123408",
     "status": "completed"
    },
    "tags": []
   },
   "outputs": [],
   "source": [
    "numeric_columns=['Area_ID', 'Reporting_District_no', 'Part 1-2',\n",
    "       'Victim_Age', 'Premise_Code', 'Weapon_Used_Code', 'year_r', 'month_r',\n",
    "       'day_r', 'year_o', 'month_o', 'day_o', 'time_occurred']\n",
    "\n",
    "categorical_columns=['Victim_Sex','Victim_Descent','Status', 'day_name_r', 'day_name_o']\n",
    "multilabel_column=['Modus_Operandi']\n",
    "target_column=['Crime_Category']"
   ]
  },
  {
   "cell_type": "code",
   "execution_count": 39,
   "id": "0906456f",
   "metadata": {
    "execution": {
     "iopub.execute_input": "2024-08-08T08:20:07.269853Z",
     "iopub.status.busy": "2024-08-08T08:20:07.269432Z",
     "iopub.status.idle": "2024-08-08T08:20:07.276530Z",
     "shell.execute_reply": "2024-08-08T08:20:07.274714Z"
    },
    "papermill": {
     "duration": 0.05844,
     "end_time": "2024-08-08T08:20:07.281617",
     "exception": false,
     "start_time": "2024-08-08T08:20:07.223177",
     "status": "completed"
    },
    "tags": []
   },
   "outputs": [
    {
     "name": "stdout",
     "output_type": "stream",
     "text": [
      "(16000, 21) (16000,) (4000, 21) (4000,)\n"
     ]
    }
   ],
   "source": [
    "print(X_train.shape,Y_train.shape,X_val.shape,Y_val.shape)"
   ]
  },
  {
   "cell_type": "code",
   "execution_count": 40,
   "id": "90cc2b8a",
   "metadata": {
    "execution": {
     "iopub.execute_input": "2024-08-08T08:20:07.370947Z",
     "iopub.status.busy": "2024-08-08T08:20:07.370535Z",
     "iopub.status.idle": "2024-08-08T08:20:07.380043Z",
     "shell.execute_reply": "2024-08-08T08:20:07.378661Z"
    },
    "papermill": {
     "duration": 0.055467,
     "end_time": "2024-08-08T08:20:07.382502",
     "exception": false,
     "start_time": "2024-08-08T08:20:07.327035",
     "status": "completed"
    },
    "tags": []
   },
   "outputs": [
    {
     "data": {
      "text/plain": [
       "10650                   Violent Crimes\n",
       "2041                   Property Crimes\n",
       "8668                   Property Crimes\n",
       "1114     Fraud and White-Collar Crimes\n",
       "13902                  Property Crimes\n",
       "                     ...              \n",
       "4073                   Property Crimes\n",
       "7442       Crimes against Public Order\n",
       "9999                   Property Crimes\n",
       "1870                   Property Crimes\n",
       "15196                  Property Crimes\n",
       "Name: Crime_Category, Length: 4000, dtype: object"
      ]
     },
     "execution_count": 40,
     "metadata": {},
     "output_type": "execute_result"
    }
   ],
   "source": [
    "Y_val"
   ]
  },
  {
   "cell_type": "markdown",
   "id": "55bd7a67",
   "metadata": {
    "papermill": {
     "duration": 0.041755,
     "end_time": "2024-08-08T08:20:07.467662",
     "exception": false,
     "start_time": "2024-08-08T08:20:07.425907",
     "status": "completed"
    },
    "tags": []
   },
   "source": [
    "**PIPELINE**"
   ]
  },
  {
   "cell_type": "code",
   "execution_count": 41,
   "id": "c4781b5c",
   "metadata": {
    "execution": {
     "iopub.execute_input": "2024-08-08T08:20:07.556332Z",
     "iopub.status.busy": "2024-08-08T08:20:07.555933Z",
     "iopub.status.idle": "2024-08-08T08:20:07.562685Z",
     "shell.execute_reply": "2024-08-08T08:20:07.561431Z"
    },
    "papermill": {
     "duration": 0.053737,
     "end_time": "2024-08-08T08:20:07.565347",
     "exception": false,
     "start_time": "2024-08-08T08:20:07.511610",
     "status": "completed"
    },
    "tags": []
   },
   "outputs": [],
   "source": [
    "Pipeline1=Pipeline([\n",
    "    (\"numeric_pipeline\",SimpleImputer(strategy='mean')),\n",
    "    (\"StdScale\",StandardScaler())\n",
    "])\n",
    "\n",
    "Pipeline2=Pipeline([\n",
    "    (\"categorical_pipeline\",SimpleImputer(strategy='most_frequent')),\n",
    "    (\"OneHotencoder\",OneHotEncoder())\n",
    "])\n",
    "\n"
   ]
  },
  {
   "cell_type": "markdown",
   "id": "33d1d741",
   "metadata": {
    "papermill": {
     "duration": 0.043898,
     "end_time": "2024-08-08T08:20:07.651447",
     "exception": false,
     "start_time": "2024-08-08T08:20:07.607549",
     "status": "completed"
    },
    "tags": []
   },
   "source": [
    "* **Pipeline1 integrates the Imputation of Float values using mean followed by Standard Scaling**\n",
    "* **Pipeline2 integrated the Imputation of Categorical values using the most frequent strategy followed by OneHotEncoding**"
   ]
  },
  {
   "cell_type": "code",
   "execution_count": 42,
   "id": "b8707f07",
   "metadata": {
    "execution": {
     "iopub.execute_input": "2024-08-08T08:20:07.737481Z",
     "iopub.status.busy": "2024-08-08T08:20:07.737060Z",
     "iopub.status.idle": "2024-08-08T08:20:07.742621Z",
     "shell.execute_reply": "2024-08-08T08:20:07.741466Z"
    },
    "papermill": {
     "duration": 0.051296,
     "end_time": "2024-08-08T08:20:07.745173",
     "exception": false,
     "start_time": "2024-08-08T08:20:07.693877",
     "status": "completed"
    },
    "tags": []
   },
   "outputs": [],
   "source": [
    "num_cat_transformer=ColumnTransformer(\n",
    " transformers=[   \n",
    "    (\"numeric_pipeline\",Pipeline1,numeric_columns),\n",
    "    (\"categorical_pipeline\",Pipeline2,categorical_columns),\n",
    "   \n",
    "    ]\n",
    ")\n"
   ]
  },
  {
   "cell_type": "code",
   "execution_count": 43,
   "id": "4f16f590",
   "metadata": {
    "execution": {
     "iopub.execute_input": "2024-08-08T08:20:07.832224Z",
     "iopub.status.busy": "2024-08-08T08:20:07.831752Z",
     "iopub.status.idle": "2024-08-08T08:20:07.872493Z",
     "shell.execute_reply": "2024-08-08T08:20:07.871307Z"
    },
    "papermill": {
     "duration": 0.087661,
     "end_time": "2024-08-08T08:20:07.875275",
     "exception": false,
     "start_time": "2024-08-08T08:20:07.787614",
     "status": "completed"
    },
    "tags": []
   },
   "outputs": [
    {
     "data": {
      "text/html": [
       "<style>#sk-container-id-1 {color: black;background-color: white;}#sk-container-id-1 pre{padding: 0;}#sk-container-id-1 div.sk-toggleable {background-color: white;}#sk-container-id-1 label.sk-toggleable__label {cursor: pointer;display: block;width: 100%;margin-bottom: 0;padding: 0.3em;box-sizing: border-box;text-align: center;}#sk-container-id-1 label.sk-toggleable__label-arrow:before {content: \"▸\";float: left;margin-right: 0.25em;color: #696969;}#sk-container-id-1 label.sk-toggleable__label-arrow:hover:before {color: black;}#sk-container-id-1 div.sk-estimator:hover label.sk-toggleable__label-arrow:before {color: black;}#sk-container-id-1 div.sk-toggleable__content {max-height: 0;max-width: 0;overflow: hidden;text-align: left;background-color: #f0f8ff;}#sk-container-id-1 div.sk-toggleable__content pre {margin: 0.2em;color: black;border-radius: 0.25em;background-color: #f0f8ff;}#sk-container-id-1 input.sk-toggleable__control:checked~div.sk-toggleable__content {max-height: 200px;max-width: 100%;overflow: auto;}#sk-container-id-1 input.sk-toggleable__control:checked~label.sk-toggleable__label-arrow:before {content: \"▾\";}#sk-container-id-1 div.sk-estimator input.sk-toggleable__control:checked~label.sk-toggleable__label {background-color: #d4ebff;}#sk-container-id-1 div.sk-label input.sk-toggleable__control:checked~label.sk-toggleable__label {background-color: #d4ebff;}#sk-container-id-1 input.sk-hidden--visually {border: 0;clip: rect(1px 1px 1px 1px);clip: rect(1px, 1px, 1px, 1px);height: 1px;margin: -1px;overflow: hidden;padding: 0;position: absolute;width: 1px;}#sk-container-id-1 div.sk-estimator {font-family: monospace;background-color: #f0f8ff;border: 1px dotted black;border-radius: 0.25em;box-sizing: border-box;margin-bottom: 0.5em;}#sk-container-id-1 div.sk-estimator:hover {background-color: #d4ebff;}#sk-container-id-1 div.sk-parallel-item::after {content: \"\";width: 100%;border-bottom: 1px solid gray;flex-grow: 1;}#sk-container-id-1 div.sk-label:hover label.sk-toggleable__label {background-color: #d4ebff;}#sk-container-id-1 div.sk-serial::before {content: \"\";position: absolute;border-left: 1px solid gray;box-sizing: border-box;top: 0;bottom: 0;left: 50%;z-index: 0;}#sk-container-id-1 div.sk-serial {display: flex;flex-direction: column;align-items: center;background-color: white;padding-right: 0.2em;padding-left: 0.2em;position: relative;}#sk-container-id-1 div.sk-item {position: relative;z-index: 1;}#sk-container-id-1 div.sk-parallel {display: flex;align-items: stretch;justify-content: center;background-color: white;position: relative;}#sk-container-id-1 div.sk-item::before, #sk-container-id-1 div.sk-parallel-item::before {content: \"\";position: absolute;border-left: 1px solid gray;box-sizing: border-box;top: 0;bottom: 0;left: 50%;z-index: -1;}#sk-container-id-1 div.sk-parallel-item {display: flex;flex-direction: column;z-index: 1;position: relative;background-color: white;}#sk-container-id-1 div.sk-parallel-item:first-child::after {align-self: flex-end;width: 50%;}#sk-container-id-1 div.sk-parallel-item:last-child::after {align-self: flex-start;width: 50%;}#sk-container-id-1 div.sk-parallel-item:only-child::after {width: 0;}#sk-container-id-1 div.sk-dashed-wrapped {border: 1px dashed gray;margin: 0 0.4em 0.5em 0.4em;box-sizing: border-box;padding-bottom: 0.4em;background-color: white;}#sk-container-id-1 div.sk-label label {font-family: monospace;font-weight: bold;display: inline-block;line-height: 1.2em;}#sk-container-id-1 div.sk-label-container {text-align: center;}#sk-container-id-1 div.sk-container {/* jupyter's `normalize.less` sets `[hidden] { display: none; }` but bootstrap.min.css set `[hidden] { display: none !important; }` so we also need the `!important` here to be able to override the default hidden behavior on the sphinx rendered scikit-learn.org. See: https://github.com/scikit-learn/scikit-learn/issues/21755 */display: inline-block !important;position: relative;}#sk-container-id-1 div.sk-text-repr-fallback {display: none;}</style><div id=\"sk-container-id-1\" class=\"sk-top-container\"><div class=\"sk-text-repr-fallback\"><pre>ColumnTransformer(transformers=[(&#x27;numeric_pipeline&#x27;,\n",
       "                                 Pipeline(steps=[(&#x27;numeric_pipeline&#x27;,\n",
       "                                                  SimpleImputer()),\n",
       "                                                 (&#x27;StdScale&#x27;,\n",
       "                                                  StandardScaler())]),\n",
       "                                 [&#x27;Area_ID&#x27;, &#x27;Reporting_District_no&#x27;,\n",
       "                                  &#x27;Part 1-2&#x27;, &#x27;Victim_Age&#x27;, &#x27;Premise_Code&#x27;,\n",
       "                                  &#x27;Weapon_Used_Code&#x27;, &#x27;year_r&#x27;, &#x27;month_r&#x27;,\n",
       "                                  &#x27;day_r&#x27;, &#x27;year_o&#x27;, &#x27;month_o&#x27;, &#x27;day_o&#x27;,\n",
       "                                  &#x27;time_occurred&#x27;]),\n",
       "                                (&#x27;categorical_pipeline&#x27;,\n",
       "                                 Pipeline(steps=[(&#x27;categorical_pipeline&#x27;,\n",
       "                                                  SimpleImputer(strategy=&#x27;most_frequent&#x27;)),\n",
       "                                                 (&#x27;OneHotencoder&#x27;,\n",
       "                                                  OneHotEncoder())]),\n",
       "                                 [&#x27;Victim_Sex&#x27;, &#x27;Victim_Descent&#x27;, &#x27;Status&#x27;,\n",
       "                                  &#x27;day_name_r&#x27;, &#x27;day_name_o&#x27;])])</pre><b>In a Jupyter environment, please rerun this cell to show the HTML representation or trust the notebook. <br />On GitHub, the HTML representation is unable to render, please try loading this page with nbviewer.org.</b></div><div class=\"sk-container\" hidden><div class=\"sk-item sk-dashed-wrapped\"><div class=\"sk-label-container\"><div class=\"sk-label sk-toggleable\"><input class=\"sk-toggleable__control sk-hidden--visually\" id=\"sk-estimator-id-1\" type=\"checkbox\" ><label for=\"sk-estimator-id-1\" class=\"sk-toggleable__label sk-toggleable__label-arrow\">ColumnTransformer</label><div class=\"sk-toggleable__content\"><pre>ColumnTransformer(transformers=[(&#x27;numeric_pipeline&#x27;,\n",
       "                                 Pipeline(steps=[(&#x27;numeric_pipeline&#x27;,\n",
       "                                                  SimpleImputer()),\n",
       "                                                 (&#x27;StdScale&#x27;,\n",
       "                                                  StandardScaler())]),\n",
       "                                 [&#x27;Area_ID&#x27;, &#x27;Reporting_District_no&#x27;,\n",
       "                                  &#x27;Part 1-2&#x27;, &#x27;Victim_Age&#x27;, &#x27;Premise_Code&#x27;,\n",
       "                                  &#x27;Weapon_Used_Code&#x27;, &#x27;year_r&#x27;, &#x27;month_r&#x27;,\n",
       "                                  &#x27;day_r&#x27;, &#x27;year_o&#x27;, &#x27;month_o&#x27;, &#x27;day_o&#x27;,\n",
       "                                  &#x27;time_occurred&#x27;]),\n",
       "                                (&#x27;categorical_pipeline&#x27;,\n",
       "                                 Pipeline(steps=[(&#x27;categorical_pipeline&#x27;,\n",
       "                                                  SimpleImputer(strategy=&#x27;most_frequent&#x27;)),\n",
       "                                                 (&#x27;OneHotencoder&#x27;,\n",
       "                                                  OneHotEncoder())]),\n",
       "                                 [&#x27;Victim_Sex&#x27;, &#x27;Victim_Descent&#x27;, &#x27;Status&#x27;,\n",
       "                                  &#x27;day_name_r&#x27;, &#x27;day_name_o&#x27;])])</pre></div></div></div><div class=\"sk-parallel\"><div class=\"sk-parallel-item\"><div class=\"sk-item\"><div class=\"sk-label-container\"><div class=\"sk-label sk-toggleable\"><input class=\"sk-toggleable__control sk-hidden--visually\" id=\"sk-estimator-id-2\" type=\"checkbox\" ><label for=\"sk-estimator-id-2\" class=\"sk-toggleable__label sk-toggleable__label-arrow\">numeric_pipeline</label><div class=\"sk-toggleable__content\"><pre>[&#x27;Area_ID&#x27;, &#x27;Reporting_District_no&#x27;, &#x27;Part 1-2&#x27;, &#x27;Victim_Age&#x27;, &#x27;Premise_Code&#x27;, &#x27;Weapon_Used_Code&#x27;, &#x27;year_r&#x27;, &#x27;month_r&#x27;, &#x27;day_r&#x27;, &#x27;year_o&#x27;, &#x27;month_o&#x27;, &#x27;day_o&#x27;, &#x27;time_occurred&#x27;]</pre></div></div></div><div class=\"sk-serial\"><div class=\"sk-item\"><div class=\"sk-serial\"><div class=\"sk-item\"><div class=\"sk-estimator sk-toggleable\"><input class=\"sk-toggleable__control sk-hidden--visually\" id=\"sk-estimator-id-3\" type=\"checkbox\" ><label for=\"sk-estimator-id-3\" class=\"sk-toggleable__label sk-toggleable__label-arrow\">SimpleImputer</label><div class=\"sk-toggleable__content\"><pre>SimpleImputer()</pre></div></div></div><div class=\"sk-item\"><div class=\"sk-estimator sk-toggleable\"><input class=\"sk-toggleable__control sk-hidden--visually\" id=\"sk-estimator-id-4\" type=\"checkbox\" ><label for=\"sk-estimator-id-4\" class=\"sk-toggleable__label sk-toggleable__label-arrow\">StandardScaler</label><div class=\"sk-toggleable__content\"><pre>StandardScaler()</pre></div></div></div></div></div></div></div></div><div class=\"sk-parallel-item\"><div class=\"sk-item\"><div class=\"sk-label-container\"><div class=\"sk-label sk-toggleable\"><input class=\"sk-toggleable__control sk-hidden--visually\" id=\"sk-estimator-id-5\" type=\"checkbox\" ><label for=\"sk-estimator-id-5\" class=\"sk-toggleable__label sk-toggleable__label-arrow\">categorical_pipeline</label><div class=\"sk-toggleable__content\"><pre>[&#x27;Victim_Sex&#x27;, &#x27;Victim_Descent&#x27;, &#x27;Status&#x27;, &#x27;day_name_r&#x27;, &#x27;day_name_o&#x27;]</pre></div></div></div><div class=\"sk-serial\"><div class=\"sk-item\"><div class=\"sk-serial\"><div class=\"sk-item\"><div class=\"sk-estimator sk-toggleable\"><input class=\"sk-toggleable__control sk-hidden--visually\" id=\"sk-estimator-id-6\" type=\"checkbox\" ><label for=\"sk-estimator-id-6\" class=\"sk-toggleable__label sk-toggleable__label-arrow\">SimpleImputer</label><div class=\"sk-toggleable__content\"><pre>SimpleImputer(strategy=&#x27;most_frequent&#x27;)</pre></div></div></div><div class=\"sk-item\"><div class=\"sk-estimator sk-toggleable\"><input class=\"sk-toggleable__control sk-hidden--visually\" id=\"sk-estimator-id-7\" type=\"checkbox\" ><label for=\"sk-estimator-id-7\" class=\"sk-toggleable__label sk-toggleable__label-arrow\">OneHotEncoder</label><div class=\"sk-toggleable__content\"><pre>OneHotEncoder()</pre></div></div></div></div></div></div></div></div></div></div></div></div>"
      ],
      "text/plain": [
       "ColumnTransformer(transformers=[('numeric_pipeline',\n",
       "                                 Pipeline(steps=[('numeric_pipeline',\n",
       "                                                  SimpleImputer()),\n",
       "                                                 ('StdScale',\n",
       "                                                  StandardScaler())]),\n",
       "                                 ['Area_ID', 'Reporting_District_no',\n",
       "                                  'Part 1-2', 'Victim_Age', 'Premise_Code',\n",
       "                                  'Weapon_Used_Code', 'year_r', 'month_r',\n",
       "                                  'day_r', 'year_o', 'month_o', 'day_o',\n",
       "                                  'time_occurred']),\n",
       "                                ('categorical_pipeline',\n",
       "                                 Pipeline(steps=[('categorical_pipeline',\n",
       "                                                  SimpleImputer(strategy='most_frequent')),\n",
       "                                                 ('OneHotencoder',\n",
       "                                                  OneHotEncoder())]),\n",
       "                                 ['Victim_Sex', 'Victim_Descent', 'Status',\n",
       "                                  'day_name_r', 'day_name_o'])])"
      ]
     },
     "execution_count": 43,
     "metadata": {},
     "output_type": "execute_result"
    }
   ],
   "source": [
    "num_cat_transformer"
   ]
  },
  {
   "cell_type": "markdown",
   "id": "1b01f486",
   "metadata": {
    "papermill": {
     "duration": 0.042491,
     "end_time": "2024-08-08T08:20:07.960577",
     "exception": false,
     "start_time": "2024-08-08T08:20:07.918086",
     "status": "completed"
    },
    "tags": []
   },
   "source": [
    "**Column Tranformer combines both the Pipelines**"
   ]
  },
  {
   "cell_type": "code",
   "execution_count": 44,
   "id": "c740085e",
   "metadata": {
    "execution": {
     "iopub.execute_input": "2024-08-08T08:20:08.047278Z",
     "iopub.status.busy": "2024-08-08T08:20:08.046859Z",
     "iopub.status.idle": "2024-08-08T08:20:08.052244Z",
     "shell.execute_reply": "2024-08-08T08:20:08.051053Z"
    },
    "papermill": {
     "duration": 0.052038,
     "end_time": "2024-08-08T08:20:08.055055",
     "exception": false,
     "start_time": "2024-08-08T08:20:08.003017",
     "status": "completed"
    },
    "tags": []
   },
   "outputs": [],
   "source": [
    "label_encoder=LabelEncoder()"
   ]
  },
  {
   "cell_type": "code",
   "execution_count": 45,
   "id": "13d77247",
   "metadata": {
    "execution": {
     "iopub.execute_input": "2024-08-08T08:20:08.141312Z",
     "iopub.status.busy": "2024-08-08T08:20:08.140891Z",
     "iopub.status.idle": "2024-08-08T08:20:08.292399Z",
     "shell.execute_reply": "2024-08-08T08:20:08.290868Z"
    },
    "papermill": {
     "duration": 0.19807,
     "end_time": "2024-08-08T08:20:08.295263",
     "exception": false,
     "start_time": "2024-08-08T08:20:08.097193",
     "status": "completed"
    },
    "tags": []
   },
   "outputs": [],
   "source": [
    "X_train_transformed=num_cat_transformer.fit_transform(X_train)\n",
    "X_val_transformed=num_cat_transformer.transform(X_val)\n",
    "\n",
    "X_test_transformed=num_cat_transformer.transform(X_test)\n",
    "\n",
    "Y_train_transformed=label_encoder.fit_transform(Y_train.squeeze())\n",
    "Y_val_transformed=label_encoder.transform(Y_val.squeeze())\n",
    "# Y_train_transformed=train_target_transformer.fit_transform(Y_train)\n",
    "\n",
    "# Y_val_transformed=train_target_transformer.transform(Y_val)"
   ]
  },
  {
   "cell_type": "code",
   "execution_count": 46,
   "id": "c948b27f",
   "metadata": {
    "execution": {
     "iopub.execute_input": "2024-08-08T08:20:08.381408Z",
     "iopub.status.busy": "2024-08-08T08:20:08.381031Z",
     "iopub.status.idle": "2024-08-08T08:20:08.389637Z",
     "shell.execute_reply": "2024-08-08T08:20:08.388311Z"
    },
    "papermill": {
     "duration": 0.054864,
     "end_time": "2024-08-08T08:20:08.392279",
     "exception": false,
     "start_time": "2024-08-08T08:20:08.337415",
     "status": "completed"
    },
    "tags": []
   },
   "outputs": [
    {
     "data": {
      "text/plain": [
       "['label_encoder.pkl']"
      ]
     },
     "execution_count": 46,
     "metadata": {},
     "output_type": "execute_result"
    }
   ],
   "source": [
    "joblib.dump(label_encoder,'label_encoder.pkl')"
   ]
  },
  {
   "cell_type": "code",
   "execution_count": 47,
   "id": "526c60ac",
   "metadata": {
    "execution": {
     "iopub.execute_input": "2024-08-08T08:20:08.481282Z",
     "iopub.status.busy": "2024-08-08T08:20:08.480855Z",
     "iopub.status.idle": "2024-08-08T08:20:08.709328Z",
     "shell.execute_reply": "2024-08-08T08:20:08.707902Z"
    },
    "papermill": {
     "duration": 0.276441,
     "end_time": "2024-08-08T08:20:08.712295",
     "exception": false,
     "start_time": "2024-08-08T08:20:08.435854",
     "status": "completed"
    },
    "tags": []
   },
   "outputs": [],
   "source": [
    "mo_df=pd.DataFrame(X_train)\n",
    "mo_df[\"Modus_Operandi\"]=mo_df[\"Modus_Operandi\"].apply(lambda x: x.split() if isinstance(x,str) else [])\n",
    "MLB=MultiLabelBinarizer()\n",
    "Modus_Operandi_new=MLB.fit_transform(mo_df[\"Modus_Operandi\"])\n",
    "Modus_Operandi=pd.DataFrame(Modus_Operandi_new,columns=MLB.classes_)"
   ]
  },
  {
   "cell_type": "code",
   "execution_count": 48,
   "id": "3f461dcf",
   "metadata": {
    "execution": {
     "iopub.execute_input": "2024-08-08T08:20:08.799050Z",
     "iopub.status.busy": "2024-08-08T08:20:08.798632Z",
     "iopub.status.idle": "2024-08-08T08:20:08.835113Z",
     "shell.execute_reply": "2024-08-08T08:20:08.833884Z"
    },
    "papermill": {
     "duration": 0.082958,
     "end_time": "2024-08-08T08:20:08.837848",
     "exception": false,
     "start_time": "2024-08-08T08:20:08.754890",
     "status": "completed"
    },
    "tags": []
   },
   "outputs": [
    {
     "name": "stderr",
     "output_type": "stream",
     "text": [
      "/opt/conda/lib/python3.10/site-packages/sklearn/preprocessing/_label.py:895: UserWarning: unknown class(es) ['0383', '0402', '0405', '0543', '0547', '0604', '0933', '0944', '0946', '1006', '1225', '1277', '1316', '1404', '1405', '1406', '2022', '2025', '2201'] will be ignored\n",
      "  warnings.warn(\n"
     ]
    }
   ],
   "source": [
    "mo_df_val=pd.DataFrame(X_val)\n",
    "mo_df_val[\"Modus_Operandi\"]=mo_df_val[\"Modus_Operandi\"].apply(lambda x: x.split() if isinstance(x,str) else [])\n",
    "# MLB=MultiLabelBinarizer()\n",
    "# Modus_Operandi_new_test=MLB.fit_transform(mo_df_test[\"Modus_Operandi\"])\n",
    "Modus_Operandi_new_val=MLB.transform(mo_df_val[\"Modus_Operandi\"])\n",
    "Modus_Operandi_val=pd.DataFrame(Modus_Operandi_new_val,columns=MLB.classes_)"
   ]
  },
  {
   "cell_type": "code",
   "execution_count": 49,
   "id": "97a3aeca",
   "metadata": {
    "execution": {
     "iopub.execute_input": "2024-08-08T08:20:08.927646Z",
     "iopub.status.busy": "2024-08-08T08:20:08.927238Z",
     "iopub.status.idle": "2024-08-08T08:20:08.970700Z",
     "shell.execute_reply": "2024-08-08T08:20:08.969190Z"
    },
    "papermill": {
     "duration": 0.092248,
     "end_time": "2024-08-08T08:20:08.973565",
     "exception": false,
     "start_time": "2024-08-08T08:20:08.881317",
     "status": "completed"
    },
    "tags": []
   },
   "outputs": [
    {
     "name": "stderr",
     "output_type": "stream",
     "text": [
      "/opt/conda/lib/python3.10/site-packages/sklearn/preprocessing/_label.py:895: UserWarning: unknown class(es) ['0218', '0306', '0320', '0383', '0393', '0403', '0518', '0540', '0543', '0854', '0946', '1011', '1225', '1231', '1255', '1277', '1314', '1316', '2022', '2026', '2043', '2044', '2208', '2308', '3030'] will be ignored\n",
      "  warnings.warn(\n"
     ]
    }
   ],
   "source": [
    "mo_df_test=pd.DataFrame(X_test)\n",
    "mo_df_test[\"Modus_Operandi\"]=mo_df_test[\"Modus_Operandi\"].apply(lambda x: x.split() if isinstance(x,str) else [])\n",
    "# MLB=MultiLabelBinarizer()\n",
    "# Modus_Operandi_new_test=MLB.fit_transform(mo_df_test[\"Modus_Operandi\"])\n",
    "Modus_Operandi_new_test=MLB.transform(mo_df_test[\"Modus_Operandi\"])\n",
    "Modus_Operandi_test=pd.DataFrame(Modus_Operandi_new_test,columns=MLB.classes_)"
   ]
  },
  {
   "cell_type": "markdown",
   "id": "444e8d06",
   "metadata": {
    "papermill": {
     "duration": 0.043565,
     "end_time": "2024-08-08T08:20:09.061014",
     "exception": false,
     "start_time": "2024-08-08T08:20:09.017449",
     "status": "completed"
    },
    "tags": []
   },
   "source": [
    "**The target column is encoded with multilabel binarizer**"
   ]
  },
  {
   "cell_type": "code",
   "execution_count": 50,
   "id": "5d835599",
   "metadata": {
    "execution": {
     "iopub.execute_input": "2024-08-08T08:20:09.155941Z",
     "iopub.status.busy": "2024-08-08T08:20:09.155480Z",
     "iopub.status.idle": "2024-08-08T08:20:09.162429Z",
     "shell.execute_reply": "2024-08-08T08:20:09.161291Z"
    },
    "papermill": {
     "duration": 0.054254,
     "end_time": "2024-08-08T08:20:09.165119",
     "exception": false,
     "start_time": "2024-08-08T08:20:09.110865",
     "status": "completed"
    },
    "tags": []
   },
   "outputs": [],
   "source": [
    "X_train_transformed=pd.DataFrame(X_train_transformed)\n",
    "X_val_transformed=pd.DataFrame(X_val_transformed)\n",
    "\n",
    "X_test_transformed=pd.DataFrame(X_test_transformed)\n",
    "\n",
    "Y_train_transformed=pd.DataFrame(Y_train_transformed)\n",
    "Y_val_transformed=pd.DataFrame(Y_val_transformed)"
   ]
  },
  {
   "cell_type": "code",
   "execution_count": 51,
   "id": "e97ca952",
   "metadata": {
    "execution": {
     "iopub.execute_input": "2024-08-08T08:20:09.256061Z",
     "iopub.status.busy": "2024-08-08T08:20:09.255609Z",
     "iopub.status.idle": "2024-08-08T08:20:09.380956Z",
     "shell.execute_reply": "2024-08-08T08:20:09.379721Z"
    },
    "papermill": {
     "duration": 0.174514,
     "end_time": "2024-08-08T08:20:09.383652",
     "exception": false,
     "start_time": "2024-08-08T08:20:09.209138",
     "status": "completed"
    },
    "tags": []
   },
   "outputs": [],
   "source": [
    "X_train_transformed=pd.concat([X_train_transformed,Modus_Operandi],axis=1)"
   ]
  },
  {
   "cell_type": "code",
   "execution_count": 52,
   "id": "0407396d",
   "metadata": {
    "execution": {
     "iopub.execute_input": "2024-08-08T08:20:09.470839Z",
     "iopub.status.busy": "2024-08-08T08:20:09.470397Z",
     "iopub.status.idle": "2024-08-08T08:20:09.500862Z",
     "shell.execute_reply": "2024-08-08T08:20:09.499744Z"
    },
    "papermill": {
     "duration": 0.077468,
     "end_time": "2024-08-08T08:20:09.503564",
     "exception": false,
     "start_time": "2024-08-08T08:20:09.426096",
     "status": "completed"
    },
    "tags": []
   },
   "outputs": [],
   "source": [
    "X_val_transformed=pd.concat([X_val_transformed,Modus_Operandi_val],axis=1)"
   ]
  },
  {
   "cell_type": "code",
   "execution_count": 53,
   "id": "5ed2ef9a",
   "metadata": {
    "execution": {
     "iopub.execute_input": "2024-08-08T08:20:09.593029Z",
     "iopub.status.busy": "2024-08-08T08:20:09.591641Z",
     "iopub.status.idle": "2024-08-08T08:20:09.628591Z",
     "shell.execute_reply": "2024-08-08T08:20:09.627375Z"
    },
    "papermill": {
     "duration": 0.083839,
     "end_time": "2024-08-08T08:20:09.631606",
     "exception": false,
     "start_time": "2024-08-08T08:20:09.547767",
     "status": "completed"
    },
    "tags": []
   },
   "outputs": [],
   "source": [
    "X_test_transformed=pd.concat([X_test_transformed,Modus_Operandi_test],axis=1)"
   ]
  },
  {
   "cell_type": "code",
   "execution_count": 54,
   "id": "ab42c425",
   "metadata": {
    "execution": {
     "iopub.execute_input": "2024-08-08T08:20:09.721944Z",
     "iopub.status.busy": "2024-08-08T08:20:09.721490Z",
     "iopub.status.idle": "2024-08-08T08:20:09.726300Z",
     "shell.execute_reply": "2024-08-08T08:20:09.725206Z"
    },
    "papermill": {
     "duration": 0.052422,
     "end_time": "2024-08-08T08:20:09.728712",
     "exception": false,
     "start_time": "2024-08-08T08:20:09.676290",
     "status": "completed"
    },
    "tags": []
   },
   "outputs": [],
   "source": [
    "# X_train_transformed=X_train_transformed.drop(columns=[\"Modus_Operandi\"])\n",
    "# X_val_transformed=X_val_transformed.drop(columns=[\"Modus_Operandi\"])"
   ]
  },
  {
   "cell_type": "code",
   "execution_count": 55,
   "id": "f4ea4743",
   "metadata": {
    "execution": {
     "iopub.execute_input": "2024-08-08T08:20:09.817016Z",
     "iopub.status.busy": "2024-08-08T08:20:09.816573Z",
     "iopub.status.idle": "2024-08-08T08:20:09.824418Z",
     "shell.execute_reply": "2024-08-08T08:20:09.823048Z"
    },
    "papermill": {
     "duration": 0.055254,
     "end_time": "2024-08-08T08:20:09.827283",
     "exception": false,
     "start_time": "2024-08-08T08:20:09.772029",
     "status": "completed"
    },
    "tags": []
   },
   "outputs": [],
   "source": [
    "X_train_transformed.columns=X_train_transformed.columns.astype(str)\n",
    "X_val_transformed.columns=X_val_transformed.columns.astype(str)\n",
    "\n",
    "X_test_transformed.columns=X_test_transformed.columns.astype(str)\n",
    "\n",
    "Y_train_transformed.columns=Y_train_transformed.columns.astype(str)\n",
    "Y_val_transformed.columns=Y_val_transformed.columns.astype(str)"
   ]
  },
  {
   "cell_type": "code",
   "execution_count": 56,
   "id": "2a717575",
   "metadata": {
    "execution": {
     "iopub.execute_input": "2024-08-08T08:20:09.917228Z",
     "iopub.status.busy": "2024-08-08T08:20:09.915722Z",
     "iopub.status.idle": "2024-08-08T08:20:09.921577Z",
     "shell.execute_reply": "2024-08-08T08:20:09.920388Z"
    },
    "papermill": {
     "duration": 0.053046,
     "end_time": "2024-08-08T08:20:09.924287",
     "exception": false,
     "start_time": "2024-08-08T08:20:09.871241",
     "status": "completed"
    },
    "tags": []
   },
   "outputs": [],
   "source": [
    "# Y_val_transformed"
   ]
  },
  {
   "cell_type": "code",
   "execution_count": 57,
   "id": "2b4ba32c",
   "metadata": {
    "execution": {
     "iopub.execute_input": "2024-08-08T08:20:10.014642Z",
     "iopub.status.busy": "2024-08-08T08:20:10.014230Z",
     "iopub.status.idle": "2024-08-08T08:20:10.019126Z",
     "shell.execute_reply": "2024-08-08T08:20:10.017997Z"
    },
    "papermill": {
     "duration": 0.053295,
     "end_time": "2024-08-08T08:20:10.021671",
     "exception": false,
     "start_time": "2024-08-08T08:20:09.968376",
     "status": "completed"
    },
    "tags": []
   },
   "outputs": [],
   "source": [
    "# X_train_transformed"
   ]
  },
  {
   "cell_type": "code",
   "execution_count": 58,
   "id": "01563202",
   "metadata": {
    "execution": {
     "iopub.execute_input": "2024-08-08T08:20:10.108507Z",
     "iopub.status.busy": "2024-08-08T08:20:10.108104Z",
     "iopub.status.idle": "2024-08-08T08:20:10.113197Z",
     "shell.execute_reply": "2024-08-08T08:20:10.111870Z"
    },
    "papermill": {
     "duration": 0.051664,
     "end_time": "2024-08-08T08:20:10.115830",
     "exception": false,
     "start_time": "2024-08-08T08:20:10.064166",
     "status": "completed"
    },
    "tags": []
   },
   "outputs": [],
   "source": [
    "# X_val_transformed"
   ]
  },
  {
   "cell_type": "code",
   "execution_count": 59,
   "id": "10f81021",
   "metadata": {
    "execution": {
     "iopub.execute_input": "2024-08-08T08:20:10.204927Z",
     "iopub.status.busy": "2024-08-08T08:20:10.204518Z",
     "iopub.status.idle": "2024-08-08T08:20:10.209585Z",
     "shell.execute_reply": "2024-08-08T08:20:10.208344Z"
    },
    "papermill": {
     "duration": 0.053349,
     "end_time": "2024-08-08T08:20:10.212038",
     "exception": false,
     "start_time": "2024-08-08T08:20:10.158689",
     "status": "completed"
    },
    "tags": []
   },
   "outputs": [],
   "source": [
    "# X_test_transformed"
   ]
  },
  {
   "cell_type": "markdown",
   "id": "13a4d122",
   "metadata": {
    "papermill": {
     "duration": 0.042633,
     "end_time": "2024-08-08T08:20:10.297527",
     "exception": false,
     "start_time": "2024-08-08T08:20:10.254894",
     "status": "completed"
    },
    "tags": []
   },
   "source": [
    "**Feature Selection**"
   ]
  },
  {
   "cell_type": "code",
   "execution_count": 60,
   "id": "557bafc3",
   "metadata": {
    "execution": {
     "iopub.execute_input": "2024-08-08T08:20:10.385993Z",
     "iopub.status.busy": "2024-08-08T08:20:10.385591Z",
     "iopub.status.idle": "2024-08-08T08:20:10.391558Z",
     "shell.execute_reply": "2024-08-08T08:20:10.390388Z"
    },
    "papermill": {
     "duration": 0.053285,
     "end_time": "2024-08-08T08:20:10.394125",
     "exception": false,
     "start_time": "2024-08-08T08:20:10.340840",
     "status": "completed"
    },
    "tags": []
   },
   "outputs": [],
   "source": [
    "feature_selection=RandomForestClassifier(n_estimators=100,random_state=42)"
   ]
  },
  {
   "cell_type": "code",
   "execution_count": 61,
   "id": "b60a7db4",
   "metadata": {
    "execution": {
     "iopub.execute_input": "2024-08-08T08:20:10.482901Z",
     "iopub.status.busy": "2024-08-08T08:20:10.482455Z",
     "iopub.status.idle": "2024-08-08T08:20:15.709188Z",
     "shell.execute_reply": "2024-08-08T08:20:15.707986Z"
    },
    "papermill": {
     "duration": 5.274132,
     "end_time": "2024-08-08T08:20:15.711987",
     "exception": false,
     "start_time": "2024-08-08T08:20:10.437855",
     "status": "completed"
    },
    "tags": []
   },
   "outputs": [
    {
     "name": "stderr",
     "output_type": "stream",
     "text": [
      "/opt/conda/lib/python3.10/site-packages/sklearn/feature_selection/_from_model.py:357: DataConversionWarning: A column-vector y was passed when a 1d array was expected. Please change the shape of y to (n_samples,), for example using ravel().\n",
      "  self.estimator_.fit(X, y, **fit_params)\n"
     ]
    },
    {
     "data": {
      "text/html": [
       "<style>#sk-container-id-2 {color: black;background-color: white;}#sk-container-id-2 pre{padding: 0;}#sk-container-id-2 div.sk-toggleable {background-color: white;}#sk-container-id-2 label.sk-toggleable__label {cursor: pointer;display: block;width: 100%;margin-bottom: 0;padding: 0.3em;box-sizing: border-box;text-align: center;}#sk-container-id-2 label.sk-toggleable__label-arrow:before {content: \"▸\";float: left;margin-right: 0.25em;color: #696969;}#sk-container-id-2 label.sk-toggleable__label-arrow:hover:before {color: black;}#sk-container-id-2 div.sk-estimator:hover label.sk-toggleable__label-arrow:before {color: black;}#sk-container-id-2 div.sk-toggleable__content {max-height: 0;max-width: 0;overflow: hidden;text-align: left;background-color: #f0f8ff;}#sk-container-id-2 div.sk-toggleable__content pre {margin: 0.2em;color: black;border-radius: 0.25em;background-color: #f0f8ff;}#sk-container-id-2 input.sk-toggleable__control:checked~div.sk-toggleable__content {max-height: 200px;max-width: 100%;overflow: auto;}#sk-container-id-2 input.sk-toggleable__control:checked~label.sk-toggleable__label-arrow:before {content: \"▾\";}#sk-container-id-2 div.sk-estimator input.sk-toggleable__control:checked~label.sk-toggleable__label {background-color: #d4ebff;}#sk-container-id-2 div.sk-label input.sk-toggleable__control:checked~label.sk-toggleable__label {background-color: #d4ebff;}#sk-container-id-2 input.sk-hidden--visually {border: 0;clip: rect(1px 1px 1px 1px);clip: rect(1px, 1px, 1px, 1px);height: 1px;margin: -1px;overflow: hidden;padding: 0;position: absolute;width: 1px;}#sk-container-id-2 div.sk-estimator {font-family: monospace;background-color: #f0f8ff;border: 1px dotted black;border-radius: 0.25em;box-sizing: border-box;margin-bottom: 0.5em;}#sk-container-id-2 div.sk-estimator:hover {background-color: #d4ebff;}#sk-container-id-2 div.sk-parallel-item::after {content: \"\";width: 100%;border-bottom: 1px solid gray;flex-grow: 1;}#sk-container-id-2 div.sk-label:hover label.sk-toggleable__label {background-color: #d4ebff;}#sk-container-id-2 div.sk-serial::before {content: \"\";position: absolute;border-left: 1px solid gray;box-sizing: border-box;top: 0;bottom: 0;left: 50%;z-index: 0;}#sk-container-id-2 div.sk-serial {display: flex;flex-direction: column;align-items: center;background-color: white;padding-right: 0.2em;padding-left: 0.2em;position: relative;}#sk-container-id-2 div.sk-item {position: relative;z-index: 1;}#sk-container-id-2 div.sk-parallel {display: flex;align-items: stretch;justify-content: center;background-color: white;position: relative;}#sk-container-id-2 div.sk-item::before, #sk-container-id-2 div.sk-parallel-item::before {content: \"\";position: absolute;border-left: 1px solid gray;box-sizing: border-box;top: 0;bottom: 0;left: 50%;z-index: -1;}#sk-container-id-2 div.sk-parallel-item {display: flex;flex-direction: column;z-index: 1;position: relative;background-color: white;}#sk-container-id-2 div.sk-parallel-item:first-child::after {align-self: flex-end;width: 50%;}#sk-container-id-2 div.sk-parallel-item:last-child::after {align-self: flex-start;width: 50%;}#sk-container-id-2 div.sk-parallel-item:only-child::after {width: 0;}#sk-container-id-2 div.sk-dashed-wrapped {border: 1px dashed gray;margin: 0 0.4em 0.5em 0.4em;box-sizing: border-box;padding-bottom: 0.4em;background-color: white;}#sk-container-id-2 div.sk-label label {font-family: monospace;font-weight: bold;display: inline-block;line-height: 1.2em;}#sk-container-id-2 div.sk-label-container {text-align: center;}#sk-container-id-2 div.sk-container {/* jupyter's `normalize.less` sets `[hidden] { display: none; }` but bootstrap.min.css set `[hidden] { display: none !important; }` so we also need the `!important` here to be able to override the default hidden behavior on the sphinx rendered scikit-learn.org. See: https://github.com/scikit-learn/scikit-learn/issues/21755 */display: inline-block !important;position: relative;}#sk-container-id-2 div.sk-text-repr-fallback {display: none;}</style><div id=\"sk-container-id-2\" class=\"sk-top-container\"><div class=\"sk-text-repr-fallback\"><pre>SelectFromModel(estimator=RandomForestClassifier(random_state=42))</pre><b>In a Jupyter environment, please rerun this cell to show the HTML representation or trust the notebook. <br />On GitHub, the HTML representation is unable to render, please try loading this page with nbviewer.org.</b></div><div class=\"sk-container\" hidden><div class=\"sk-item sk-dashed-wrapped\"><div class=\"sk-label-container\"><div class=\"sk-label sk-toggleable\"><input class=\"sk-toggleable__control sk-hidden--visually\" id=\"sk-estimator-id-8\" type=\"checkbox\" ><label for=\"sk-estimator-id-8\" class=\"sk-toggleable__label sk-toggleable__label-arrow\">SelectFromModel</label><div class=\"sk-toggleable__content\"><pre>SelectFromModel(estimator=RandomForestClassifier(random_state=42))</pre></div></div></div><div class=\"sk-parallel\"><div class=\"sk-parallel-item\"><div class=\"sk-item\"><div class=\"sk-label-container\"><div class=\"sk-label sk-toggleable\"><input class=\"sk-toggleable__control sk-hidden--visually\" id=\"sk-estimator-id-9\" type=\"checkbox\" ><label for=\"sk-estimator-id-9\" class=\"sk-toggleable__label sk-toggleable__label-arrow\">estimator: RandomForestClassifier</label><div class=\"sk-toggleable__content\"><pre>RandomForestClassifier(random_state=42)</pre></div></div></div><div class=\"sk-serial\"><div class=\"sk-item\"><div class=\"sk-estimator sk-toggleable\"><input class=\"sk-toggleable__control sk-hidden--visually\" id=\"sk-estimator-id-10\" type=\"checkbox\" ><label for=\"sk-estimator-id-10\" class=\"sk-toggleable__label sk-toggleable__label-arrow\">RandomForestClassifier</label><div class=\"sk-toggleable__content\"><pre>RandomForestClassifier(random_state=42)</pre></div></div></div></div></div></div></div></div></div></div>"
      ],
      "text/plain": [
       "SelectFromModel(estimator=RandomForestClassifier(random_state=42))"
      ]
     },
     "execution_count": 61,
     "metadata": {},
     "output_type": "execute_result"
    }
   ],
   "source": [
    "#Fitting the feature selection model\n",
    "fselector=SelectFromModel(feature_selection)\n",
    "fselector.fit(X_train_transformed,Y_train_transformed)"
   ]
  },
  {
   "cell_type": "code",
   "execution_count": 62,
   "id": "4930ff75",
   "metadata": {
    "execution": {
     "iopub.execute_input": "2024-08-08T08:20:15.801236Z",
     "iopub.status.busy": "2024-08-08T08:20:15.800820Z",
     "iopub.status.idle": "2024-08-08T08:20:15.970246Z",
     "shell.execute_reply": "2024-08-08T08:20:15.968907Z"
    },
    "papermill": {
     "duration": 0.217687,
     "end_time": "2024-08-08T08:20:15.973233",
     "exception": false,
     "start_time": "2024-08-08T08:20:15.755546",
     "status": "completed"
    },
    "tags": []
   },
   "outputs": [],
   "source": [
    "X_train_selected=fselector.transform(X_train_transformed)\n",
    "X_val_selected=fselector.transform(X_val_transformed)\n",
    "X_test_selected=fselector.transform(X_test_transformed)"
   ]
  },
  {
   "cell_type": "code",
   "execution_count": 63,
   "id": "e6743314",
   "metadata": {
    "execution": {
     "iopub.execute_input": "2024-08-08T08:20:16.061843Z",
     "iopub.status.busy": "2024-08-08T08:20:16.061395Z",
     "iopub.status.idle": "2024-08-08T08:20:16.067141Z",
     "shell.execute_reply": "2024-08-08T08:20:16.065637Z"
    },
    "papermill": {
     "duration": 0.053153,
     "end_time": "2024-08-08T08:20:16.069884",
     "exception": false,
     "start_time": "2024-08-08T08:20:16.016731",
     "status": "completed"
    },
    "tags": []
   },
   "outputs": [],
   "source": [
    "# abc=X_train_transformed.columns[fselector.get_support()]\n",
    "# print(abc)"
   ]
  },
  {
   "cell_type": "markdown",
   "id": "c3bedbd8",
   "metadata": {
    "papermill": {
     "duration": 0.044691,
     "end_time": "2024-08-08T08:20:16.159078",
     "exception": false,
     "start_time": "2024-08-08T08:20:16.114387",
     "status": "completed"
    },
    "tags": []
   },
   "source": [
    "**DECISION TREE**"
   ]
  },
  {
   "cell_type": "code",
   "execution_count": 64,
   "id": "8acc7dff",
   "metadata": {
    "execution": {
     "iopub.execute_input": "2024-08-08T08:20:16.256210Z",
     "iopub.status.busy": "2024-08-08T08:20:16.255753Z",
     "iopub.status.idle": "2024-08-08T08:20:16.452224Z",
     "shell.execute_reply": "2024-08-08T08:20:16.450851Z"
    },
    "papermill": {
     "duration": 0.248998,
     "end_time": "2024-08-08T08:20:16.455001",
     "exception": false,
     "start_time": "2024-08-08T08:20:16.206003",
     "status": "completed"
    },
    "tags": []
   },
   "outputs": [
    {
     "data": {
      "text/html": [
       "<style>#sk-container-id-3 {color: black;background-color: white;}#sk-container-id-3 pre{padding: 0;}#sk-container-id-3 div.sk-toggleable {background-color: white;}#sk-container-id-3 label.sk-toggleable__label {cursor: pointer;display: block;width: 100%;margin-bottom: 0;padding: 0.3em;box-sizing: border-box;text-align: center;}#sk-container-id-3 label.sk-toggleable__label-arrow:before {content: \"▸\";float: left;margin-right: 0.25em;color: #696969;}#sk-container-id-3 label.sk-toggleable__label-arrow:hover:before {color: black;}#sk-container-id-3 div.sk-estimator:hover label.sk-toggleable__label-arrow:before {color: black;}#sk-container-id-3 div.sk-toggleable__content {max-height: 0;max-width: 0;overflow: hidden;text-align: left;background-color: #f0f8ff;}#sk-container-id-3 div.sk-toggleable__content pre {margin: 0.2em;color: black;border-radius: 0.25em;background-color: #f0f8ff;}#sk-container-id-3 input.sk-toggleable__control:checked~div.sk-toggleable__content {max-height: 200px;max-width: 100%;overflow: auto;}#sk-container-id-3 input.sk-toggleable__control:checked~label.sk-toggleable__label-arrow:before {content: \"▾\";}#sk-container-id-3 div.sk-estimator input.sk-toggleable__control:checked~label.sk-toggleable__label {background-color: #d4ebff;}#sk-container-id-3 div.sk-label input.sk-toggleable__control:checked~label.sk-toggleable__label {background-color: #d4ebff;}#sk-container-id-3 input.sk-hidden--visually {border: 0;clip: rect(1px 1px 1px 1px);clip: rect(1px, 1px, 1px, 1px);height: 1px;margin: -1px;overflow: hidden;padding: 0;position: absolute;width: 1px;}#sk-container-id-3 div.sk-estimator {font-family: monospace;background-color: #f0f8ff;border: 1px dotted black;border-radius: 0.25em;box-sizing: border-box;margin-bottom: 0.5em;}#sk-container-id-3 div.sk-estimator:hover {background-color: #d4ebff;}#sk-container-id-3 div.sk-parallel-item::after {content: \"\";width: 100%;border-bottom: 1px solid gray;flex-grow: 1;}#sk-container-id-3 div.sk-label:hover label.sk-toggleable__label {background-color: #d4ebff;}#sk-container-id-3 div.sk-serial::before {content: \"\";position: absolute;border-left: 1px solid gray;box-sizing: border-box;top: 0;bottom: 0;left: 50%;z-index: 0;}#sk-container-id-3 div.sk-serial {display: flex;flex-direction: column;align-items: center;background-color: white;padding-right: 0.2em;padding-left: 0.2em;position: relative;}#sk-container-id-3 div.sk-item {position: relative;z-index: 1;}#sk-container-id-3 div.sk-parallel {display: flex;align-items: stretch;justify-content: center;background-color: white;position: relative;}#sk-container-id-3 div.sk-item::before, #sk-container-id-3 div.sk-parallel-item::before {content: \"\";position: absolute;border-left: 1px solid gray;box-sizing: border-box;top: 0;bottom: 0;left: 50%;z-index: -1;}#sk-container-id-3 div.sk-parallel-item {display: flex;flex-direction: column;z-index: 1;position: relative;background-color: white;}#sk-container-id-3 div.sk-parallel-item:first-child::after {align-self: flex-end;width: 50%;}#sk-container-id-3 div.sk-parallel-item:last-child::after {align-self: flex-start;width: 50%;}#sk-container-id-3 div.sk-parallel-item:only-child::after {width: 0;}#sk-container-id-3 div.sk-dashed-wrapped {border: 1px dashed gray;margin: 0 0.4em 0.5em 0.4em;box-sizing: border-box;padding-bottom: 0.4em;background-color: white;}#sk-container-id-3 div.sk-label label {font-family: monospace;font-weight: bold;display: inline-block;line-height: 1.2em;}#sk-container-id-3 div.sk-label-container {text-align: center;}#sk-container-id-3 div.sk-container {/* jupyter's `normalize.less` sets `[hidden] { display: none; }` but bootstrap.min.css set `[hidden] { display: none !important; }` so we also need the `!important` here to be able to override the default hidden behavior on the sphinx rendered scikit-learn.org. See: https://github.com/scikit-learn/scikit-learn/issues/21755 */display: inline-block !important;position: relative;}#sk-container-id-3 div.sk-text-repr-fallback {display: none;}</style><div id=\"sk-container-id-3\" class=\"sk-top-container\"><div class=\"sk-text-repr-fallback\"><pre>DecisionTreeClassifier(random_state=42)</pre><b>In a Jupyter environment, please rerun this cell to show the HTML representation or trust the notebook. <br />On GitHub, the HTML representation is unable to render, please try loading this page with nbviewer.org.</b></div><div class=\"sk-container\" hidden><div class=\"sk-item\"><div class=\"sk-estimator sk-toggleable\"><input class=\"sk-toggleable__control sk-hidden--visually\" id=\"sk-estimator-id-11\" type=\"checkbox\" checked><label for=\"sk-estimator-id-11\" class=\"sk-toggleable__label sk-toggleable__label-arrow\">DecisionTreeClassifier</label><div class=\"sk-toggleable__content\"><pre>DecisionTreeClassifier(random_state=42)</pre></div></div></div></div></div>"
      ],
      "text/plain": [
       "DecisionTreeClassifier(random_state=42)"
      ]
     },
     "execution_count": 64,
     "metadata": {},
     "output_type": "execute_result"
    }
   ],
   "source": [
    "decision_tree=DecisionTreeClassifier(random_state=42)\n",
    "decision_tree.fit(X_train_selected,Y_train_transformed)"
   ]
  },
  {
   "cell_type": "code",
   "execution_count": 65,
   "id": "347cd53c",
   "metadata": {
    "execution": {
     "iopub.execute_input": "2024-08-08T08:20:16.554187Z",
     "iopub.status.busy": "2024-08-08T08:20:16.553780Z",
     "iopub.status.idle": "2024-08-08T08:20:16.567218Z",
     "shell.execute_reply": "2024-08-08T08:20:16.565716Z"
    },
    "papermill": {
     "duration": 0.064993,
     "end_time": "2024-08-08T08:20:16.570144",
     "exception": false,
     "start_time": "2024-08-08T08:20:16.505151",
     "status": "completed"
    },
    "tags": []
   },
   "outputs": [
    {
     "name": "stdout",
     "output_type": "stream",
     "text": [
      "DECISION TREE ACCURACY: 0.9183\n"
     ]
    }
   ],
   "source": [
    "y_dec_tree_pred=decision_tree.predict(X_val_selected)\n",
    "decision_tree_accuracy=accuracy_score(Y_val_transformed,y_dec_tree_pred)\n",
    "print(f\"DECISION TREE ACCURACY: {decision_tree_accuracy:.4f}\")"
   ]
  },
  {
   "cell_type": "markdown",
   "id": "65c3cc6d",
   "metadata": {
    "papermill": {
     "duration": 0.045274,
     "end_time": "2024-08-08T08:20:16.659546",
     "exception": false,
     "start_time": "2024-08-08T08:20:16.614272",
     "status": "completed"
    },
    "tags": []
   },
   "source": [
    "**The accuracy of Decision Tree is 0.9195**"
   ]
  },
  {
   "cell_type": "markdown",
   "id": "18390f02",
   "metadata": {
    "papermill": {
     "duration": 0.043558,
     "end_time": "2024-08-08T08:20:16.748463",
     "exception": false,
     "start_time": "2024-08-08T08:20:16.704905",
     "status": "completed"
    },
    "tags": []
   },
   "source": [
    "**KNN**"
   ]
  },
  {
   "cell_type": "code",
   "execution_count": 66,
   "id": "65bbf111",
   "metadata": {
    "execution": {
     "iopub.execute_input": "2024-08-08T08:20:16.837159Z",
     "iopub.status.busy": "2024-08-08T08:20:16.836713Z",
     "iopub.status.idle": "2024-08-08T08:20:17.451842Z",
     "shell.execute_reply": "2024-08-08T08:20:17.450528Z"
    },
    "papermill": {
     "duration": 0.662984,
     "end_time": "2024-08-08T08:20:17.454690",
     "exception": false,
     "start_time": "2024-08-08T08:20:16.791706",
     "status": "completed"
    },
    "tags": []
   },
   "outputs": [
    {
     "name": "stderr",
     "output_type": "stream",
     "text": [
      "/opt/conda/lib/python3.10/site-packages/sklearn/neighbors/_classification.py:215: DataConversionWarning: A column-vector y was passed when a 1d array was expected. Please change the shape of y to (n_samples,), for example using ravel().\n",
      "  return self._fit(X, y)\n"
     ]
    },
    {
     "name": "stdout",
     "output_type": "stream",
     "text": [
      "KNN Model Accuracy :0.8135\n"
     ]
    }
   ],
   "source": [
    "knn=KNeighborsClassifier(n_neighbors=5)\n",
    "knn.fit(X_train_selected,Y_train_transformed)\n",
    "knn_y_pred=knn.predict(X_val_selected)\n",
    "\n",
    "knn_accuracy=accuracy_score(Y_val_transformed,knn_y_pred)\n",
    "print(f\"KNN Model Accuracy :{knn_accuracy:.4f}\")"
   ]
  },
  {
   "cell_type": "markdown",
   "id": "951a700e",
   "metadata": {
    "papermill": {
     "duration": 0.043987,
     "end_time": "2024-08-08T08:20:17.542124",
     "exception": false,
     "start_time": "2024-08-08T08:20:17.498137",
     "status": "completed"
    },
    "tags": []
   },
   "source": [
    "**The accuracy of KNN model is 0.8263**"
   ]
  },
  {
   "cell_type": "markdown",
   "id": "17b1365e",
   "metadata": {
    "papermill": {
     "duration": 0.043011,
     "end_time": "2024-08-08T08:20:17.628267",
     "exception": false,
     "start_time": "2024-08-08T08:20:17.585256",
     "status": "completed"
    },
    "tags": []
   },
   "source": [
    "**SVM**"
   ]
  },
  {
   "cell_type": "code",
   "execution_count": 67,
   "id": "2e38d5a0",
   "metadata": {
    "execution": {
     "iopub.execute_input": "2024-08-08T08:20:17.719998Z",
     "iopub.status.busy": "2024-08-08T08:20:17.719578Z",
     "iopub.status.idle": "2024-08-08T08:20:24.938159Z",
     "shell.execute_reply": "2024-08-08T08:20:24.936820Z"
    },
    "papermill": {
     "duration": 7.267618,
     "end_time": "2024-08-08T08:20:24.940693",
     "exception": false,
     "start_time": "2024-08-08T08:20:17.673075",
     "status": "completed"
    },
    "tags": []
   },
   "outputs": [
    {
     "name": "stderr",
     "output_type": "stream",
     "text": [
      "/opt/conda/lib/python3.10/site-packages/sklearn/utils/validation.py:1143: DataConversionWarning: A column-vector y was passed when a 1d array was expected. Please change the shape of y to (n_samples, ), for example using ravel().\n",
      "  y = column_or_1d(y, warn=True)\n"
     ]
    },
    {
     "name": "stdout",
     "output_type": "stream",
     "text": [
      "SVM Model Accuracy: 0.9277\n"
     ]
    }
   ],
   "source": [
    "svm=SVC(kernel='linear',random_state=42)\n",
    "svm.fit(X_train_selected,Y_train_transformed)\n",
    "svm_y_pred=svm.predict(X_val_selected)\n",
    "svm_accuracy=accuracy_score(Y_val_transformed,svm_y_pred)\n",
    "print(f\"SVM Model Accuracy: {svm_accuracy:.4f}\")"
   ]
  },
  {
   "cell_type": "markdown",
   "id": "f9e8dfdb",
   "metadata": {
    "papermill": {
     "duration": 0.043193,
     "end_time": "2024-08-08T08:20:25.028003",
     "exception": false,
     "start_time": "2024-08-08T08:20:24.984810",
     "status": "completed"
    },
    "tags": []
   },
   "source": [
    "**The accuracy of SVM model is 0.9283**"
   ]
  },
  {
   "cell_type": "markdown",
   "id": "e1bfdc05",
   "metadata": {
    "papermill": {
     "duration": 0.043654,
     "end_time": "2024-08-08T08:20:25.115262",
     "exception": false,
     "start_time": "2024-08-08T08:20:25.071608",
     "status": "completed"
    },
    "tags": []
   },
   "source": [
    "**XGBOOST**"
   ]
  },
  {
   "cell_type": "code",
   "execution_count": 68,
   "id": "20e80b8f",
   "metadata": {
    "execution": {
     "iopub.execute_input": "2024-08-08T08:20:25.204465Z",
     "iopub.status.busy": "2024-08-08T08:20:25.204072Z",
     "iopub.status.idle": "2024-08-08T08:20:27.821519Z",
     "shell.execute_reply": "2024-08-08T08:20:27.820496Z"
    },
    "papermill": {
     "duration": 2.665109,
     "end_time": "2024-08-08T08:20:27.824333",
     "exception": false,
     "start_time": "2024-08-08T08:20:25.159224",
     "status": "completed"
    },
    "tags": []
   },
   "outputs": [
    {
     "data": {
      "text/html": [
       "<style>#sk-container-id-4 {color: black;background-color: white;}#sk-container-id-4 pre{padding: 0;}#sk-container-id-4 div.sk-toggleable {background-color: white;}#sk-container-id-4 label.sk-toggleable__label {cursor: pointer;display: block;width: 100%;margin-bottom: 0;padding: 0.3em;box-sizing: border-box;text-align: center;}#sk-container-id-4 label.sk-toggleable__label-arrow:before {content: \"▸\";float: left;margin-right: 0.25em;color: #696969;}#sk-container-id-4 label.sk-toggleable__label-arrow:hover:before {color: black;}#sk-container-id-4 div.sk-estimator:hover label.sk-toggleable__label-arrow:before {color: black;}#sk-container-id-4 div.sk-toggleable__content {max-height: 0;max-width: 0;overflow: hidden;text-align: left;background-color: #f0f8ff;}#sk-container-id-4 div.sk-toggleable__content pre {margin: 0.2em;color: black;border-radius: 0.25em;background-color: #f0f8ff;}#sk-container-id-4 input.sk-toggleable__control:checked~div.sk-toggleable__content {max-height: 200px;max-width: 100%;overflow: auto;}#sk-container-id-4 input.sk-toggleable__control:checked~label.sk-toggleable__label-arrow:before {content: \"▾\";}#sk-container-id-4 div.sk-estimator input.sk-toggleable__control:checked~label.sk-toggleable__label {background-color: #d4ebff;}#sk-container-id-4 div.sk-label input.sk-toggleable__control:checked~label.sk-toggleable__label {background-color: #d4ebff;}#sk-container-id-4 input.sk-hidden--visually {border: 0;clip: rect(1px 1px 1px 1px);clip: rect(1px, 1px, 1px, 1px);height: 1px;margin: -1px;overflow: hidden;padding: 0;position: absolute;width: 1px;}#sk-container-id-4 div.sk-estimator {font-family: monospace;background-color: #f0f8ff;border: 1px dotted black;border-radius: 0.25em;box-sizing: border-box;margin-bottom: 0.5em;}#sk-container-id-4 div.sk-estimator:hover {background-color: #d4ebff;}#sk-container-id-4 div.sk-parallel-item::after {content: \"\";width: 100%;border-bottom: 1px solid gray;flex-grow: 1;}#sk-container-id-4 div.sk-label:hover label.sk-toggleable__label {background-color: #d4ebff;}#sk-container-id-4 div.sk-serial::before {content: \"\";position: absolute;border-left: 1px solid gray;box-sizing: border-box;top: 0;bottom: 0;left: 50%;z-index: 0;}#sk-container-id-4 div.sk-serial {display: flex;flex-direction: column;align-items: center;background-color: white;padding-right: 0.2em;padding-left: 0.2em;position: relative;}#sk-container-id-4 div.sk-item {position: relative;z-index: 1;}#sk-container-id-4 div.sk-parallel {display: flex;align-items: stretch;justify-content: center;background-color: white;position: relative;}#sk-container-id-4 div.sk-item::before, #sk-container-id-4 div.sk-parallel-item::before {content: \"\";position: absolute;border-left: 1px solid gray;box-sizing: border-box;top: 0;bottom: 0;left: 50%;z-index: -1;}#sk-container-id-4 div.sk-parallel-item {display: flex;flex-direction: column;z-index: 1;position: relative;background-color: white;}#sk-container-id-4 div.sk-parallel-item:first-child::after {align-self: flex-end;width: 50%;}#sk-container-id-4 div.sk-parallel-item:last-child::after {align-self: flex-start;width: 50%;}#sk-container-id-4 div.sk-parallel-item:only-child::after {width: 0;}#sk-container-id-4 div.sk-dashed-wrapped {border: 1px dashed gray;margin: 0 0.4em 0.5em 0.4em;box-sizing: border-box;padding-bottom: 0.4em;background-color: white;}#sk-container-id-4 div.sk-label label {font-family: monospace;font-weight: bold;display: inline-block;line-height: 1.2em;}#sk-container-id-4 div.sk-label-container {text-align: center;}#sk-container-id-4 div.sk-container {/* jupyter's `normalize.less` sets `[hidden] { display: none; }` but bootstrap.min.css set `[hidden] { display: none !important; }` so we also need the `!important` here to be able to override the default hidden behavior on the sphinx rendered scikit-learn.org. See: https://github.com/scikit-learn/scikit-learn/issues/21755 */display: inline-block !important;position: relative;}#sk-container-id-4 div.sk-text-repr-fallback {display: none;}</style><div id=\"sk-container-id-4\" class=\"sk-top-container\"><div class=\"sk-text-repr-fallback\"><pre>XGBClassifier(base_score=None, booster=None, callbacks=None,\n",
       "              colsample_bylevel=None, colsample_bynode=None,\n",
       "              colsample_bytree=None, device=None, early_stopping_rounds=None,\n",
       "              enable_categorical=False, eval_metric=&#x27;logloss&#x27;,\n",
       "              feature_types=None, gamma=None, grow_policy=None,\n",
       "              importance_type=None, interaction_constraints=None,\n",
       "              learning_rate=None, max_bin=None, max_cat_threshold=None,\n",
       "              max_cat_to_onehot=None, max_delta_step=None, max_depth=None,\n",
       "              max_leaves=None, min_child_weight=None, missing=nan,\n",
       "              monotone_constraints=None, multi_strategy=None, n_estimators=None,\n",
       "              n_jobs=None, num_parallel_tree=None, objective=&#x27;multi:softprob&#x27;, ...)</pre><b>In a Jupyter environment, please rerun this cell to show the HTML representation or trust the notebook. <br />On GitHub, the HTML representation is unable to render, please try loading this page with nbviewer.org.</b></div><div class=\"sk-container\" hidden><div class=\"sk-item\"><div class=\"sk-estimator sk-toggleable\"><input class=\"sk-toggleable__control sk-hidden--visually\" id=\"sk-estimator-id-12\" type=\"checkbox\" checked><label for=\"sk-estimator-id-12\" class=\"sk-toggleable__label sk-toggleable__label-arrow\">XGBClassifier</label><div class=\"sk-toggleable__content\"><pre>XGBClassifier(base_score=None, booster=None, callbacks=None,\n",
       "              colsample_bylevel=None, colsample_bynode=None,\n",
       "              colsample_bytree=None, device=None, early_stopping_rounds=None,\n",
       "              enable_categorical=False, eval_metric=&#x27;logloss&#x27;,\n",
       "              feature_types=None, gamma=None, grow_policy=None,\n",
       "              importance_type=None, interaction_constraints=None,\n",
       "              learning_rate=None, max_bin=None, max_cat_threshold=None,\n",
       "              max_cat_to_onehot=None, max_delta_step=None, max_depth=None,\n",
       "              max_leaves=None, min_child_weight=None, missing=nan,\n",
       "              monotone_constraints=None, multi_strategy=None, n_estimators=None,\n",
       "              n_jobs=None, num_parallel_tree=None, objective=&#x27;multi:softprob&#x27;, ...)</pre></div></div></div></div></div>"
      ],
      "text/plain": [
       "XGBClassifier(base_score=None, booster=None, callbacks=None,\n",
       "              colsample_bylevel=None, colsample_bynode=None,\n",
       "              colsample_bytree=None, device=None, early_stopping_rounds=None,\n",
       "              enable_categorical=False, eval_metric='logloss',\n",
       "              feature_types=None, gamma=None, grow_policy=None,\n",
       "              importance_type=None, interaction_constraints=None,\n",
       "              learning_rate=None, max_bin=None, max_cat_threshold=None,\n",
       "              max_cat_to_onehot=None, max_delta_step=None, max_depth=None,\n",
       "              max_leaves=None, min_child_weight=None, missing=nan,\n",
       "              monotone_constraints=None, multi_strategy=None, n_estimators=None,\n",
       "              n_jobs=None, num_parallel_tree=None, objective='multi:softprob', ...)"
      ]
     },
     "execution_count": 68,
     "metadata": {},
     "output_type": "execute_result"
    }
   ],
   "source": [
    "xgb=XGBClassifier(eval_metric='logloss',random_state=42)\n",
    "xgb.fit(X_train_selected,Y_train_transformed)"
   ]
  },
  {
   "cell_type": "code",
   "execution_count": 69,
   "id": "864d416c",
   "metadata": {
    "execution": {
     "iopub.execute_input": "2024-08-08T08:20:27.915060Z",
     "iopub.status.busy": "2024-08-08T08:20:27.914640Z",
     "iopub.status.idle": "2024-08-08T08:20:27.957447Z",
     "shell.execute_reply": "2024-08-08T08:20:27.955281Z"
    },
    "papermill": {
     "duration": 0.091367,
     "end_time": "2024-08-08T08:20:27.960600",
     "exception": false,
     "start_time": "2024-08-08T08:20:27.869233",
     "status": "completed"
    },
    "tags": []
   },
   "outputs": [
    {
     "name": "stdout",
     "output_type": "stream",
     "text": [
      "XGB MODEL ACCURACY: 0.9540\n"
     ]
    }
   ],
   "source": [
    "xgb_y_pred=xgb.predict(X_val_selected)\n",
    "xgb_accuracy=accuracy_score(Y_val_transformed,xgb_y_pred)\n",
    "print(f\"XGB MODEL ACCURACY: {xgb_accuracy:.4f}\")"
   ]
  },
  {
   "cell_type": "markdown",
   "id": "59bfa990",
   "metadata": {
    "papermill": {
     "duration": 0.04367,
     "end_time": "2024-08-08T08:20:28.049676",
     "exception": false,
     "start_time": "2024-08-08T08:20:28.006006",
     "status": "completed"
    },
    "tags": []
   },
   "source": [
    "**The accuracy of XGB Model is 0.9587**"
   ]
  },
  {
   "cell_type": "markdown",
   "id": "859d5764",
   "metadata": {
    "papermill": {
     "duration": 0.043811,
     "end_time": "2024-08-08T08:20:28.137527",
     "exception": false,
     "start_time": "2024-08-08T08:20:28.093716",
     "status": "completed"
    },
    "tags": []
   },
   "source": [
    "**LOGISTIC REGRESSION**"
   ]
  },
  {
   "cell_type": "code",
   "execution_count": 70,
   "id": "86272a4f",
   "metadata": {
    "execution": {
     "iopub.execute_input": "2024-08-08T08:20:28.228337Z",
     "iopub.status.busy": "2024-08-08T08:20:28.227904Z",
     "iopub.status.idle": "2024-08-08T08:20:30.997905Z",
     "shell.execute_reply": "2024-08-08T08:20:30.996710Z"
    },
    "papermill": {
     "duration": 2.81976,
     "end_time": "2024-08-08T08:20:31.002187",
     "exception": false,
     "start_time": "2024-08-08T08:20:28.182427",
     "status": "completed"
    },
    "tags": []
   },
   "outputs": [
    {
     "name": "stderr",
     "output_type": "stream",
     "text": [
      "/opt/conda/lib/python3.10/site-packages/sklearn/utils/validation.py:1143: DataConversionWarning: A column-vector y was passed when a 1d array was expected. Please change the shape of y to (n_samples, ), for example using ravel().\n",
      "  y = column_or_1d(y, warn=True)\n"
     ]
    },
    {
     "data": {
      "text/html": [
       "<style>#sk-container-id-5 {color: black;background-color: white;}#sk-container-id-5 pre{padding: 0;}#sk-container-id-5 div.sk-toggleable {background-color: white;}#sk-container-id-5 label.sk-toggleable__label {cursor: pointer;display: block;width: 100%;margin-bottom: 0;padding: 0.3em;box-sizing: border-box;text-align: center;}#sk-container-id-5 label.sk-toggleable__label-arrow:before {content: \"▸\";float: left;margin-right: 0.25em;color: #696969;}#sk-container-id-5 label.sk-toggleable__label-arrow:hover:before {color: black;}#sk-container-id-5 div.sk-estimator:hover label.sk-toggleable__label-arrow:before {color: black;}#sk-container-id-5 div.sk-toggleable__content {max-height: 0;max-width: 0;overflow: hidden;text-align: left;background-color: #f0f8ff;}#sk-container-id-5 div.sk-toggleable__content pre {margin: 0.2em;color: black;border-radius: 0.25em;background-color: #f0f8ff;}#sk-container-id-5 input.sk-toggleable__control:checked~div.sk-toggleable__content {max-height: 200px;max-width: 100%;overflow: auto;}#sk-container-id-5 input.sk-toggleable__control:checked~label.sk-toggleable__label-arrow:before {content: \"▾\";}#sk-container-id-5 div.sk-estimator input.sk-toggleable__control:checked~label.sk-toggleable__label {background-color: #d4ebff;}#sk-container-id-5 div.sk-label input.sk-toggleable__control:checked~label.sk-toggleable__label {background-color: #d4ebff;}#sk-container-id-5 input.sk-hidden--visually {border: 0;clip: rect(1px 1px 1px 1px);clip: rect(1px, 1px, 1px, 1px);height: 1px;margin: -1px;overflow: hidden;padding: 0;position: absolute;width: 1px;}#sk-container-id-5 div.sk-estimator {font-family: monospace;background-color: #f0f8ff;border: 1px dotted black;border-radius: 0.25em;box-sizing: border-box;margin-bottom: 0.5em;}#sk-container-id-5 div.sk-estimator:hover {background-color: #d4ebff;}#sk-container-id-5 div.sk-parallel-item::after {content: \"\";width: 100%;border-bottom: 1px solid gray;flex-grow: 1;}#sk-container-id-5 div.sk-label:hover label.sk-toggleable__label {background-color: #d4ebff;}#sk-container-id-5 div.sk-serial::before {content: \"\";position: absolute;border-left: 1px solid gray;box-sizing: border-box;top: 0;bottom: 0;left: 50%;z-index: 0;}#sk-container-id-5 div.sk-serial {display: flex;flex-direction: column;align-items: center;background-color: white;padding-right: 0.2em;padding-left: 0.2em;position: relative;}#sk-container-id-5 div.sk-item {position: relative;z-index: 1;}#sk-container-id-5 div.sk-parallel {display: flex;align-items: stretch;justify-content: center;background-color: white;position: relative;}#sk-container-id-5 div.sk-item::before, #sk-container-id-5 div.sk-parallel-item::before {content: \"\";position: absolute;border-left: 1px solid gray;box-sizing: border-box;top: 0;bottom: 0;left: 50%;z-index: -1;}#sk-container-id-5 div.sk-parallel-item {display: flex;flex-direction: column;z-index: 1;position: relative;background-color: white;}#sk-container-id-5 div.sk-parallel-item:first-child::after {align-self: flex-end;width: 50%;}#sk-container-id-5 div.sk-parallel-item:last-child::after {align-self: flex-start;width: 50%;}#sk-container-id-5 div.sk-parallel-item:only-child::after {width: 0;}#sk-container-id-5 div.sk-dashed-wrapped {border: 1px dashed gray;margin: 0 0.4em 0.5em 0.4em;box-sizing: border-box;padding-bottom: 0.4em;background-color: white;}#sk-container-id-5 div.sk-label label {font-family: monospace;font-weight: bold;display: inline-block;line-height: 1.2em;}#sk-container-id-5 div.sk-label-container {text-align: center;}#sk-container-id-5 div.sk-container {/* jupyter's `normalize.less` sets `[hidden] { display: none; }` but bootstrap.min.css set `[hidden] { display: none !important; }` so we also need the `!important` here to be able to override the default hidden behavior on the sphinx rendered scikit-learn.org. See: https://github.com/scikit-learn/scikit-learn/issues/21755 */display: inline-block !important;position: relative;}#sk-container-id-5 div.sk-text-repr-fallback {display: none;}</style><div id=\"sk-container-id-5\" class=\"sk-top-container\"><div class=\"sk-text-repr-fallback\"><pre>LogisticRegression(max_iter=1000, random_state=42)</pre><b>In a Jupyter environment, please rerun this cell to show the HTML representation or trust the notebook. <br />On GitHub, the HTML representation is unable to render, please try loading this page with nbviewer.org.</b></div><div class=\"sk-container\" hidden><div class=\"sk-item\"><div class=\"sk-estimator sk-toggleable\"><input class=\"sk-toggleable__control sk-hidden--visually\" id=\"sk-estimator-id-13\" type=\"checkbox\" checked><label for=\"sk-estimator-id-13\" class=\"sk-toggleable__label sk-toggleable__label-arrow\">LogisticRegression</label><div class=\"sk-toggleable__content\"><pre>LogisticRegression(max_iter=1000, random_state=42)</pre></div></div></div></div></div>"
      ],
      "text/plain": [
       "LogisticRegression(max_iter=1000, random_state=42)"
      ]
     },
     "execution_count": 70,
     "metadata": {},
     "output_type": "execute_result"
    }
   ],
   "source": [
    "lr=LogisticRegression(max_iter=1000,random_state=42)\n",
    "lr.fit(X_train_selected,Y_train_transformed)"
   ]
  },
  {
   "cell_type": "code",
   "execution_count": 71,
   "id": "fdb68591",
   "metadata": {
    "execution": {
     "iopub.execute_input": "2024-08-08T08:20:31.151673Z",
     "iopub.status.busy": "2024-08-08T08:20:31.151245Z",
     "iopub.status.idle": "2024-08-08T08:20:31.170663Z",
     "shell.execute_reply": "2024-08-08T08:20:31.168460Z"
    },
    "papermill": {
     "duration": 0.076947,
     "end_time": "2024-08-08T08:20:31.176178",
     "exception": false,
     "start_time": "2024-08-08T08:20:31.099231",
     "status": "completed"
    },
    "tags": []
   },
   "outputs": [
    {
     "name": "stdout",
     "output_type": "stream",
     "text": [
      "LOGISTIC REGRESSION MODEL ACCURACY: 0.9270\n"
     ]
    }
   ],
   "source": [
    "lr_y_pred=lr.predict(X_val_selected)\n",
    "lr_accuracy=accuracy_score(Y_val_transformed,lr_y_pred)\n",
    "print(f\"LOGISTIC REGRESSION MODEL ACCURACY: {lr_accuracy:.4f}\")"
   ]
  },
  {
   "cell_type": "markdown",
   "id": "90cbfbf7",
   "metadata": {
    "papermill": {
     "duration": 0.047211,
     "end_time": "2024-08-08T08:20:31.322036",
     "exception": false,
     "start_time": "2024-08-08T08:20:31.274825",
     "status": "completed"
    },
    "tags": []
   },
   "source": [
    "**The accuracy of Logistic Regression Model is 0.9285**"
   ]
  },
  {
   "cell_type": "markdown",
   "id": "adc34e15",
   "metadata": {
    "papermill": {
     "duration": 0.044498,
     "end_time": "2024-08-08T08:20:31.411125",
     "exception": false,
     "start_time": "2024-08-08T08:20:31.366627",
     "status": "completed"
    },
    "tags": []
   },
   "source": [
    "**RANDOMFOREST CLASSIFIER**"
   ]
  },
  {
   "cell_type": "code",
   "execution_count": 72,
   "id": "db5a7322",
   "metadata": {
    "execution": {
     "iopub.execute_input": "2024-08-08T08:20:31.502057Z",
     "iopub.status.busy": "2024-08-08T08:20:31.501637Z",
     "iopub.status.idle": "2024-08-08T08:20:34.221723Z",
     "shell.execute_reply": "2024-08-08T08:20:34.220546Z"
    },
    "papermill": {
     "duration": 2.769227,
     "end_time": "2024-08-08T08:20:34.224529",
     "exception": false,
     "start_time": "2024-08-08T08:20:31.455302",
     "status": "completed"
    },
    "tags": []
   },
   "outputs": [
    {
     "name": "stderr",
     "output_type": "stream",
     "text": [
      "/tmp/ipykernel_18/3973997739.py:2: DataConversionWarning: A column-vector y was passed when a 1d array was expected. Please change the shape of y to (n_samples,), for example using ravel().\n",
      "  rf.fit(X_train_selected,Y_train_transformed)\n"
     ]
    },
    {
     "data": {
      "text/html": [
       "<style>#sk-container-id-6 {color: black;background-color: white;}#sk-container-id-6 pre{padding: 0;}#sk-container-id-6 div.sk-toggleable {background-color: white;}#sk-container-id-6 label.sk-toggleable__label {cursor: pointer;display: block;width: 100%;margin-bottom: 0;padding: 0.3em;box-sizing: border-box;text-align: center;}#sk-container-id-6 label.sk-toggleable__label-arrow:before {content: \"▸\";float: left;margin-right: 0.25em;color: #696969;}#sk-container-id-6 label.sk-toggleable__label-arrow:hover:before {color: black;}#sk-container-id-6 div.sk-estimator:hover label.sk-toggleable__label-arrow:before {color: black;}#sk-container-id-6 div.sk-toggleable__content {max-height: 0;max-width: 0;overflow: hidden;text-align: left;background-color: #f0f8ff;}#sk-container-id-6 div.sk-toggleable__content pre {margin: 0.2em;color: black;border-radius: 0.25em;background-color: #f0f8ff;}#sk-container-id-6 input.sk-toggleable__control:checked~div.sk-toggleable__content {max-height: 200px;max-width: 100%;overflow: auto;}#sk-container-id-6 input.sk-toggleable__control:checked~label.sk-toggleable__label-arrow:before {content: \"▾\";}#sk-container-id-6 div.sk-estimator input.sk-toggleable__control:checked~label.sk-toggleable__label {background-color: #d4ebff;}#sk-container-id-6 div.sk-label input.sk-toggleable__control:checked~label.sk-toggleable__label {background-color: #d4ebff;}#sk-container-id-6 input.sk-hidden--visually {border: 0;clip: rect(1px 1px 1px 1px);clip: rect(1px, 1px, 1px, 1px);height: 1px;margin: -1px;overflow: hidden;padding: 0;position: absolute;width: 1px;}#sk-container-id-6 div.sk-estimator {font-family: monospace;background-color: #f0f8ff;border: 1px dotted black;border-radius: 0.25em;box-sizing: border-box;margin-bottom: 0.5em;}#sk-container-id-6 div.sk-estimator:hover {background-color: #d4ebff;}#sk-container-id-6 div.sk-parallel-item::after {content: \"\";width: 100%;border-bottom: 1px solid gray;flex-grow: 1;}#sk-container-id-6 div.sk-label:hover label.sk-toggleable__label {background-color: #d4ebff;}#sk-container-id-6 div.sk-serial::before {content: \"\";position: absolute;border-left: 1px solid gray;box-sizing: border-box;top: 0;bottom: 0;left: 50%;z-index: 0;}#sk-container-id-6 div.sk-serial {display: flex;flex-direction: column;align-items: center;background-color: white;padding-right: 0.2em;padding-left: 0.2em;position: relative;}#sk-container-id-6 div.sk-item {position: relative;z-index: 1;}#sk-container-id-6 div.sk-parallel {display: flex;align-items: stretch;justify-content: center;background-color: white;position: relative;}#sk-container-id-6 div.sk-item::before, #sk-container-id-6 div.sk-parallel-item::before {content: \"\";position: absolute;border-left: 1px solid gray;box-sizing: border-box;top: 0;bottom: 0;left: 50%;z-index: -1;}#sk-container-id-6 div.sk-parallel-item {display: flex;flex-direction: column;z-index: 1;position: relative;background-color: white;}#sk-container-id-6 div.sk-parallel-item:first-child::after {align-self: flex-end;width: 50%;}#sk-container-id-6 div.sk-parallel-item:last-child::after {align-self: flex-start;width: 50%;}#sk-container-id-6 div.sk-parallel-item:only-child::after {width: 0;}#sk-container-id-6 div.sk-dashed-wrapped {border: 1px dashed gray;margin: 0 0.4em 0.5em 0.4em;box-sizing: border-box;padding-bottom: 0.4em;background-color: white;}#sk-container-id-6 div.sk-label label {font-family: monospace;font-weight: bold;display: inline-block;line-height: 1.2em;}#sk-container-id-6 div.sk-label-container {text-align: center;}#sk-container-id-6 div.sk-container {/* jupyter's `normalize.less` sets `[hidden] { display: none; }` but bootstrap.min.css set `[hidden] { display: none !important; }` so we also need the `!important` here to be able to override the default hidden behavior on the sphinx rendered scikit-learn.org. See: https://github.com/scikit-learn/scikit-learn/issues/21755 */display: inline-block !important;position: relative;}#sk-container-id-6 div.sk-text-repr-fallback {display: none;}</style><div id=\"sk-container-id-6\" class=\"sk-top-container\"><div class=\"sk-text-repr-fallback\"><pre>RandomForestClassifier(random_state=42)</pre><b>In a Jupyter environment, please rerun this cell to show the HTML representation or trust the notebook. <br />On GitHub, the HTML representation is unable to render, please try loading this page with nbviewer.org.</b></div><div class=\"sk-container\" hidden><div class=\"sk-item\"><div class=\"sk-estimator sk-toggleable\"><input class=\"sk-toggleable__control sk-hidden--visually\" id=\"sk-estimator-id-14\" type=\"checkbox\" checked><label for=\"sk-estimator-id-14\" class=\"sk-toggleable__label sk-toggleable__label-arrow\">RandomForestClassifier</label><div class=\"sk-toggleable__content\"><pre>RandomForestClassifier(random_state=42)</pre></div></div></div></div></div>"
      ],
      "text/plain": [
       "RandomForestClassifier(random_state=42)"
      ]
     },
     "execution_count": 72,
     "metadata": {},
     "output_type": "execute_result"
    }
   ],
   "source": [
    "rf=RandomForestClassifier(n_estimators=100,random_state=42)\n",
    "rf.fit(X_train_selected,Y_train_transformed)"
   ]
  },
  {
   "cell_type": "code",
   "execution_count": 73,
   "id": "2b66d534",
   "metadata": {
    "execution": {
     "iopub.execute_input": "2024-08-08T08:20:34.319221Z",
     "iopub.status.busy": "2024-08-08T08:20:34.318782Z",
     "iopub.status.idle": "2024-08-08T08:20:34.423225Z",
     "shell.execute_reply": "2024-08-08T08:20:34.422019Z"
    },
    "papermill": {
     "duration": 0.15579,
     "end_time": "2024-08-08T08:20:34.426033",
     "exception": false,
     "start_time": "2024-08-08T08:20:34.270243",
     "status": "completed"
    },
    "tags": []
   },
   "outputs": [
    {
     "name": "stdout",
     "output_type": "stream",
     "text": [
      "RANDOM FOREST MODEL ACCURACY: 0.9490\n"
     ]
    }
   ],
   "source": [
    "rf_y_pred=rf.predict(X_val_selected)\n",
    "rf_accuracy=accuracy_score(Y_val_transformed,rf_y_pred)\n",
    "print(f\"RANDOM FOREST MODEL ACCURACY: {rf_accuracy:.4f}\")"
   ]
  },
  {
   "cell_type": "markdown",
   "id": "224d343d",
   "metadata": {
    "papermill": {
     "duration": 0.044736,
     "end_time": "2024-08-08T08:20:34.515486",
     "exception": false,
     "start_time": "2024-08-08T08:20:34.470750",
     "status": "completed"
    },
    "tags": []
   },
   "source": [
    "**The accuracy of Random Forest Model is 0.9485**"
   ]
  },
  {
   "cell_type": "markdown",
   "id": "5c5d81dc",
   "metadata": {
    "papermill": {
     "duration": 0.045035,
     "end_time": "2024-08-08T08:20:34.605158",
     "exception": false,
     "start_time": "2024-08-08T08:20:34.560123",
     "status": "completed"
    },
    "tags": []
   },
   "source": [
    "**The following are the accuracies of all the models that were used in the project**\n",
    "*\n",
    "* **Decision Tree                0.9195**\n",
    "* **KNN model                    0.8263**\n",
    "* **SVM model                    0.9283**\n",
    "* **XGB Model                    0.9587**\n",
    "* **Logistic Regression Model    0.9285**\n",
    "* **Random Forest Model          0.9485**\n",
    "\n",
    "**THE HIGHEST ACCURACY IS ACHIEVED BY XGB Model with 0.9587**"
   ]
  },
  {
   "cell_type": "code",
   "execution_count": 74,
   "id": "a2b1cee3",
   "metadata": {
    "execution": {
     "iopub.execute_input": "2024-08-08T08:20:34.701080Z",
     "iopub.status.busy": "2024-08-08T08:20:34.700640Z",
     "iopub.status.idle": "2024-08-08T08:20:45.764478Z",
     "shell.execute_reply": "2024-08-08T08:20:45.763514Z"
    },
    "papermill": {
     "duration": 11.117056,
     "end_time": "2024-08-08T08:20:45.767298",
     "exception": false,
     "start_time": "2024-08-08T08:20:34.650242",
     "status": "completed"
    },
    "tags": []
   },
   "outputs": [
    {
     "name": "stdout",
     "output_type": "stream",
     "text": [
      "Cross-validation scores: [0.9475    0.94375   0.945625  0.9490625 0.94875  ]\n",
      "Mean cross-validation score: 0.9469375\n"
     ]
    }
   ],
   "source": [
    "from xgboost import XGBClassifier\n",
    "from sklearn.model_selection import cross_val_score\n",
    "\n",
    "# Initialize XGBoost classifier\n",
    "xgb_classifier = XGBClassifier(n_estimators=100, random_state=42)\n",
    "\n",
    "# Perform cross-validation\n",
    "scores = cross_val_score(xgb_classifier, X_train_selected,Y_train_transformed, cv=5, scoring='accuracy')\n",
    "\n",
    "# Print cross-validation scores\n",
    "print(\"Cross-validation scores:\", scores)\n",
    "print(\"Mean cross-validation score:\", scores.mean())\n"
   ]
  },
  {
   "cell_type": "markdown",
   "id": "b71a99e9",
   "metadata": {
    "papermill": {
     "duration": 0.04509,
     "end_time": "2024-08-08T08:20:45.857621",
     "exception": false,
     "start_time": "2024-08-08T08:20:45.812531",
     "status": "completed"
    },
    "tags": []
   },
   "source": [
    "**HYPERPARAMETER TUNING**"
   ]
  },
  {
   "cell_type": "code",
   "execution_count": 75,
   "id": "6ced33ea",
   "metadata": {
    "execution": {
     "iopub.execute_input": "2024-08-08T08:20:45.950771Z",
     "iopub.status.busy": "2024-08-08T08:20:45.950365Z",
     "iopub.status.idle": "2024-08-08T08:20:45.955917Z",
     "shell.execute_reply": "2024-08-08T08:20:45.954683Z"
    },
    "papermill": {
     "duration": 0.054754,
     "end_time": "2024-08-08T08:20:45.958504",
     "exception": false,
     "start_time": "2024-08-08T08:20:45.903750",
     "status": "completed"
    },
    "tags": []
   },
   "outputs": [],
   "source": [
    "# from sklearn.model_selection import RandomizedSearchCV\n",
    "\n",
    "# param_dist = {\n",
    "#     'n_estimators': [400, 500,600,700,800],\n",
    "#     'max_depth': [4, 5, 6, 7, 8, 9],\n",
    "#     'learning_rate': [0.01, 0.05, 0.1, 0.2],\n",
    "#     'subsample': [0.7, 0.8, 0.9, 1.0],\n",
    "#     'colsample_bytree': [0.6, 0.8, 1.0],\n",
    "#     'min_child_weight': [1, 2, 3, 4, 5]\n",
    "# }\n",
    "\n",
    "# random_search = RandomizedSearchCV(XGBClassifier(random_state=42), param_distributions=param_dist, n_iter=50, cv=3, scoring='accuracy', n_jobs=-1, random_state=42)\n",
    "# random_search.fit(X_train_selected,Y_train_transformed)\n",
    "# print(\"Best parameters found: \", random_search.best_params_)\n",
    "# print(\"Best cross-validation score: \", random_search.best_score_)\n"
   ]
  },
  {
   "cell_type": "code",
   "execution_count": 76,
   "id": "ee5350c1",
   "metadata": {
    "execution": {
     "iopub.execute_input": "2024-08-08T08:20:46.051257Z",
     "iopub.status.busy": "2024-08-08T08:20:46.050835Z",
     "iopub.status.idle": "2024-08-08T08:20:46.056523Z",
     "shell.execute_reply": "2024-08-08T08:20:46.055092Z"
    },
    "papermill": {
     "duration": 0.055483,
     "end_time": "2024-08-08T08:20:46.059610",
     "exception": false,
     "start_time": "2024-08-08T08:20:46.004127",
     "status": "completed"
    },
    "tags": []
   },
   "outputs": [],
   "source": [
    "# best_model_xgb = random_search.best_estimator_\n",
    "# y_val_pred = best_model_xgb.predict(X_val_selected)\n",
    "\n",
    "# print(\"Validation Classification Report:\\n\", classification_report(Y_val_transformed, y_val_pred))\n",
    "# print(\"Validation Confusion Matrix:\\n\", confusion_matrix(Y_val_transformed, y_val_pred))"
   ]
  },
  {
   "cell_type": "code",
   "execution_count": null,
   "id": "0e9274dc",
   "metadata": {
    "papermill": {
     "duration": 0.044615,
     "end_time": "2024-08-08T08:20:46.148959",
     "exception": false,
     "start_time": "2024-08-08T08:20:46.104344",
     "status": "completed"
    },
    "tags": []
   },
   "outputs": [],
   "source": []
  },
  {
   "cell_type": "code",
   "execution_count": 77,
   "id": "1518e0e4",
   "metadata": {
    "execution": {
     "iopub.execute_input": "2024-08-08T08:20:46.240461Z",
     "iopub.status.busy": "2024-08-08T08:20:46.240053Z",
     "iopub.status.idle": "2024-08-08T08:20:46.245085Z",
     "shell.execute_reply": "2024-08-08T08:20:46.243842Z"
    },
    "papermill": {
     "duration": 0.053846,
     "end_time": "2024-08-08T08:20:46.247557",
     "exception": false,
     "start_time": "2024-08-08T08:20:46.193711",
     "status": "completed"
    },
    "tags": []
   },
   "outputs": [],
   "source": [
    "# y_test_pred=best_model_xgb.predict(X_test_selected)\n"
   ]
  },
  {
   "cell_type": "code",
   "execution_count": null,
   "id": "431aefb1",
   "metadata": {
    "papermill": {
     "duration": 0.04476,
     "end_time": "2024-08-08T08:20:46.337302",
     "exception": false,
     "start_time": "2024-08-08T08:20:46.292542",
     "status": "completed"
    },
    "tags": []
   },
   "outputs": [],
   "source": []
  },
  {
   "cell_type": "code",
   "execution_count": null,
   "id": "cb120393",
   "metadata": {
    "papermill": {
     "duration": 0.044397,
     "end_time": "2024-08-08T08:20:46.429277",
     "exception": false,
     "start_time": "2024-08-08T08:20:46.384880",
     "status": "completed"
    },
    "tags": []
   },
   "outputs": [],
   "source": []
  },
  {
   "cell_type": "code",
   "execution_count": null,
   "id": "43590092",
   "metadata": {
    "papermill": {
     "duration": 0.045269,
     "end_time": "2024-08-08T08:20:46.519415",
     "exception": false,
     "start_time": "2024-08-08T08:20:46.474146",
     "status": "completed"
    },
    "tags": []
   },
   "outputs": [],
   "source": []
  },
  {
   "cell_type": "code",
   "execution_count": 78,
   "id": "fe5a535c",
   "metadata": {
    "execution": {
     "iopub.execute_input": "2024-08-08T08:20:46.611420Z",
     "iopub.status.busy": "2024-08-08T08:20:46.611020Z",
     "iopub.status.idle": "2024-08-08T08:20:46.652102Z",
     "shell.execute_reply": "2024-08-08T08:20:46.651195Z"
    },
    "papermill": {
     "duration": 0.090563,
     "end_time": "2024-08-08T08:20:46.654738",
     "exception": false,
     "start_time": "2024-08-08T08:20:46.564175",
     "status": "completed"
    },
    "tags": []
   },
   "outputs": [],
   "source": [
    "y_test_pred=xgb.predict(X_test_selected)\n"
   ]
  },
  {
   "cell_type": "code",
   "execution_count": 79,
   "id": "22390b6b",
   "metadata": {
    "execution": {
     "iopub.execute_input": "2024-08-08T08:20:46.750113Z",
     "iopub.status.busy": "2024-08-08T08:20:46.749674Z",
     "iopub.status.idle": "2024-08-08T08:20:46.755829Z",
     "shell.execute_reply": "2024-08-08T08:20:46.754641Z"
    },
    "papermill": {
     "duration": 0.055629,
     "end_time": "2024-08-08T08:20:46.758531",
     "exception": false,
     "start_time": "2024-08-08T08:20:46.702902",
     "status": "completed"
    },
    "tags": []
   },
   "outputs": [],
   "source": [
    "# from sklearn.model_selection import cross_val_score\n",
    "\n",
    "# # Cross-validation for XGBoost\n",
    "# xgb = XGBClassifier(use_label_encoder=False, eval_metric='logloss', random_state=42)\n",
    "# scores = cross_val_score(xgb, X_train_selected,Y_train_transformed, cv=5, scoring='accuracy')\n",
    "# print(f'XGBoost Cross-Validation Accuracy: {scores.mean()}')\n",
    "\n",
    "# # Cross-validation for Random Forest\n",
    "# rf = RandomForestClassifier(random_state=42, class_weight='balanced')\n",
    "# scores = cross_val_score(rf, X_train_selected,Y_train_transformed, cv=5, scoring='accuracy')\n",
    "# print(f'Random Forest Cross-Validation Accuracy: {scores.mean()}')\n",
    "\n",
    "# # Cross-validation for Logistic Regression\n",
    "# lr = LogisticRegression(random_state=42, class_weight='balanced', max_iter=1000)\n",
    "# scores = cross_val_score(lr, X_train_selected,Y_train_transformed, cv=5, scoring='accuracy')\n",
    "# print(f'Logistic Regression Cross-Validation Accuracy: {scores.mean()}')\n"
   ]
  },
  {
   "cell_type": "code",
   "execution_count": 80,
   "id": "713ce5e8",
   "metadata": {
    "execution": {
     "iopub.execute_input": "2024-08-08T08:20:46.850477Z",
     "iopub.status.busy": "2024-08-08T08:20:46.850054Z",
     "iopub.status.idle": "2024-08-08T08:20:46.859332Z",
     "shell.execute_reply": "2024-08-08T08:20:46.858160Z"
    },
    "papermill": {
     "duration": 0.058204,
     "end_time": "2024-08-08T08:20:46.861882",
     "exception": false,
     "start_time": "2024-08-08T08:20:46.803678",
     "status": "completed"
    },
    "tags": []
   },
   "outputs": [
    {
     "data": {
      "text/plain": [
       "array(['Violent Crimes', 'Property Crimes',\n",
       "       'Fraud and White-Collar Crimes', ..., 'Violent Crimes',\n",
       "       'Violent Crimes', 'Property Crimes'], dtype=object)"
      ]
     },
     "execution_count": 80,
     "metadata": {},
     "output_type": "execute_result"
    }
   ],
   "source": [
    "label_encoder=joblib.load('label_encoder.pkl')\n",
    "xgb_test_pred_reverse=label_encoder.inverse_transform(y_test_pred)\n",
    "xgb_test_pred_reverse"
   ]
  },
  {
   "cell_type": "code",
   "execution_count": 81,
   "id": "86b96fd7",
   "metadata": {
    "execution": {
     "iopub.execute_input": "2024-08-08T08:20:46.954336Z",
     "iopub.status.busy": "2024-08-08T08:20:46.953930Z",
     "iopub.status.idle": "2024-08-08T08:20:46.974079Z",
     "shell.execute_reply": "2024-08-08T08:20:46.973061Z"
    },
    "papermill": {
     "duration": 0.06954,
     "end_time": "2024-08-08T08:20:46.976866",
     "exception": false,
     "start_time": "2024-08-08T08:20:46.907326",
     "status": "completed"
    },
    "tags": []
   },
   "outputs": [],
   "source": [
    "test_data.reset_index(drop=True,inplace=True)\n",
    "mysubmission=pd.DataFrame({'ID':test_data.index+1, 'Crime_Category':xgb_test_pred_reverse})\n",
    "mysubmission.to_csv('submission.csv',index=False)\n",
    "# mysubmission.head()\n"
   ]
  }
 ],
 "metadata": {
  "kaggle": {
   "accelerator": "none",
   "dataSources": [
    {
     "databundleVersionId": 8446444,
     "sourceId": 77420,
     "sourceType": "competition"
    }
   ],
   "dockerImageVersionId": 30732,
   "isGpuEnabled": false,
   "isInternetEnabled": true,
   "language": "python",
   "sourceType": "notebook"
  },
  "kernelspec": {
   "display_name": "Python 3",
   "language": "python",
   "name": "python3"
  },
  "language_info": {
   "codemirror_mode": {
    "name": "ipython",
    "version": 3
   },
   "file_extension": ".py",
   "mimetype": "text/x-python",
   "name": "python",
   "nbconvert_exporter": "python",
   "pygments_lexer": "ipython3",
   "version": "3.10.13"
  },
  "papermill": {
   "default_parameters": {},
   "duration": 55.428195,
   "end_time": "2024-08-08T08:20:47.743869",
   "environment_variables": {},
   "exception": null,
   "input_path": "__notebook__.ipynb",
   "output_path": "__notebook__.ipynb",
   "parameters": {},
   "start_time": "2024-08-08T08:19:52.315674",
   "version": "2.5.0"
  }
 },
 "nbformat": 4,
 "nbformat_minor": 5
}
